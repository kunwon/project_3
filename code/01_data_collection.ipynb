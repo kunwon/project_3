{
 "metadata": {
  "language_info": {
   "codemirror_mode": {
    "name": "ipython",
    "version": 3
   },
   "file_extension": ".py",
   "mimetype": "text/x-python",
   "name": "python",
   "nbconvert_exporter": "python",
   "pygments_lexer": "ipython3",
   "version": "3.8.5-final"
  },
  "orig_nbformat": 2,
  "kernelspec": {
   "name": "python385jvsc74a57bd0dca0ade3e726a953b501b15e8e990130d2b7799f14cfd9f4271676035ebe5511",
   "display_name": "Python 3.8.5 64-bit ('base': conda)"
  }
 },
 "nbformat": 4,
 "nbformat_minor": 2,
 "cells": [
  {
   "source": [
    "# Data Collection"
   ],
   "cell_type": "markdown",
   "metadata": {}
  },
  {
   "cell_type": "code",
   "execution_count": 59,
   "metadata": {},
   "outputs": [],
   "source": [
    "import numpy as np\n",
    "import pandas as pd\n",
    "import requests\n",
    "from time import sleep\n",
    "from random import randint\n",
    "pd.set_option('display.max_columns', None)"
   ]
  },
  {
   "source": [
    "We will use Pushshift API to scrape data from r/googlehome and r/amazonecho. "
   ],
   "cell_type": "markdown",
   "metadata": {}
  },
  {
   "cell_type": "code",
   "execution_count": 4,
   "metadata": {},
   "outputs": [],
   "source": [
    "# Set URL for Pushshift API\n",
    "url = 'https://api.pushshift.io/reddit/search/submission'"
   ]
  },
  {
   "cell_type": "code",
   "execution_count": 49,
   "metadata": {},
   "outputs": [
    {
     "output_type": "stream",
     "name": "stdout",
     "text": [
      "(100, 74)\n",
      "(200, 78)\n",
      "(300, 79)\n",
      "(400, 80)\n",
      "(500, 80)\n",
      "(600, 81)\n",
      "(700, 81)\n",
      "(800, 81)\n",
      "(900, 81)\n",
      "(1000, 81)\n",
      "(1100, 81)\n",
      "(1200, 81)\n",
      "(1300, 83)\n",
      "(1400, 83)\n",
      "(1500, 83)\n",
      "(1600, 83)\n",
      "(1700, 83)\n",
      "(1800, 83)\n",
      "(1900, 83)\n",
      "(2000, 83)\n",
      "(2100, 84)\n",
      "(2200, 84)\n",
      "(2300, 84)\n",
      "(2400, 84)\n",
      "(2500, 84)\n",
      "(2600, 84)\n",
      "(2700, 84)\n",
      "(2800, 84)\n",
      "(2900, 84)\n",
      "(3000, 84)\n"
     ]
    }
   ],
   "source": [
    "# Scrape data from r/googlehome\n",
    "params_ghome = {\n",
    "    'subreddit': 'googlehome',\n",
    "    'size': 100, # Set max size to 100 posts per scrape\n",
    "    'before': None # Set time of post scraped to most recent\n",
    "}\n",
    "df_ghome = pd.DataFrame() # Set up dataframe to store data   \n",
    "for i in range(30): # Set for loop to automate getting 3000 posts \n",
    "    res = requests.get(url,params_ghome)        \n",
    "    data = res.json()['data'] # Store json data                       \n",
    "    data = pd.DataFrame(data) # Convert json data to dataframe     \n",
    "    df_ghome = pd.concat([df_ghome,data],axis=0) # Add latest request data to existing dataframe\n",
    "    df_ghome.reset_index(drop=True,inplace=True) \n",
    "    params_ghome['before'] = df_ghome['created_utc'][len(df_ghome)-1] # Set next request to scrape posts before the oldest post in the dataframe\n",
    "    sleep(randint(10,100)) # Time between requests\n",
    "    print(df_ghome.shape)"
   ]
  },
  {
   "cell_type": "code",
   "execution_count": 52,
   "metadata": {},
   "outputs": [
    {
     "output_type": "execute_result",
     "data": {
      "text/plain": [
       "     all_awardings  allow_live_comments                author  \\\n",
       "2995            []                False  FirefighterAfter2758   \n",
       "2996            []                False          More-Act1168   \n",
       "2997            []                False        itsjameswatson   \n",
       "2998            []                False  IndividualJunket3624   \n",
       "2999            []                False  SomewhereBrilliant26   \n",
       "\n",
       "     author_flair_css_class author_flair_richtext       author_flair_text  \\\n",
       "2995                   None                    []                    None   \n",
       "2996                   None                    []                    None   \n",
       "2997                   None                    []  Google Mini (1st Gen)    \n",
       "2998                   None                    []                    None   \n",
       "2999                   None                    []                    None   \n",
       "\n",
       "     author_flair_type author_fullname author_patreon_flair author_premium  \\\n",
       "2995              text     t2_8pj2do9b                False          False   \n",
       "2996              text     t2_8piqwabd                False          False   \n",
       "2997              text     t2_7pyedmhu                False          False   \n",
       "2998              text     t2_8pixtbl9                False          False   \n",
       "2999              text     t2_8pihbc3v                False          False   \n",
       "\n",
       "     awarders  can_mod_post  contest_mode  created_utc             domain  \\\n",
       "2995       []         False         False   1610395831    reviewsfund.com   \n",
       "2996       []         False         False   1610395645    reviewsfund.com   \n",
       "2997       []         False         False   1610395572    self.googlehome   \n",
       "2998       []         False         False   1610395410  usareviewshop.com   \n",
       "2999       []         False         False   1610395173    reviewsfund.com   \n",
       "\n",
       "                                              full_link gildings      id  \\\n",
       "2995  https://www.reddit.com/r/googlehome/comments/k...       {}  kvawfm   \n",
       "2996  https://www.reddit.com/r/googlehome/comments/k...       {}  kvatz5   \n",
       "2997  https://www.reddit.com/r/googlehome/comments/k...       {}  kvat1u   \n",
       "2998  https://www.reddit.com/r/googlehome/comments/k...       {}  kvaqvv   \n",
       "2999  https://www.reddit.com/r/googlehome/comments/k...       {}  kvaney   \n",
       "\n",
       "      is_crosspostable  is_meta  is_original_content  is_reddit_media_domain  \\\n",
       "2995             False    False                False                   False   \n",
       "2996             False    False                False                   False   \n",
       "2997              True    False                False                   False   \n",
       "2998             False    False                False                   False   \n",
       "2999             False    False                False                   False   \n",
       "\n",
       "      is_robot_indexable  is_self  is_video link_flair_background_color  \\\n",
       "2995               False    False     False                               \n",
       "2996               False    False     False                               \n",
       "2997                True     True     False                               \n",
       "2998               False    False     False                               \n",
       "2999               False    False     False                               \n",
       "\n",
       "     link_flair_richtext link_flair_template_id link_flair_text  \\\n",
       "2995                  []                    NaN             NaN   \n",
       "2996                  []                    NaN             NaN   \n",
       "2997                  []                    NaN             NaN   \n",
       "2998                  []                    NaN             NaN   \n",
       "2999                  []                    NaN             NaN   \n",
       "\n",
       "     link_flair_text_color link_flair_type  locked  media_only  no_follow  \\\n",
       "2995                  dark            text   False       False       True   \n",
       "2996                  dark            text   False       False       True   \n",
       "2997                  dark            text   False       False       True   \n",
       "2998                  dark            text   False       False       True   \n",
       "2999                  dark            text   False       False       True   \n",
       "\n",
       "      num_comments  num_crossposts  over_18 parent_whitelist_status  \\\n",
       "2995             0               0    False                 all_ads   \n",
       "2996             0               0    False                 all_ads   \n",
       "2997             6               0    False                 all_ads   \n",
       "2998             0               0    False                 all_ads   \n",
       "2999             0               0    False                 all_ads   \n",
       "\n",
       "                                              permalink  pinned post_hint  \\\n",
       "2995  /r/googlehome/comments/kvawfm/buy_trustpilot_r...   False      link   \n",
       "2996  /r/googlehome/comments/kvatz5/buy_trustpilot_r...   False      link   \n",
       "2997       /r/googlehome/comments/kvat1u/smart_buttons/   False       NaN   \n",
       "2998  /r/googlehome/comments/kvaqvv/buy_verified_cas...   False      link   \n",
       "2999  /r/googlehome/comments/kvaney/buy_trustpilot_r...   False      link   \n",
       "\n",
       "                                                preview  pwls  retrieved_on  \\\n",
       "2995  {'enabled': False, 'images': [{'id': '2e2e1cXm...     6    1610396668   \n",
       "2996  {'enabled': False, 'images': [{'id': '2e2e1cXm...     6    1610396467   \n",
       "2997                                                NaN     6    1610396396   \n",
       "2998  {'enabled': False, 'images': [{'id': 'XxtyKG5v...     6    1610396240   \n",
       "2999  {'enabled': False, 'images': [{'id': '2e2e1cXm...     6    1610395988   \n",
       "\n",
       "      score                                           selftext  send_replies  \\\n",
       "2995      1                                                             True   \n",
       "2996      1                                                             True   \n",
       "2997      1  Anyone know any smart buttons on amazon that w...          True   \n",
       "2998      1                                                             True   \n",
       "2999      1                                                             True   \n",
       "\n",
       "      spoiler  stickied   subreddit subreddit_id  subreddit_subscribers  \\\n",
       "2995    False     False  googlehome     t5_3enp4                 284468   \n",
       "2996    False     False  googlehome     t5_3enp4                 284467   \n",
       "2997    False     False  googlehome     t5_3enp4                 284467   \n",
       "2998    False     False  googlehome     t5_3enp4                 284466   \n",
       "2999    False     False  googlehome     t5_3enp4                 284466   \n",
       "\n",
       "     subreddit_type                                          thumbnail  \\\n",
       "2995         public  https://b.thumbs.redditmedia.com/yF22-q2CYE_fo...   \n",
       "2996         public  https://b.thumbs.redditmedia.com/yF22-q2CYE_fo...   \n",
       "2997         public                                               self   \n",
       "2998         public  https://b.thumbs.redditmedia.com/DTdahp7FhjnKd...   \n",
       "2999         public  https://b.thumbs.redditmedia.com/yF22-q2CYE_fo...   \n",
       "\n",
       "      thumbnail_height  thumbnail_width  \\\n",
       "2995             140.0            140.0   \n",
       "2996             140.0            140.0   \n",
       "2997               NaN              NaN   \n",
       "2998             140.0            140.0   \n",
       "2999             140.0            140.0   \n",
       "\n",
       "                                                  title  \\\n",
       "2995  Buy Trustpilot Reviews - 100% Permanent USA, U...   \n",
       "2996  Buy Trustpilot Reviews - 100% Permanent USA, U...   \n",
       "2997                                      Smart Buttons   \n",
       "2998  Buy Verified Cash App Accounts - Full Verified...   \n",
       "2999  Buy Trustpilot Reviews - 100% Permanent USA, U...   \n",
       "\n",
       "      total_awards_received treatment_tags  upvote_ratio  \\\n",
       "2995                      0             []           1.0   \n",
       "2996                      0             []           1.0   \n",
       "2997                      0             []           1.0   \n",
       "2998                      0             []           1.0   \n",
       "2999                      0             []           1.0   \n",
       "\n",
       "                                                    url  \\\n",
       "2995  https://reviewsfund.com/product/buy-trustpilot...   \n",
       "2996  https://reviewsfund.com/product/buy-trustpilot...   \n",
       "2997  https://www.reddit.com/r/googlehome/comments/k...   \n",
       "2998  https://usareviewshop.com/product/buy-verified...   \n",
       "2999  https://reviewsfund.com/product/buy-trustpilot...   \n",
       "\n",
       "                                 url_overridden_by_dest whitelist_status  wls  \\\n",
       "2995  https://reviewsfund.com/product/buy-trustpilot...          all_ads    6   \n",
       "2996  https://reviewsfund.com/product/buy-trustpilot...          all_ads    6   \n",
       "2997                                                NaN          all_ads    6   \n",
       "2998  https://usareviewshop.com/product/buy-verified...          all_ads    6   \n",
       "2999  https://reviewsfund.com/product/buy-trustpilot...          all_ads    6   \n",
       "\n",
       "     gallery_data is_gallery media_metadata media media_embed  \\\n",
       "2995          NaN        NaN            NaN   NaN         NaN   \n",
       "2996          NaN        NaN            NaN   NaN         NaN   \n",
       "2997          NaN        NaN            NaN   NaN         NaN   \n",
       "2998          NaN        NaN            NaN   NaN         NaN   \n",
       "2999          NaN        NaN            NaN   NaN         NaN   \n",
       "\n",
       "     removed_by_category secure_media secure_media_embed crosspost_parent  \\\n",
       "2995           moderator          NaN                NaN              NaN   \n",
       "2996           moderator          NaN                NaN              NaN   \n",
       "2997                 NaN          NaN                NaN              NaN   \n",
       "2998              reddit          NaN                NaN              NaN   \n",
       "2999           moderator          NaN                NaN              NaN   \n",
       "\n",
       "     crosspost_parent_list author_flair_background_color  \\\n",
       "2995                   NaN                           NaN   \n",
       "2996                   NaN                           NaN   \n",
       "2997                   NaN                       #dadada   \n",
       "2998                   NaN                           NaN   \n",
       "2999                   NaN                           NaN   \n",
       "\n",
       "     author_flair_text_color              author_flair_template_id  \\\n",
       "2995                     NaN                                   NaN   \n",
       "2996                     NaN                                   NaN   \n",
       "2997                    dark  a1746808-5be6-11ea-8d4c-0e35ac17e385   \n",
       "2998                     NaN                                   NaN   \n",
       "2999                     NaN                                   NaN   \n",
       "\n",
       "     author_cakeday poll_data  edited collections banned_by  gilded  \\\n",
       "2995            NaN       NaN     NaN         NaN       NaN     NaN   \n",
       "2996            NaN       NaN     NaN         NaN       NaN     NaN   \n",
       "2997            NaN       NaN     NaN         NaN       NaN     NaN   \n",
       "2998            NaN       NaN     NaN         NaN       NaN     NaN   \n",
       "2999            NaN       NaN     NaN         NaN       NaN     NaN   \n",
       "\n",
       "     distinguished  \n",
       "2995           NaN  \n",
       "2996           NaN  \n",
       "2997           NaN  \n",
       "2998           NaN  \n",
       "2999           NaN  "
      ],
      "text/html": "<div>\n<style scoped>\n    .dataframe tbody tr th:only-of-type {\n        vertical-align: middle;\n    }\n\n    .dataframe tbody tr th {\n        vertical-align: top;\n    }\n\n    .dataframe thead th {\n        text-align: right;\n    }\n</style>\n<table border=\"1\" class=\"dataframe\">\n  <thead>\n    <tr style=\"text-align: right;\">\n      <th></th>\n      <th>all_awardings</th>\n      <th>allow_live_comments</th>\n      <th>author</th>\n      <th>author_flair_css_class</th>\n      <th>author_flair_richtext</th>\n      <th>author_flair_text</th>\n      <th>author_flair_type</th>\n      <th>author_fullname</th>\n      <th>author_patreon_flair</th>\n      <th>author_premium</th>\n      <th>awarders</th>\n      <th>can_mod_post</th>\n      <th>contest_mode</th>\n      <th>created_utc</th>\n      <th>domain</th>\n      <th>full_link</th>\n      <th>gildings</th>\n      <th>id</th>\n      <th>is_crosspostable</th>\n      <th>is_meta</th>\n      <th>is_original_content</th>\n      <th>is_reddit_media_domain</th>\n      <th>is_robot_indexable</th>\n      <th>is_self</th>\n      <th>is_video</th>\n      <th>link_flair_background_color</th>\n      <th>link_flair_richtext</th>\n      <th>link_flair_template_id</th>\n      <th>link_flair_text</th>\n      <th>link_flair_text_color</th>\n      <th>link_flair_type</th>\n      <th>locked</th>\n      <th>media_only</th>\n      <th>no_follow</th>\n      <th>num_comments</th>\n      <th>num_crossposts</th>\n      <th>over_18</th>\n      <th>parent_whitelist_status</th>\n      <th>permalink</th>\n      <th>pinned</th>\n      <th>post_hint</th>\n      <th>preview</th>\n      <th>pwls</th>\n      <th>retrieved_on</th>\n      <th>score</th>\n      <th>selftext</th>\n      <th>send_replies</th>\n      <th>spoiler</th>\n      <th>stickied</th>\n      <th>subreddit</th>\n      <th>subreddit_id</th>\n      <th>subreddit_subscribers</th>\n      <th>subreddit_type</th>\n      <th>thumbnail</th>\n      <th>thumbnail_height</th>\n      <th>thumbnail_width</th>\n      <th>title</th>\n      <th>total_awards_received</th>\n      <th>treatment_tags</th>\n      <th>upvote_ratio</th>\n      <th>url</th>\n      <th>url_overridden_by_dest</th>\n      <th>whitelist_status</th>\n      <th>wls</th>\n      <th>gallery_data</th>\n      <th>is_gallery</th>\n      <th>media_metadata</th>\n      <th>media</th>\n      <th>media_embed</th>\n      <th>removed_by_category</th>\n      <th>secure_media</th>\n      <th>secure_media_embed</th>\n      <th>crosspost_parent</th>\n      <th>crosspost_parent_list</th>\n      <th>author_flair_background_color</th>\n      <th>author_flair_text_color</th>\n      <th>author_flair_template_id</th>\n      <th>author_cakeday</th>\n      <th>poll_data</th>\n      <th>edited</th>\n      <th>collections</th>\n      <th>banned_by</th>\n      <th>gilded</th>\n      <th>distinguished</th>\n    </tr>\n  </thead>\n  <tbody>\n    <tr>\n      <th>2995</th>\n      <td>[]</td>\n      <td>False</td>\n      <td>FirefighterAfter2758</td>\n      <td>None</td>\n      <td>[]</td>\n      <td>None</td>\n      <td>text</td>\n      <td>t2_8pj2do9b</td>\n      <td>False</td>\n      <td>False</td>\n      <td>[]</td>\n      <td>False</td>\n      <td>False</td>\n      <td>1610395831</td>\n      <td>reviewsfund.com</td>\n      <td>https://www.reddit.com/r/googlehome/comments/k...</td>\n      <td>{}</td>\n      <td>kvawfm</td>\n      <td>False</td>\n      <td>False</td>\n      <td>False</td>\n      <td>False</td>\n      <td>False</td>\n      <td>False</td>\n      <td>False</td>\n      <td></td>\n      <td>[]</td>\n      <td>NaN</td>\n      <td>NaN</td>\n      <td>dark</td>\n      <td>text</td>\n      <td>False</td>\n      <td>False</td>\n      <td>True</td>\n      <td>0</td>\n      <td>0</td>\n      <td>False</td>\n      <td>all_ads</td>\n      <td>/r/googlehome/comments/kvawfm/buy_trustpilot_r...</td>\n      <td>False</td>\n      <td>link</td>\n      <td>{'enabled': False, 'images': [{'id': '2e2e1cXm...</td>\n      <td>6</td>\n      <td>1610396668</td>\n      <td>1</td>\n      <td></td>\n      <td>True</td>\n      <td>False</td>\n      <td>False</td>\n      <td>googlehome</td>\n      <td>t5_3enp4</td>\n      <td>284468</td>\n      <td>public</td>\n      <td>https://b.thumbs.redditmedia.com/yF22-q2CYE_fo...</td>\n      <td>140.0</td>\n      <td>140.0</td>\n      <td>Buy Trustpilot Reviews - 100% Permanent USA, U...</td>\n      <td>0</td>\n      <td>[]</td>\n      <td>1.0</td>\n      <td>https://reviewsfund.com/product/buy-trustpilot...</td>\n      <td>https://reviewsfund.com/product/buy-trustpilot...</td>\n      <td>all_ads</td>\n      <td>6</td>\n      <td>NaN</td>\n      <td>NaN</td>\n      <td>NaN</td>\n      <td>NaN</td>\n      <td>NaN</td>\n      <td>moderator</td>\n      <td>NaN</td>\n      <td>NaN</td>\n      <td>NaN</td>\n      <td>NaN</td>\n      <td>NaN</td>\n      <td>NaN</td>\n      <td>NaN</td>\n      <td>NaN</td>\n      <td>NaN</td>\n      <td>NaN</td>\n      <td>NaN</td>\n      <td>NaN</td>\n      <td>NaN</td>\n      <td>NaN</td>\n    </tr>\n    <tr>\n      <th>2996</th>\n      <td>[]</td>\n      <td>False</td>\n      <td>More-Act1168</td>\n      <td>None</td>\n      <td>[]</td>\n      <td>None</td>\n      <td>text</td>\n      <td>t2_8piqwabd</td>\n      <td>False</td>\n      <td>False</td>\n      <td>[]</td>\n      <td>False</td>\n      <td>False</td>\n      <td>1610395645</td>\n      <td>reviewsfund.com</td>\n      <td>https://www.reddit.com/r/googlehome/comments/k...</td>\n      <td>{}</td>\n      <td>kvatz5</td>\n      <td>False</td>\n      <td>False</td>\n      <td>False</td>\n      <td>False</td>\n      <td>False</td>\n      <td>False</td>\n      <td>False</td>\n      <td></td>\n      <td>[]</td>\n      <td>NaN</td>\n      <td>NaN</td>\n      <td>dark</td>\n      <td>text</td>\n      <td>False</td>\n      <td>False</td>\n      <td>True</td>\n      <td>0</td>\n      <td>0</td>\n      <td>False</td>\n      <td>all_ads</td>\n      <td>/r/googlehome/comments/kvatz5/buy_trustpilot_r...</td>\n      <td>False</td>\n      <td>link</td>\n      <td>{'enabled': False, 'images': [{'id': '2e2e1cXm...</td>\n      <td>6</td>\n      <td>1610396467</td>\n      <td>1</td>\n      <td></td>\n      <td>True</td>\n      <td>False</td>\n      <td>False</td>\n      <td>googlehome</td>\n      <td>t5_3enp4</td>\n      <td>284467</td>\n      <td>public</td>\n      <td>https://b.thumbs.redditmedia.com/yF22-q2CYE_fo...</td>\n      <td>140.0</td>\n      <td>140.0</td>\n      <td>Buy Trustpilot Reviews - 100% Permanent USA, U...</td>\n      <td>0</td>\n      <td>[]</td>\n      <td>1.0</td>\n      <td>https://reviewsfund.com/product/buy-trustpilot...</td>\n      <td>https://reviewsfund.com/product/buy-trustpilot...</td>\n      <td>all_ads</td>\n      <td>6</td>\n      <td>NaN</td>\n      <td>NaN</td>\n      <td>NaN</td>\n      <td>NaN</td>\n      <td>NaN</td>\n      <td>moderator</td>\n      <td>NaN</td>\n      <td>NaN</td>\n      <td>NaN</td>\n      <td>NaN</td>\n      <td>NaN</td>\n      <td>NaN</td>\n      <td>NaN</td>\n      <td>NaN</td>\n      <td>NaN</td>\n      <td>NaN</td>\n      <td>NaN</td>\n      <td>NaN</td>\n      <td>NaN</td>\n      <td>NaN</td>\n    </tr>\n    <tr>\n      <th>2997</th>\n      <td>[]</td>\n      <td>False</td>\n      <td>itsjameswatson</td>\n      <td>None</td>\n      <td>[]</td>\n      <td>Google Mini (1st Gen)</td>\n      <td>text</td>\n      <td>t2_7pyedmhu</td>\n      <td>False</td>\n      <td>False</td>\n      <td>[]</td>\n      <td>False</td>\n      <td>False</td>\n      <td>1610395572</td>\n      <td>self.googlehome</td>\n      <td>https://www.reddit.com/r/googlehome/comments/k...</td>\n      <td>{}</td>\n      <td>kvat1u</td>\n      <td>True</td>\n      <td>False</td>\n      <td>False</td>\n      <td>False</td>\n      <td>True</td>\n      <td>True</td>\n      <td>False</td>\n      <td></td>\n      <td>[]</td>\n      <td>NaN</td>\n      <td>NaN</td>\n      <td>dark</td>\n      <td>text</td>\n      <td>False</td>\n      <td>False</td>\n      <td>True</td>\n      <td>6</td>\n      <td>0</td>\n      <td>False</td>\n      <td>all_ads</td>\n      <td>/r/googlehome/comments/kvat1u/smart_buttons/</td>\n      <td>False</td>\n      <td>NaN</td>\n      <td>NaN</td>\n      <td>6</td>\n      <td>1610396396</td>\n      <td>1</td>\n      <td>Anyone know any smart buttons on amazon that w...</td>\n      <td>True</td>\n      <td>False</td>\n      <td>False</td>\n      <td>googlehome</td>\n      <td>t5_3enp4</td>\n      <td>284467</td>\n      <td>public</td>\n      <td>self</td>\n      <td>NaN</td>\n      <td>NaN</td>\n      <td>Smart Buttons</td>\n      <td>0</td>\n      <td>[]</td>\n      <td>1.0</td>\n      <td>https://www.reddit.com/r/googlehome/comments/k...</td>\n      <td>NaN</td>\n      <td>all_ads</td>\n      <td>6</td>\n      <td>NaN</td>\n      <td>NaN</td>\n      <td>NaN</td>\n      <td>NaN</td>\n      <td>NaN</td>\n      <td>NaN</td>\n      <td>NaN</td>\n      <td>NaN</td>\n      <td>NaN</td>\n      <td>NaN</td>\n      <td>#dadada</td>\n      <td>dark</td>\n      <td>a1746808-5be6-11ea-8d4c-0e35ac17e385</td>\n      <td>NaN</td>\n      <td>NaN</td>\n      <td>NaN</td>\n      <td>NaN</td>\n      <td>NaN</td>\n      <td>NaN</td>\n      <td>NaN</td>\n    </tr>\n    <tr>\n      <th>2998</th>\n      <td>[]</td>\n      <td>False</td>\n      <td>IndividualJunket3624</td>\n      <td>None</td>\n      <td>[]</td>\n      <td>None</td>\n      <td>text</td>\n      <td>t2_8pixtbl9</td>\n      <td>False</td>\n      <td>False</td>\n      <td>[]</td>\n      <td>False</td>\n      <td>False</td>\n      <td>1610395410</td>\n      <td>usareviewshop.com</td>\n      <td>https://www.reddit.com/r/googlehome/comments/k...</td>\n      <td>{}</td>\n      <td>kvaqvv</td>\n      <td>False</td>\n      <td>False</td>\n      <td>False</td>\n      <td>False</td>\n      <td>False</td>\n      <td>False</td>\n      <td>False</td>\n      <td></td>\n      <td>[]</td>\n      <td>NaN</td>\n      <td>NaN</td>\n      <td>dark</td>\n      <td>text</td>\n      <td>False</td>\n      <td>False</td>\n      <td>True</td>\n      <td>0</td>\n      <td>0</td>\n      <td>False</td>\n      <td>all_ads</td>\n      <td>/r/googlehome/comments/kvaqvv/buy_verified_cas...</td>\n      <td>False</td>\n      <td>link</td>\n      <td>{'enabled': False, 'images': [{'id': 'XxtyKG5v...</td>\n      <td>6</td>\n      <td>1610396240</td>\n      <td>1</td>\n      <td></td>\n      <td>True</td>\n      <td>False</td>\n      <td>False</td>\n      <td>googlehome</td>\n      <td>t5_3enp4</td>\n      <td>284466</td>\n      <td>public</td>\n      <td>https://b.thumbs.redditmedia.com/DTdahp7FhjnKd...</td>\n      <td>140.0</td>\n      <td>140.0</td>\n      <td>Buy Verified Cash App Accounts - Full Verified...</td>\n      <td>0</td>\n      <td>[]</td>\n      <td>1.0</td>\n      <td>https://usareviewshop.com/product/buy-verified...</td>\n      <td>https://usareviewshop.com/product/buy-verified...</td>\n      <td>all_ads</td>\n      <td>6</td>\n      <td>NaN</td>\n      <td>NaN</td>\n      <td>NaN</td>\n      <td>NaN</td>\n      <td>NaN</td>\n      <td>reddit</td>\n      <td>NaN</td>\n      <td>NaN</td>\n      <td>NaN</td>\n      <td>NaN</td>\n      <td>NaN</td>\n      <td>NaN</td>\n      <td>NaN</td>\n      <td>NaN</td>\n      <td>NaN</td>\n      <td>NaN</td>\n      <td>NaN</td>\n      <td>NaN</td>\n      <td>NaN</td>\n      <td>NaN</td>\n    </tr>\n    <tr>\n      <th>2999</th>\n      <td>[]</td>\n      <td>False</td>\n      <td>SomewhereBrilliant26</td>\n      <td>None</td>\n      <td>[]</td>\n      <td>None</td>\n      <td>text</td>\n      <td>t2_8pihbc3v</td>\n      <td>False</td>\n      <td>False</td>\n      <td>[]</td>\n      <td>False</td>\n      <td>False</td>\n      <td>1610395173</td>\n      <td>reviewsfund.com</td>\n      <td>https://www.reddit.com/r/googlehome/comments/k...</td>\n      <td>{}</td>\n      <td>kvaney</td>\n      <td>False</td>\n      <td>False</td>\n      <td>False</td>\n      <td>False</td>\n      <td>False</td>\n      <td>False</td>\n      <td>False</td>\n      <td></td>\n      <td>[]</td>\n      <td>NaN</td>\n      <td>NaN</td>\n      <td>dark</td>\n      <td>text</td>\n      <td>False</td>\n      <td>False</td>\n      <td>True</td>\n      <td>0</td>\n      <td>0</td>\n      <td>False</td>\n      <td>all_ads</td>\n      <td>/r/googlehome/comments/kvaney/buy_trustpilot_r...</td>\n      <td>False</td>\n      <td>link</td>\n      <td>{'enabled': False, 'images': [{'id': '2e2e1cXm...</td>\n      <td>6</td>\n      <td>1610395988</td>\n      <td>1</td>\n      <td></td>\n      <td>True</td>\n      <td>False</td>\n      <td>False</td>\n      <td>googlehome</td>\n      <td>t5_3enp4</td>\n      <td>284466</td>\n      <td>public</td>\n      <td>https://b.thumbs.redditmedia.com/yF22-q2CYE_fo...</td>\n      <td>140.0</td>\n      <td>140.0</td>\n      <td>Buy Trustpilot Reviews - 100% Permanent USA, U...</td>\n      <td>0</td>\n      <td>[]</td>\n      <td>1.0</td>\n      <td>https://reviewsfund.com/product/buy-trustpilot...</td>\n      <td>https://reviewsfund.com/product/buy-trustpilot...</td>\n      <td>all_ads</td>\n      <td>6</td>\n      <td>NaN</td>\n      <td>NaN</td>\n      <td>NaN</td>\n      <td>NaN</td>\n      <td>NaN</td>\n      <td>moderator</td>\n      <td>NaN</td>\n      <td>NaN</td>\n      <td>NaN</td>\n      <td>NaN</td>\n      <td>NaN</td>\n      <td>NaN</td>\n      <td>NaN</td>\n      <td>NaN</td>\n      <td>NaN</td>\n      <td>NaN</td>\n      <td>NaN</td>\n      <td>NaN</td>\n      <td>NaN</td>\n      <td>NaN</td>\n    </tr>\n  </tbody>\n</table>\n</div>"
     },
     "metadata": {},
     "execution_count": 52
    }
   ],
   "source": [
    "df_ghome.tail()"
   ]
  },
  {
   "source": [
    "We encountered some errors while scraping the data from r/amazonecho, despite scraping at a slow rate, likely due to Reddit server rejecting automated scraping requests after some number of requests. Due to the errors, we also found that it was easier to manually run the same code rather than define a specific function for the scraping of data, as we can tweak the code to ensure that it starts off where it left off. "
   ],
   "cell_type": "markdown",
   "metadata": {}
  },
  {
   "cell_type": "code",
   "execution_count": 62,
   "metadata": {},
   "outputs": [
    {
     "output_type": "stream",
     "name": "stdout",
     "text": [
      "(100, 73)\n",
      "(200, 76)\n",
      "(300, 79)\n",
      "(400, 79)\n",
      "(500, 79)\n",
      "(600, 79)\n",
      "(700, 79)\n",
      "(800, 79)\n",
      "(900, 81)\n",
      "(1000, 81)\n",
      "(1100, 81)\n"
     ]
    },
    {
     "output_type": "error",
     "ename": "JSONDecodeError",
     "evalue": "Expecting value: line 1 column 1 (char 0)",
     "traceback": [
      "\u001b[0;31m---------------------------------------------------------------------------\u001b[0m",
      "\u001b[0;31mJSONDecodeError\u001b[0m                           Traceback (most recent call last)",
      "\u001b[0;32m<ipython-input-62-394e34973977>\u001b[0m in \u001b[0;36m<module>\u001b[0;34m\u001b[0m\n\u001b[1;32m      7\u001b[0m \u001b[0;32mfor\u001b[0m \u001b[0mi\u001b[0m \u001b[0;32min\u001b[0m \u001b[0mrange\u001b[0m\u001b[0;34m(\u001b[0m\u001b[0;36m30\u001b[0m\u001b[0;34m)\u001b[0m\u001b[0;34m:\u001b[0m\u001b[0;34m\u001b[0m\u001b[0;34m\u001b[0m\u001b[0m\n\u001b[1;32m      8\u001b[0m     \u001b[0mres\u001b[0m \u001b[0;34m=\u001b[0m \u001b[0mrequests\u001b[0m\u001b[0;34m.\u001b[0m\u001b[0mget\u001b[0m\u001b[0;34m(\u001b[0m\u001b[0murl\u001b[0m\u001b[0;34m,\u001b[0m\u001b[0mparams_aecho\u001b[0m\u001b[0;34m)\u001b[0m\u001b[0;34m\u001b[0m\u001b[0;34m\u001b[0m\u001b[0m\n\u001b[0;32m----> 9\u001b[0;31m     \u001b[0mdata\u001b[0m \u001b[0;34m=\u001b[0m \u001b[0mres\u001b[0m\u001b[0;34m.\u001b[0m\u001b[0mjson\u001b[0m\u001b[0;34m(\u001b[0m\u001b[0;34m)\u001b[0m\u001b[0;34m[\u001b[0m\u001b[0;34m'data'\u001b[0m\u001b[0;34m]\u001b[0m\u001b[0;34m\u001b[0m\u001b[0;34m\u001b[0m\u001b[0m\n\u001b[0m\u001b[1;32m     10\u001b[0m     \u001b[0mdata\u001b[0m \u001b[0;34m=\u001b[0m \u001b[0mpd\u001b[0m\u001b[0;34m.\u001b[0m\u001b[0mDataFrame\u001b[0m\u001b[0;34m(\u001b[0m\u001b[0mdata\u001b[0m\u001b[0;34m)\u001b[0m\u001b[0;34m\u001b[0m\u001b[0;34m\u001b[0m\u001b[0m\n\u001b[1;32m     11\u001b[0m     \u001b[0mdf_aecho\u001b[0m \u001b[0;34m=\u001b[0m \u001b[0mpd\u001b[0m\u001b[0;34m.\u001b[0m\u001b[0mconcat\u001b[0m\u001b[0;34m(\u001b[0m\u001b[0;34m[\u001b[0m\u001b[0mdf_aecho\u001b[0m\u001b[0;34m,\u001b[0m\u001b[0mdata\u001b[0m\u001b[0;34m]\u001b[0m\u001b[0;34m,\u001b[0m\u001b[0maxis\u001b[0m\u001b[0;34m=\u001b[0m\u001b[0;36m0\u001b[0m\u001b[0;34m)\u001b[0m\u001b[0;34m\u001b[0m\u001b[0;34m\u001b[0m\u001b[0m\n",
      "\u001b[0;32m/opt/anaconda3/lib/python3.8/site-packages/requests/models.py\u001b[0m in \u001b[0;36mjson\u001b[0;34m(self, **kwargs)\u001b[0m\n\u001b[1;32m    896\u001b[0m                     \u001b[0;31m# used.\u001b[0m\u001b[0;34m\u001b[0m\u001b[0;34m\u001b[0m\u001b[0;34m\u001b[0m\u001b[0m\n\u001b[1;32m    897\u001b[0m                     \u001b[0;32mpass\u001b[0m\u001b[0;34m\u001b[0m\u001b[0;34m\u001b[0m\u001b[0m\n\u001b[0;32m--> 898\u001b[0;31m         \u001b[0;32mreturn\u001b[0m \u001b[0mcomplexjson\u001b[0m\u001b[0;34m.\u001b[0m\u001b[0mloads\u001b[0m\u001b[0;34m(\u001b[0m\u001b[0mself\u001b[0m\u001b[0;34m.\u001b[0m\u001b[0mtext\u001b[0m\u001b[0;34m,\u001b[0m \u001b[0;34m**\u001b[0m\u001b[0mkwargs\u001b[0m\u001b[0;34m)\u001b[0m\u001b[0;34m\u001b[0m\u001b[0;34m\u001b[0m\u001b[0m\n\u001b[0m\u001b[1;32m    899\u001b[0m \u001b[0;34m\u001b[0m\u001b[0m\n\u001b[1;32m    900\u001b[0m     \u001b[0;34m@\u001b[0m\u001b[0mproperty\u001b[0m\u001b[0;34m\u001b[0m\u001b[0;34m\u001b[0m\u001b[0m\n",
      "\u001b[0;32m/opt/anaconda3/lib/python3.8/json/__init__.py\u001b[0m in \u001b[0;36mloads\u001b[0;34m(s, cls, object_hook, parse_float, parse_int, parse_constant, object_pairs_hook, **kw)\u001b[0m\n\u001b[1;32m    355\u001b[0m             \u001b[0mparse_int\u001b[0m \u001b[0;32mis\u001b[0m \u001b[0;32mNone\u001b[0m \u001b[0;32mand\u001b[0m \u001b[0mparse_float\u001b[0m \u001b[0;32mis\u001b[0m \u001b[0;32mNone\u001b[0m \u001b[0;32mand\u001b[0m\u001b[0;34m\u001b[0m\u001b[0;34m\u001b[0m\u001b[0m\n\u001b[1;32m    356\u001b[0m             parse_constant is None and object_pairs_hook is None and not kw):\n\u001b[0;32m--> 357\u001b[0;31m         \u001b[0;32mreturn\u001b[0m \u001b[0m_default_decoder\u001b[0m\u001b[0;34m.\u001b[0m\u001b[0mdecode\u001b[0m\u001b[0;34m(\u001b[0m\u001b[0ms\u001b[0m\u001b[0;34m)\u001b[0m\u001b[0;34m\u001b[0m\u001b[0;34m\u001b[0m\u001b[0m\n\u001b[0m\u001b[1;32m    358\u001b[0m     \u001b[0;32mif\u001b[0m \u001b[0mcls\u001b[0m \u001b[0;32mis\u001b[0m \u001b[0;32mNone\u001b[0m\u001b[0;34m:\u001b[0m\u001b[0;34m\u001b[0m\u001b[0;34m\u001b[0m\u001b[0m\n\u001b[1;32m    359\u001b[0m         \u001b[0mcls\u001b[0m \u001b[0;34m=\u001b[0m \u001b[0mJSONDecoder\u001b[0m\u001b[0;34m\u001b[0m\u001b[0;34m\u001b[0m\u001b[0m\n",
      "\u001b[0;32m/opt/anaconda3/lib/python3.8/json/decoder.py\u001b[0m in \u001b[0;36mdecode\u001b[0;34m(self, s, _w)\u001b[0m\n\u001b[1;32m    335\u001b[0m \u001b[0;34m\u001b[0m\u001b[0m\n\u001b[1;32m    336\u001b[0m         \"\"\"\n\u001b[0;32m--> 337\u001b[0;31m         \u001b[0mobj\u001b[0m\u001b[0;34m,\u001b[0m \u001b[0mend\u001b[0m \u001b[0;34m=\u001b[0m \u001b[0mself\u001b[0m\u001b[0;34m.\u001b[0m\u001b[0mraw_decode\u001b[0m\u001b[0;34m(\u001b[0m\u001b[0ms\u001b[0m\u001b[0;34m,\u001b[0m \u001b[0midx\u001b[0m\u001b[0;34m=\u001b[0m\u001b[0m_w\u001b[0m\u001b[0;34m(\u001b[0m\u001b[0ms\u001b[0m\u001b[0;34m,\u001b[0m \u001b[0;36m0\u001b[0m\u001b[0;34m)\u001b[0m\u001b[0;34m.\u001b[0m\u001b[0mend\u001b[0m\u001b[0;34m(\u001b[0m\u001b[0;34m)\u001b[0m\u001b[0;34m)\u001b[0m\u001b[0;34m\u001b[0m\u001b[0;34m\u001b[0m\u001b[0m\n\u001b[0m\u001b[1;32m    338\u001b[0m         \u001b[0mend\u001b[0m \u001b[0;34m=\u001b[0m \u001b[0m_w\u001b[0m\u001b[0;34m(\u001b[0m\u001b[0ms\u001b[0m\u001b[0;34m,\u001b[0m \u001b[0mend\u001b[0m\u001b[0;34m)\u001b[0m\u001b[0;34m.\u001b[0m\u001b[0mend\u001b[0m\u001b[0;34m(\u001b[0m\u001b[0;34m)\u001b[0m\u001b[0;34m\u001b[0m\u001b[0;34m\u001b[0m\u001b[0m\n\u001b[1;32m    339\u001b[0m         \u001b[0;32mif\u001b[0m \u001b[0mend\u001b[0m \u001b[0;34m!=\u001b[0m \u001b[0mlen\u001b[0m\u001b[0;34m(\u001b[0m\u001b[0ms\u001b[0m\u001b[0;34m)\u001b[0m\u001b[0;34m:\u001b[0m\u001b[0;34m\u001b[0m\u001b[0;34m\u001b[0m\u001b[0m\n",
      "\u001b[0;32m/opt/anaconda3/lib/python3.8/json/decoder.py\u001b[0m in \u001b[0;36mraw_decode\u001b[0;34m(self, s, idx)\u001b[0m\n\u001b[1;32m    353\u001b[0m             \u001b[0mobj\u001b[0m\u001b[0;34m,\u001b[0m \u001b[0mend\u001b[0m \u001b[0;34m=\u001b[0m \u001b[0mself\u001b[0m\u001b[0;34m.\u001b[0m\u001b[0mscan_once\u001b[0m\u001b[0;34m(\u001b[0m\u001b[0ms\u001b[0m\u001b[0;34m,\u001b[0m \u001b[0midx\u001b[0m\u001b[0;34m)\u001b[0m\u001b[0;34m\u001b[0m\u001b[0;34m\u001b[0m\u001b[0m\n\u001b[1;32m    354\u001b[0m         \u001b[0;32mexcept\u001b[0m \u001b[0mStopIteration\u001b[0m \u001b[0;32mas\u001b[0m \u001b[0merr\u001b[0m\u001b[0;34m:\u001b[0m\u001b[0;34m\u001b[0m\u001b[0;34m\u001b[0m\u001b[0m\n\u001b[0;32m--> 355\u001b[0;31m             \u001b[0;32mraise\u001b[0m \u001b[0mJSONDecodeError\u001b[0m\u001b[0;34m(\u001b[0m\u001b[0;34m\"Expecting value\"\u001b[0m\u001b[0;34m,\u001b[0m \u001b[0ms\u001b[0m\u001b[0;34m,\u001b[0m \u001b[0merr\u001b[0m\u001b[0;34m.\u001b[0m\u001b[0mvalue\u001b[0m\u001b[0;34m)\u001b[0m \u001b[0;32mfrom\u001b[0m \u001b[0;32mNone\u001b[0m\u001b[0;34m\u001b[0m\u001b[0;34m\u001b[0m\u001b[0m\n\u001b[0m\u001b[1;32m    356\u001b[0m         \u001b[0;32mreturn\u001b[0m \u001b[0mobj\u001b[0m\u001b[0;34m,\u001b[0m \u001b[0mend\u001b[0m\u001b[0;34m\u001b[0m\u001b[0;34m\u001b[0m\u001b[0m\n",
      "\u001b[0;31mJSONDecodeError\u001b[0m: Expecting value: line 1 column 1 (char 0)"
     ]
    }
   ],
   "source": [
    "# Scrape data from r/amazonecho\n",
    "params_aecho = {\n",
    "    'subreddit': 'amazonecho',\n",
    "    'size': 100,\n",
    "    'before': None\n",
    "}\n",
    "df_aecho = pd.DataFrame()   \n",
    "for i in range(10):\n",
    "    res = requests.get(url,params_aecho)              \n",
    "    data = res.json()['data']                       \n",
    "    data = pd.DataFrame(data)                       \n",
    "    df_aecho = pd.concat([df_aecho,data],axis=0)\n",
    "    df_aecho.reset_index(drop=True,inplace=True) \n",
    "    params_aecho['before'] = df_aecho['created_utc'][len(df_aecho)-1]\n",
    "    sleep(randint(10,100))\n",
    "    print(df_aecho.shape)"
   ]
  },
  {
   "cell_type": "code",
   "execution_count": 63,
   "metadata": {},
   "outputs": [
    {
     "output_type": "stream",
     "name": "stdout",
     "text": [
      "(1200, 81)\n",
      "(1300, 81)\n",
      "(1400, 81)\n",
      "(1500, 81)\n",
      "(1600, 81)\n",
      "(1700, 81)\n",
      "(1800, 81)\n",
      "(1900, 81)\n",
      "(2000, 81)\n",
      "(2100, 81)\n"
     ]
    }
   ],
   "source": [
    "# Continue scraping data from the last row of the dataframe\n",
    "for i in range(10):\n",
    "    params_aecho['before'] = df_aecho['created_utc'][len(df_aecho)-1]\n",
    "    res = requests.get(url,params_aecho)              \n",
    "    data = res.json()['data']                       \n",
    "    data = pd.DataFrame(data)                       \n",
    "    df_aecho = pd.concat([df_aecho,data],axis=0)\n",
    "    df_aecho.reset_index(drop=True,inplace=True) \n",
    "    params_aecho['before'] = df_aecho['created_utc'][len(df_aecho)-1]\n",
    "    sleep(randint(10,100))\n",
    "    print(df_aecho.shape)"
   ]
  },
  {
   "cell_type": "code",
   "execution_count": 64,
   "metadata": {},
   "outputs": [
    {
     "output_type": "stream",
     "name": "stdout",
     "text": [
      "(2200, 82)\n"
     ]
    },
    {
     "output_type": "error",
     "ename": "JSONDecodeError",
     "evalue": "Expecting value: line 1 column 1 (char 0)",
     "traceback": [
      "\u001b[0;31m---------------------------------------------------------------------------\u001b[0m",
      "\u001b[0;31mJSONDecodeError\u001b[0m                           Traceback (most recent call last)",
      "\u001b[0;32m<ipython-input-64-501d73240573>\u001b[0m in \u001b[0;36m<module>\u001b[0;34m\u001b[0m\n\u001b[1;32m      2\u001b[0m     \u001b[0mparams_aecho\u001b[0m\u001b[0;34m[\u001b[0m\u001b[0;34m'before'\u001b[0m\u001b[0;34m]\u001b[0m \u001b[0;34m=\u001b[0m \u001b[0mdf_aecho\u001b[0m\u001b[0;34m[\u001b[0m\u001b[0;34m'created_utc'\u001b[0m\u001b[0;34m]\u001b[0m\u001b[0;34m[\u001b[0m\u001b[0mlen\u001b[0m\u001b[0;34m(\u001b[0m\u001b[0mdf_aecho\u001b[0m\u001b[0;34m)\u001b[0m\u001b[0;34m-\u001b[0m\u001b[0;36m1\u001b[0m\u001b[0;34m]\u001b[0m\u001b[0;34m\u001b[0m\u001b[0;34m\u001b[0m\u001b[0m\n\u001b[1;32m      3\u001b[0m     \u001b[0mres\u001b[0m \u001b[0;34m=\u001b[0m \u001b[0mrequests\u001b[0m\u001b[0;34m.\u001b[0m\u001b[0mget\u001b[0m\u001b[0;34m(\u001b[0m\u001b[0murl\u001b[0m\u001b[0;34m,\u001b[0m\u001b[0mparams_aecho\u001b[0m\u001b[0;34m)\u001b[0m\u001b[0;34m\u001b[0m\u001b[0;34m\u001b[0m\u001b[0m\n\u001b[0;32m----> 4\u001b[0;31m     \u001b[0mdata\u001b[0m \u001b[0;34m=\u001b[0m \u001b[0mres\u001b[0m\u001b[0;34m.\u001b[0m\u001b[0mjson\u001b[0m\u001b[0;34m(\u001b[0m\u001b[0;34m)\u001b[0m\u001b[0;34m[\u001b[0m\u001b[0;34m'data'\u001b[0m\u001b[0;34m]\u001b[0m\u001b[0;34m\u001b[0m\u001b[0;34m\u001b[0m\u001b[0m\n\u001b[0m\u001b[1;32m      5\u001b[0m     \u001b[0mdata\u001b[0m \u001b[0;34m=\u001b[0m \u001b[0mpd\u001b[0m\u001b[0;34m.\u001b[0m\u001b[0mDataFrame\u001b[0m\u001b[0;34m(\u001b[0m\u001b[0mdata\u001b[0m\u001b[0;34m)\u001b[0m\u001b[0;34m\u001b[0m\u001b[0;34m\u001b[0m\u001b[0m\n\u001b[1;32m      6\u001b[0m     \u001b[0mdf_aecho\u001b[0m \u001b[0;34m=\u001b[0m \u001b[0mpd\u001b[0m\u001b[0;34m.\u001b[0m\u001b[0mconcat\u001b[0m\u001b[0;34m(\u001b[0m\u001b[0;34m[\u001b[0m\u001b[0mdf_aecho\u001b[0m\u001b[0;34m,\u001b[0m\u001b[0mdata\u001b[0m\u001b[0;34m]\u001b[0m\u001b[0;34m,\u001b[0m\u001b[0maxis\u001b[0m\u001b[0;34m=\u001b[0m\u001b[0;36m0\u001b[0m\u001b[0;34m)\u001b[0m\u001b[0;34m\u001b[0m\u001b[0;34m\u001b[0m\u001b[0m\n",
      "\u001b[0;32m/opt/anaconda3/lib/python3.8/site-packages/requests/models.py\u001b[0m in \u001b[0;36mjson\u001b[0;34m(self, **kwargs)\u001b[0m\n\u001b[1;32m    896\u001b[0m                     \u001b[0;31m# used.\u001b[0m\u001b[0;34m\u001b[0m\u001b[0;34m\u001b[0m\u001b[0;34m\u001b[0m\u001b[0m\n\u001b[1;32m    897\u001b[0m                     \u001b[0;32mpass\u001b[0m\u001b[0;34m\u001b[0m\u001b[0;34m\u001b[0m\u001b[0m\n\u001b[0;32m--> 898\u001b[0;31m         \u001b[0;32mreturn\u001b[0m \u001b[0mcomplexjson\u001b[0m\u001b[0;34m.\u001b[0m\u001b[0mloads\u001b[0m\u001b[0;34m(\u001b[0m\u001b[0mself\u001b[0m\u001b[0;34m.\u001b[0m\u001b[0mtext\u001b[0m\u001b[0;34m,\u001b[0m \u001b[0;34m**\u001b[0m\u001b[0mkwargs\u001b[0m\u001b[0;34m)\u001b[0m\u001b[0;34m\u001b[0m\u001b[0;34m\u001b[0m\u001b[0m\n\u001b[0m\u001b[1;32m    899\u001b[0m \u001b[0;34m\u001b[0m\u001b[0m\n\u001b[1;32m    900\u001b[0m     \u001b[0;34m@\u001b[0m\u001b[0mproperty\u001b[0m\u001b[0;34m\u001b[0m\u001b[0;34m\u001b[0m\u001b[0m\n",
      "\u001b[0;32m/opt/anaconda3/lib/python3.8/json/__init__.py\u001b[0m in \u001b[0;36mloads\u001b[0;34m(s, cls, object_hook, parse_float, parse_int, parse_constant, object_pairs_hook, **kw)\u001b[0m\n\u001b[1;32m    355\u001b[0m             \u001b[0mparse_int\u001b[0m \u001b[0;32mis\u001b[0m \u001b[0;32mNone\u001b[0m \u001b[0;32mand\u001b[0m \u001b[0mparse_float\u001b[0m \u001b[0;32mis\u001b[0m \u001b[0;32mNone\u001b[0m \u001b[0;32mand\u001b[0m\u001b[0;34m\u001b[0m\u001b[0;34m\u001b[0m\u001b[0m\n\u001b[1;32m    356\u001b[0m             parse_constant is None and object_pairs_hook is None and not kw):\n\u001b[0;32m--> 357\u001b[0;31m         \u001b[0;32mreturn\u001b[0m \u001b[0m_default_decoder\u001b[0m\u001b[0;34m.\u001b[0m\u001b[0mdecode\u001b[0m\u001b[0;34m(\u001b[0m\u001b[0ms\u001b[0m\u001b[0;34m)\u001b[0m\u001b[0;34m\u001b[0m\u001b[0;34m\u001b[0m\u001b[0m\n\u001b[0m\u001b[1;32m    358\u001b[0m     \u001b[0;32mif\u001b[0m \u001b[0mcls\u001b[0m \u001b[0;32mis\u001b[0m \u001b[0;32mNone\u001b[0m\u001b[0;34m:\u001b[0m\u001b[0;34m\u001b[0m\u001b[0;34m\u001b[0m\u001b[0m\n\u001b[1;32m    359\u001b[0m         \u001b[0mcls\u001b[0m \u001b[0;34m=\u001b[0m \u001b[0mJSONDecoder\u001b[0m\u001b[0;34m\u001b[0m\u001b[0;34m\u001b[0m\u001b[0m\n",
      "\u001b[0;32m/opt/anaconda3/lib/python3.8/json/decoder.py\u001b[0m in \u001b[0;36mdecode\u001b[0;34m(self, s, _w)\u001b[0m\n\u001b[1;32m    335\u001b[0m \u001b[0;34m\u001b[0m\u001b[0m\n\u001b[1;32m    336\u001b[0m         \"\"\"\n\u001b[0;32m--> 337\u001b[0;31m         \u001b[0mobj\u001b[0m\u001b[0;34m,\u001b[0m \u001b[0mend\u001b[0m \u001b[0;34m=\u001b[0m \u001b[0mself\u001b[0m\u001b[0;34m.\u001b[0m\u001b[0mraw_decode\u001b[0m\u001b[0;34m(\u001b[0m\u001b[0ms\u001b[0m\u001b[0;34m,\u001b[0m \u001b[0midx\u001b[0m\u001b[0;34m=\u001b[0m\u001b[0m_w\u001b[0m\u001b[0;34m(\u001b[0m\u001b[0ms\u001b[0m\u001b[0;34m,\u001b[0m \u001b[0;36m0\u001b[0m\u001b[0;34m)\u001b[0m\u001b[0;34m.\u001b[0m\u001b[0mend\u001b[0m\u001b[0;34m(\u001b[0m\u001b[0;34m)\u001b[0m\u001b[0;34m)\u001b[0m\u001b[0;34m\u001b[0m\u001b[0;34m\u001b[0m\u001b[0m\n\u001b[0m\u001b[1;32m    338\u001b[0m         \u001b[0mend\u001b[0m \u001b[0;34m=\u001b[0m \u001b[0m_w\u001b[0m\u001b[0;34m(\u001b[0m\u001b[0ms\u001b[0m\u001b[0;34m,\u001b[0m \u001b[0mend\u001b[0m\u001b[0;34m)\u001b[0m\u001b[0;34m.\u001b[0m\u001b[0mend\u001b[0m\u001b[0;34m(\u001b[0m\u001b[0;34m)\u001b[0m\u001b[0;34m\u001b[0m\u001b[0;34m\u001b[0m\u001b[0m\n\u001b[1;32m    339\u001b[0m         \u001b[0;32mif\u001b[0m \u001b[0mend\u001b[0m \u001b[0;34m!=\u001b[0m \u001b[0mlen\u001b[0m\u001b[0;34m(\u001b[0m\u001b[0ms\u001b[0m\u001b[0;34m)\u001b[0m\u001b[0;34m:\u001b[0m\u001b[0;34m\u001b[0m\u001b[0;34m\u001b[0m\u001b[0m\n",
      "\u001b[0;32m/opt/anaconda3/lib/python3.8/json/decoder.py\u001b[0m in \u001b[0;36mraw_decode\u001b[0;34m(self, s, idx)\u001b[0m\n\u001b[1;32m    353\u001b[0m             \u001b[0mobj\u001b[0m\u001b[0;34m,\u001b[0m \u001b[0mend\u001b[0m \u001b[0;34m=\u001b[0m \u001b[0mself\u001b[0m\u001b[0;34m.\u001b[0m\u001b[0mscan_once\u001b[0m\u001b[0;34m(\u001b[0m\u001b[0ms\u001b[0m\u001b[0;34m,\u001b[0m \u001b[0midx\u001b[0m\u001b[0;34m)\u001b[0m\u001b[0;34m\u001b[0m\u001b[0;34m\u001b[0m\u001b[0m\n\u001b[1;32m    354\u001b[0m         \u001b[0;32mexcept\u001b[0m \u001b[0mStopIteration\u001b[0m \u001b[0;32mas\u001b[0m \u001b[0merr\u001b[0m\u001b[0;34m:\u001b[0m\u001b[0;34m\u001b[0m\u001b[0;34m\u001b[0m\u001b[0m\n\u001b[0;32m--> 355\u001b[0;31m             \u001b[0;32mraise\u001b[0m \u001b[0mJSONDecodeError\u001b[0m\u001b[0;34m(\u001b[0m\u001b[0;34m\"Expecting value\"\u001b[0m\u001b[0;34m,\u001b[0m \u001b[0ms\u001b[0m\u001b[0;34m,\u001b[0m \u001b[0merr\u001b[0m\u001b[0;34m.\u001b[0m\u001b[0mvalue\u001b[0m\u001b[0;34m)\u001b[0m \u001b[0;32mfrom\u001b[0m \u001b[0;32mNone\u001b[0m\u001b[0;34m\u001b[0m\u001b[0;34m\u001b[0m\u001b[0m\n\u001b[0m\u001b[1;32m    356\u001b[0m         \u001b[0;32mreturn\u001b[0m \u001b[0mobj\u001b[0m\u001b[0;34m,\u001b[0m \u001b[0mend\u001b[0m\u001b[0;34m\u001b[0m\u001b[0;34m\u001b[0m\u001b[0m\n",
      "\u001b[0;31mJSONDecodeError\u001b[0m: Expecting value: line 1 column 1 (char 0)"
     ]
    }
   ],
   "source": [
    "# Continue scraping data from the last row of the dataframe\n",
    "for i in range(9):\n",
    "    params_aecho['before'] = df_aecho['created_utc'][len(df_aecho)-1]\n",
    "    res = requests.get(url,params_aecho)              \n",
    "    data = res.json()['data']                       \n",
    "    data = pd.DataFrame(data)                       \n",
    "    df_aecho = pd.concat([df_aecho,data],axis=0)\n",
    "    df_aecho.reset_index(drop=True,inplace=True) \n",
    "    params_aecho['before'] = df_aecho['created_utc'][len(df_aecho)-1]\n",
    "    sleep(randint(10,100))\n",
    "    print(df_aecho.shape)"
   ]
  },
  {
   "cell_type": "code",
   "execution_count": 65,
   "metadata": {},
   "outputs": [
    {
     "output_type": "stream",
     "name": "stdout",
     "text": [
      "(2300, 82)\n",
      "(2400, 82)\n",
      "(2500, 82)\n",
      "(2600, 82)\n",
      "(2700, 82)\n",
      "(2800, 82)\n",
      "(2900, 82)\n",
      "(3000, 82)\n"
     ]
    }
   ],
   "source": [
    "# Continue scraping data from the last row of the dataframe\n",
    "for i in range(8):\n",
    "    params_aecho['before'] = df_aecho['created_utc'][len(df_aecho)-1]\n",
    "    res = requests.get(url,params_aecho)              \n",
    "    data = res.json()['data']                       \n",
    "    data = pd.DataFrame(data)                       \n",
    "    df_aecho = pd.concat([df_aecho,data],axis=0)\n",
    "    df_aecho.reset_index(drop=True,inplace=True) \n",
    "    params_aecho['before'] = df_aecho['created_utc'][len(df_aecho)-1]\n",
    "    sleep(randint(10,100))\n",
    "    print(df_aecho.shape)"
   ]
  },
  {
   "source": [
    "### Save Data"
   ],
   "cell_type": "markdown",
   "metadata": {}
  },
  {
   "cell_type": "code",
   "execution_count": 50,
   "metadata": {},
   "outputs": [],
   "source": [
    "df_ghome.to_csv('../datasets/ghome.csv', index=False)"
   ]
  },
  {
   "cell_type": "code",
   "execution_count": 66,
   "metadata": {},
   "outputs": [],
   "source": [
    "df_aecho.to_csv('../datasets/aecho.csv', index=False)"
   ]
  }
 ]
}