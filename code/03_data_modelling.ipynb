{
 "metadata": {
  "language_info": {
   "codemirror_mode": {
    "name": "ipython",
    "version": 3
   },
   "file_extension": ".py",
   "mimetype": "text/x-python",
   "name": "python",
   "nbconvert_exporter": "python",
   "pygments_lexer": "ipython3",
   "version": "3.8.5-final"
  },
  "orig_nbformat": 2,
  "kernelspec": {
   "name": "python385jvsc74a57bd0dca0ade3e726a953b501b15e8e990130d2b7799f14cfd9f4271676035ebe5511",
   "display_name": "Python 3.8.5 64-bit ('base': conda)"
  }
 },
 "nbformat": 4,
 "nbformat_minor": 2,
 "cells": [
  {
   "source": [
    "# Data Modelling"
   ],
   "cell_type": "markdown",
   "metadata": {}
  },
  {
   "cell_type": "code",
   "execution_count": 366,
   "metadata": {},
   "outputs": [],
   "source": [
    "import numpy as np\n",
    "import pandas as pd\n",
    "import matplotlib.pyplot as plt\n",
    "import matplotlib.style as style\n",
    "import seaborn as sns\n",
    "\n",
    "from sklearn.feature_extraction import text\n",
    "from sklearn.feature_extraction.text import CountVectorizer, TfidfVectorizer\n",
    "from sklearn.model_selection import train_test_split, cross_val_score, GridSearchCV\n",
    "from sklearn.metrics import confusion_matrix, accuracy_score, plot_roc_curve, roc_auc_score\n",
    "from sklearn.pipeline import Pipeline\n",
    "\n",
    "from sklearn.linear_model import LogisticRegression\n",
    "from sklearn.naive_bayes import MultinomialNB\n",
    "from sklearn.ensemble import RandomForestClassifier\n",
    "from sklearn.svm import SVC\n",
    "from sklearn.tree import plot_tree\n",
    "\n",
    "pd.set_option('display.max_columns', None)\n",
    "style.use('seaborn-whitegrid')\n",
    "sns.set_context('notebook', font_scale=1.2)"
   ]
  },
  {
   "source": [
    "### Preparing Data for Modelling"
   ],
   "cell_type": "markdown",
   "metadata": {}
  },
  {
   "cell_type": "code",
   "execution_count": 3,
   "metadata": {},
   "outputs": [],
   "source": [
    "ghome = pd.read_csv('../datasets/ghome_clean.csv')\n",
    "aecho = pd.read_csv('../datasets/aecho_clean.csv')"
   ]
  },
  {
   "cell_type": "code",
   "execution_count": 6,
   "metadata": {},
   "outputs": [],
   "source": [
    "df = pd.concat([ghome, aecho], ignore_index=True)"
   ]
  },
  {
   "source": [
    "After joining both dataframes, we set r/amazonecho to correspond to 1 in our classification model as it is the majority class, with r/googlehome corresponding to 0. "
   ],
   "cell_type": "markdown",
   "metadata": {}
  },
  {
   "cell_type": "code",
   "execution_count": 16,
   "metadata": {},
   "outputs": [],
   "source": [
    "df['subreddit'] = df['subreddit'].map(lambda x: 1 if x=='amazonecho' else 0)"
   ]
  },
  {
   "cell_type": "code",
   "execution_count": 19,
   "metadata": {},
   "outputs": [],
   "source": [
    "X = df['clean_post']\n",
    "y = df['subreddit']"
   ]
  },
  {
   "source": [
    "Looking at the value counts, just predicting the majority class would result in a 51% accuracy score, which is our baseline null model."
   ],
   "cell_type": "markdown",
   "metadata": {}
  },
  {
   "cell_type": "code",
   "execution_count": 384,
   "metadata": {},
   "outputs": [
    {
     "output_type": "stream",
     "name": "stdout",
     "text": [
      "1    2609\n0    2498\nName: subreddit, dtype: int64\n1    0.510867\n0    0.489133\nName: subreddit, dtype: float64\n"
     ]
    }
   ],
   "source": [
    "print(y.value_counts())\n",
    "print(y.value_counts(normalize=True))"
   ]
  },
  {
   "cell_type": "code",
   "execution_count": 24,
   "metadata": {},
   "outputs": [],
   "source": [
    "X_train, X_test, y_train, y_test = train_test_split(X, y, random_state=42, stratify=y)"
   ]
  },
  {
   "source": [
    "### First Model Using Count Vectorizer and Logistic Regression\n",
    "\n",
    "In order to model our data, we need to first feed the text data through CountVectorizer or TFIFD Vectorizer, which convert the words in each post into numerical data. Using TFIDFVectorizer allows our model to better ignore words that occur frequently across all posts which are less informative which were not included in the list of stopwords (e.g. device), and find words that are unique to each post. We also include 'google', 'home', 'amazon, and 'echo' in the list of stop words, to prevent the model from using these giveaway words to classify the posts. \n",
    "\n",
    "We then use 4 different techniques - Logistic Regression, Random Forest, Multinomial Naive Bayes, and Support Vector Classifier (SVC), and compare their accuracy score on the test set to determine the best model. This makes for a total of 8 permutations.\n",
    "\n",
    "The first 2 techniques (Logistic Regression and Random Forest) were chosen as it is possible to get a ranking of feature importances, which shows which words help the model to accurately classify the post. Words that are more important would be indicative of topics/sentiment discussed unique to that subreddit. The next 2 techniques (Multinomial Naive Bayes and SVC) were chosen as benchmarks of comparison, given the wide use of both Multinomial Naive Bayes and SVC as text classifiers. However, Multinomial Naive Bayes has coefficients that are not easily interpretable in text classification problems, while SVC is a black box and thus does not cannot help in inference.\n",
    "\n",
    "As the classes are relatively balanced, 51% to 48%, accuracy score is chosen as the metric of comparison to evaluate the performance of the model as it is easily interpretable and we are equally interested in minimizing false positives and false negatives."
   ],
   "cell_type": "markdown",
   "metadata": {}
  },
  {
   "cell_type": "code",
   "execution_count": null,
   "metadata": {},
   "outputs": [],
   "source": [
    "# Set up a dictionary to store model scores\n",
    "results = {}"
   ]
  },
  {
   "cell_type": "code",
   "execution_count": 145,
   "metadata": {},
   "outputs": [],
   "source": [
    "# Set up Pipeline\n",
    "pipe = Pipeline([('cvec', CountVectorizer(stop_words=text.ENGLISH_STOP_WORDS.union(['google', 'home', 'amazon', 'echo']))),\n",
    "                 ('logreg', LogisticRegression())])"
   ]
  },
  {
   "cell_type": "code",
   "execution_count": 149,
   "metadata": {},
   "outputs": [
    {
     "output_type": "stream",
     "name": "stdout",
     "text": [
      "Best Cross-Validation Accuracy: 0.8736297029103444\n",
      "Accuracy on Train Set: 0.9151436031331592\n",
      "Accuracy on Test Set: 0.8535630383711824\n",
      "{'cvec__max_df': 0.9, 'cvec__max_features': 3000, 'cvec__min_df': 2, 'cvec__ngram_range': (1, 2), 'logreg__C': 0.01}\n"
     ]
    }
   ],
   "source": [
    "# Define Parameters and run Gridsearch\n",
    "params = {\n",
    "    'cvec__max_features': [2500, 3000, 3500],\n",
    "    'cvec__min_df': [2, 3],\n",
    "    'cvec__max_df': [.9, .95],\n",
    "    'cvec__ngram_range': [(1,1), (1,2)],\n",
    "    'logreg__C': [0.01, 0.1, 1]\n",
    "}\n",
    "gs = GridSearchCV(pipe, param_grid=params, cv=3)\n",
    "gs.fit(X_train, y_train)\n",
    "print(f'Best Cross-Validation Accuracy: {gs.best_score_}')\n",
    "print(f'Accuracy on Train Set: {gs.score(X_train, y_train)}')\n",
    "print(f'Accuracy on Test Set: {gs.score(X_test, y_test)}')\n",
    "print(gs.best_params_)"
   ]
  },
  {
   "cell_type": "code",
   "execution_count": 161,
   "metadata": {},
   "outputs": [
    {
     "output_type": "execute_result",
     "data": {
      "text/plain": [
       "                   pred_googlehome  pred_amazonecho\n",
       "actual_googlehome              544               81\n",
       "actual_amazonecho              106              546"
      ],
      "text/html": "<div>\n<style scoped>\n    .dataframe tbody tr th:only-of-type {\n        vertical-align: middle;\n    }\n\n    .dataframe tbody tr th {\n        vertical-align: top;\n    }\n\n    .dataframe thead th {\n        text-align: right;\n    }\n</style>\n<table border=\"1\" class=\"dataframe\">\n  <thead>\n    <tr style=\"text-align: right;\">\n      <th></th>\n      <th>pred_googlehome</th>\n      <th>pred_amazonecho</th>\n    </tr>\n  </thead>\n  <tbody>\n    <tr>\n      <th>actual_googlehome</th>\n      <td>544</td>\n      <td>81</td>\n    </tr>\n    <tr>\n      <th>actual_amazonecho</th>\n      <td>106</td>\n      <td>546</td>\n    </tr>\n  </tbody>\n</table>\n</div>"
     },
     "metadata": {},
     "execution_count": 161
    }
   ],
   "source": [
    "# Generate Confusion Matrix\n",
    "pred = gs.predict(X_test)\n",
    "pd.DataFrame(confusion_matrix(y_test, pred),\n",
    "                         columns=['pred_googlehome', 'pred_amazonecho'],\n",
    "                         index=['actual_googlehome', 'actual_amazonecho'])"
   ]
  },
  {
   "cell_type": "code",
   "execution_count": 162,
   "metadata": {},
   "outputs": [
    {
     "output_type": "stream",
     "name": "stdout",
     "text": [
      "Accuracy: 0.8535630383711824\nSensitivity: 0.8374233128834356\nSpecificity: 0.8704\nPrecision: 0.8708133971291866\n"
     ]
    }
   ],
   "source": [
    "# Generate Scores\n",
    "tn, fp, fn, tp = confusion_matrix(y_test, pred).ravel()\n",
    "accuracy = (tp + tn) / (tp + tn + fp + fn)\n",
    "print(f'Accuracy: {accuracy}')\n",
    "\n",
    "sensitivity = tp / (tp + fn)\n",
    "print(f'Sensitivity: {sensitivity}')\n",
    "\n",
    "specificity = tn / (tn + fp)\n",
    "print(f'Specificity: {specificity}')\n",
    "\n",
    "precision = tp / (tp + fp)\n",
    "print(f'Precision: {precision}')"
   ]
  },
  {
   "cell_type": "code",
   "execution_count": 163,
   "metadata": {},
   "outputs": [],
   "source": [
    "# Save scores to results\n",
    "results['cvec_logreg'] = [gs.score(X_train, y_train), gs.score(X_test, y_test),\n",
    "                            sensitivity, specificity, precision]"
   ]
  },
  {
   "cell_type": "code",
   "execution_count": 151,
   "metadata": {},
   "outputs": [
    {
     "output_type": "execute_result",
     "data": {
      "text/plain": [
       "                   coef\n",
       "nest          -0.670732\n",
       "mini          -0.620359\n",
       "assistant     -0.470890\n",
       "hub           -0.348970\n",
       "chromecast    -0.295793\n",
       "speaker       -0.260731\n",
       "hey           -0.253652\n",
       "app           -0.193865\n",
       "gh            -0.185647\n",
       "nest hub      -0.184344\n",
       "cast          -0.165388\n",
       "smart         -0.164144\n",
       "youtube music -0.158229\n",
       "max           -0.155638\n",
       "ask           -0.150657\n",
       "youtube       -0.150135\n",
       "ok            -0.142239\n",
       "lenovo        -0.134971\n",
       "list          -0.130318\n",
       "command       -0.125050"
      ],
      "text/html": "<div>\n<style scoped>\n    .dataframe tbody tr th:only-of-type {\n        vertical-align: middle;\n    }\n\n    .dataframe tbody tr th {\n        vertical-align: top;\n    }\n\n    .dataframe thead th {\n        text-align: right;\n    }\n</style>\n<table border=\"1\" class=\"dataframe\">\n  <thead>\n    <tr style=\"text-align: right;\">\n      <th></th>\n      <th>coef</th>\n    </tr>\n  </thead>\n  <tbody>\n    <tr>\n      <th>nest</th>\n      <td>-0.670732</td>\n    </tr>\n    <tr>\n      <th>mini</th>\n      <td>-0.620359</td>\n    </tr>\n    <tr>\n      <th>assistant</th>\n      <td>-0.470890</td>\n    </tr>\n    <tr>\n      <th>hub</th>\n      <td>-0.348970</td>\n    </tr>\n    <tr>\n      <th>chromecast</th>\n      <td>-0.295793</td>\n    </tr>\n    <tr>\n      <th>speaker</th>\n      <td>-0.260731</td>\n    </tr>\n    <tr>\n      <th>hey</th>\n      <td>-0.253652</td>\n    </tr>\n    <tr>\n      <th>app</th>\n      <td>-0.193865</td>\n    </tr>\n    <tr>\n      <th>gh</th>\n      <td>-0.185647</td>\n    </tr>\n    <tr>\n      <th>nest hub</th>\n      <td>-0.184344</td>\n    </tr>\n    <tr>\n      <th>cast</th>\n      <td>-0.165388</td>\n    </tr>\n    <tr>\n      <th>smart</th>\n      <td>-0.164144</td>\n    </tr>\n    <tr>\n      <th>youtube music</th>\n      <td>-0.158229</td>\n    </tr>\n    <tr>\n      <th>max</th>\n      <td>-0.155638</td>\n    </tr>\n    <tr>\n      <th>ask</th>\n      <td>-0.150657</td>\n    </tr>\n    <tr>\n      <th>youtube</th>\n      <td>-0.150135</td>\n    </tr>\n    <tr>\n      <th>ok</th>\n      <td>-0.142239</td>\n    </tr>\n    <tr>\n      <th>lenovo</th>\n      <td>-0.134971</td>\n    </tr>\n    <tr>\n      <th>list</th>\n      <td>-0.130318</td>\n    </tr>\n    <tr>\n      <th>command</th>\n      <td>-0.125050</td>\n    </tr>\n  </tbody>\n</table>\n</div>"
     },
     "metadata": {},
     "execution_count": 151
    }
   ],
   "source": [
    "# Examine feature importances\n",
    "coef.sort_values('coef', ascending=True).head(20)"
   ]
  },
  {
   "cell_type": "code",
   "execution_count": 150,
   "metadata": {},
   "outputs": [
    {
     "output_type": "execute_result",
     "data": {
      "text/plain": [
       "               coef\n",
       "alexa      1.180783\n",
       "dot        0.786842\n",
       "gen        0.354374\n",
       "skill      0.301190\n",
       "studio     0.296466\n",
       "alexa app  0.196573\n",
       "4th        0.181208\n",
       "prime      0.144895\n",
       "4th gen    0.142408\n",
       "want       0.135105\n",
       "screen     0.134283\n",
       "zigbee     0.131117\n",
       "ring       0.128304\n",
       "video      0.119351\n",
       "sound      0.118075\n",
       "cube       0.115069\n",
       "bud        0.114515\n",
       "auto       0.110849\n",
       "bought     0.104614\n",
       "flex       0.099361"
      ],
      "text/html": "<div>\n<style scoped>\n    .dataframe tbody tr th:only-of-type {\n        vertical-align: middle;\n    }\n\n    .dataframe tbody tr th {\n        vertical-align: top;\n    }\n\n    .dataframe thead th {\n        text-align: right;\n    }\n</style>\n<table border=\"1\" class=\"dataframe\">\n  <thead>\n    <tr style=\"text-align: right;\">\n      <th></th>\n      <th>coef</th>\n    </tr>\n  </thead>\n  <tbody>\n    <tr>\n      <th>alexa</th>\n      <td>1.180783</td>\n    </tr>\n    <tr>\n      <th>dot</th>\n      <td>0.786842</td>\n    </tr>\n    <tr>\n      <th>gen</th>\n      <td>0.354374</td>\n    </tr>\n    <tr>\n      <th>skill</th>\n      <td>0.301190</td>\n    </tr>\n    <tr>\n      <th>studio</th>\n      <td>0.296466</td>\n    </tr>\n    <tr>\n      <th>alexa app</th>\n      <td>0.196573</td>\n    </tr>\n    <tr>\n      <th>4th</th>\n      <td>0.181208</td>\n    </tr>\n    <tr>\n      <th>prime</th>\n      <td>0.144895</td>\n    </tr>\n    <tr>\n      <th>4th gen</th>\n      <td>0.142408</td>\n    </tr>\n    <tr>\n      <th>want</th>\n      <td>0.135105</td>\n    </tr>\n    <tr>\n      <th>screen</th>\n      <td>0.134283</td>\n    </tr>\n    <tr>\n      <th>zigbee</th>\n      <td>0.131117</td>\n    </tr>\n    <tr>\n      <th>ring</th>\n      <td>0.128304</td>\n    </tr>\n    <tr>\n      <th>video</th>\n      <td>0.119351</td>\n    </tr>\n    <tr>\n      <th>sound</th>\n      <td>0.118075</td>\n    </tr>\n    <tr>\n      <th>cube</th>\n      <td>0.115069</td>\n    </tr>\n    <tr>\n      <th>bud</th>\n      <td>0.114515</td>\n    </tr>\n    <tr>\n      <th>auto</th>\n      <td>0.110849</td>\n    </tr>\n    <tr>\n      <th>bought</th>\n      <td>0.104614</td>\n    </tr>\n    <tr>\n      <th>flex</th>\n      <td>0.099361</td>\n    </tr>\n  </tbody>\n</table>\n</div>"
     },
     "metadata": {},
     "execution_count": 150
    }
   ],
   "source": [
    "# Examine feature importances\n",
    "coef = pd.DataFrame(gs.best_estimator_.named_steps['logreg'].coef_.T,index=gs.best_estimator_.named_steps['cvec'].get_feature_names(), columns=['coef'])\n",
    "coef.sort_values('coef', ascending=False).head(20)"
   ]
  },
  {
   "source": [
    "### Setting Up Pipelines for Other Classification Methods using Count Vectorizer and TFIDF Vectorizer"
   ],
   "cell_type": "markdown",
   "metadata": {}
  },
  {
   "cell_type": "code",
   "execution_count": 168,
   "metadata": {},
   "outputs": [],
   "source": [
    "# CountVectorizer + Multimonial Naive Bayes\n",
    "pipe_cvec_mnb = Pipeline([('cvec', CountVectorizer(stop_words=text.ENGLISH_STOP_WORDS.union(['google', 'home', 'amazon', 'echo']))),\n",
    "                 ('mnb', MultinomialNB())\n",
    "                 ])\n",
    "\n",
    "# CountVectorizer + Random Forest\n",
    "pipe_cvec_rf = Pipeline([('cvec', CountVectorizer(stop_words=text.ENGLISH_STOP_WORDS.union(['google', 'home', 'amazon', 'echo']))),\n",
    "                 ('rf', RandomForestClassifier())\n",
    "                 ])\n",
    "\n",
    "# CountVectorizer + Support Vector Classifier\n",
    "pipe_cvec_svc = Pipeline([('cvec', CountVectorizer(stop_words=text.ENGLISH_STOP_WORDS.union(['google', 'home', 'amazon', 'echo']))),\n",
    "                 ('svc', SVC())\n",
    "                 ])"
   ]
  },
  {
   "cell_type": "code",
   "execution_count": 202,
   "metadata": {},
   "outputs": [],
   "source": [
    "# TFIDFVectorizer + Logistic Regression\n",
    "pipe_tvec_logreg = Pipeline([('tvec', TfidfVectorizer(stop_words=text.ENGLISH_STOP_WORDS.union(['google', 'home', 'amazon', 'echo']))),\n",
    "                 ('logreg', LogisticRegression())\n",
    "                 ])\n",
    "\n",
    "# TFIDFVectorizer + Multinomial Naive Bayes\n",
    "pipe_tvec_mnb = Pipeline([('tvec', TfidfVectorizer(stop_words=text.ENGLISH_STOP_WORDS.union(['google', 'home', 'amazon', 'echo']))),\n",
    "                 ('mnb', MultinomialNB())\n",
    "                 ])\n",
    "\n",
    "# TFIDFVectorizer + Random Forest\n",
    "pipe_tvec_rf = Pipeline([('tvec', TfidfVectorizer(stop_words=text.ENGLISH_STOP_WORDS.union(['google', 'home', 'amazon', 'echo']))),\n",
    "                 ('rf', RandomForestClassifier())\n",
    "                 ])\n",
    "\n",
    "# TFIDFVectorizer + Support Vector Classifier\n",
    "pipe_tvec_svc = Pipeline([('tvec', TfidfVectorizer(stop_words=text.ENGLISH_STOP_WORDS.union(['google', 'home', 'amazon', 'echo']))),\n",
    "                 ('svc', SVC())\n",
    "                 ])"
   ]
  },
  {
   "cell_type": "code",
   "execution_count": 183,
   "metadata": {},
   "outputs": [],
   "source": [
    "params_cvec_mnb = {\n",
    "    'cvec__max_features': [2500, 3000, 3500],\n",
    "    'cvec__min_df': [2, 3],\n",
    "    'cvec__max_df': [.9, .95],\n",
    "    'cvec__ngram_range': [(1,1), (1,2)],\n",
    "    'mnb__alpha': [0.01, 0.05, 0.5, 0.95, 1],\n",
    "}\n",
    "\n",
    "params_cvec_rf = {\n",
    "    'cvec__max_features': [2500, 3000, 3500],\n",
    "    'cvec__min_df': [2, 3],\n",
    "    'cvec__max_df': [.9, .95],\n",
    "    'cvec__ngram_range': [(1,1), (1,2)],\n",
    "    'rf__max_depth' : [3, 4],\n",
    "    'rf__min_samples_split': [2, 3],\n",
    "    'rf__min_samples_leaf': [2, 3],\n",
    "    'rf__n_estimators': [100, 150, 200],\n",
    "    'rf__max_features': ['auto', 'log2', None]\n",
    "}\n",
    "\n",
    "params_cvec_svc = {\n",
    "    'cvec__max_features': [2500, 3000, 3500],\n",
    "    'cvec__min_df': [2, 3],\n",
    "    'cvec__max_df': [.9, .95],\n",
    "    'cvec__ngram_range': [(1,1), (1,2)],\n",
    "    'svc__kernel': ['rbf'],\n",
    "    'svc__C': np.logspace(0.0001, 1, 20)\n",
    "}"
   ]
  },
  {
   "cell_type": "code",
   "execution_count": 222,
   "metadata": {},
   "outputs": [],
   "source": [
    "params_tvec_logreg = {\n",
    "    'tvec__max_features': [2500, 3000, 3500],\n",
    "    'tvec__min_df': [2, 3],\n",
    "    'tvec__max_df': [.9, .95],\n",
    "    'tvec__ngram_range': [(1,1), (1,2)],\n",
    "    'logreg__C': [0.01, 0.1, 1]\n",
    "}\n",
    "\n",
    "params_tvec_mnb = {\n",
    "    'tvec__max_features': [2500, 3000, 3500],\n",
    "    'tvec__min_df': [2, 3],\n",
    "    'tvec__max_df': [.9, .95],\n",
    "    'tvec__ngram_range': [(1,1), (1,2)],\n",
    "    'mnb__alpha': [0.01, 0.05, 0.5, 0.95, 1],\n",
    "}\n",
    "\n",
    "params_tvec_rf = {\n",
    "    'tvec__max_features': [2500, 3000, 3500],\n",
    "    'tvec__min_df': [2, 3],\n",
    "    'tvec__max_df': [.9, .95],\n",
    "    'tvec__ngram_range': [(1,1), (1,2)],\n",
    "    'rf__max_depth' : [3, 4],\n",
    "    'rf__min_samples_split': [2, 3],\n",
    "    'rf__min_samples_leaf': [2, 3],\n",
    "    'rf__n_estimators': [100, 150, 200],\n",
    "    'rf__max_features': ['auto']\n",
    "}\n",
    "\n",
    "params_tvec_svc = {\n",
    "    'tvec__max_features': [2500, 3000, 3500],\n",
    "    'tvec__min_df': [2, 3],\n",
    "    'tvec__max_df': [.9, .95],\n",
    "    'tvec__ngram_range': [(1,1), (1,2)],\n",
    "    'svc__degree': [2],\n",
    "    'svc__kernel': ['rbf', 'poly'],\n",
    "    'svc__C': np.logspace(0.0001, 1, 20)\n",
    "}"
   ]
  },
  {
   "cell_type": "code",
   "execution_count": 188,
   "metadata": {},
   "outputs": [],
   "source": [
    "def model(pipe, params, name):\n",
    "    \"\"\"\n",
    "    Inputs: Pipeline, Parameters for the Pipeline, Name of the Model\n",
    "    Output: Runs the corresponding model and saves accuracy scores to results dictionary\n",
    "    \"\"\"\n",
    "    gs = GridSearchCV(pipe,params,cv=3,verbose=1,n_jobs=-1) # Runs Model \n",
    "    gs.fit(X_train, y_train)\n",
    "    print(f'Best Cross-Validation Accuracy: {gs.best_score_}')\n",
    "    print(f'Accuracy on Train Set: {gs.score(X_train, y_train)}')\n",
    "    print(f'Accuracy on Test Set: {gs.score(X_test, y_test)}')\n",
    "    print(gs.best_params_)\n",
    "\n",
    "    print('')\n",
    "    \n",
    "    pred = gs.predict(X_test) # Generates Confusion Matrix and Scores\n",
    "    print(pd.DataFrame(confusion_matrix(y_test, pred),\n",
    "                         columns=['pred_googlehome', 'pred_amazonecho'],\n",
    "                         index=['actual_googlehome', 'actual_amazonecho']))\n",
    "    tn, fp, fn, tp = confusion_matrix(y_test, pred).ravel()\n",
    "    sensitivity = tp / (tp + fn)\n",
    "    print(f'Sensitivity: {sensitivity}')\n",
    "    specificity = tn / (tn + fp)\n",
    "    print(f'Specificity: {specificity}')\n",
    "    precision = tp / (tp + fp)\n",
    "    print(f'Precision: {precision}')\n",
    "    \n",
    "    results[name] = [gs.score(X_train, y_train), gs.score(X_test, y_test), sensitivity, specificity, precision] # Saves scores to result dictionary"
   ]
  },
  {
   "source": [
    "### Running each model"
   ],
   "cell_type": "markdown",
   "metadata": {}
  },
  {
   "cell_type": "code",
   "execution_count": 189,
   "metadata": {},
   "outputs": [
    {
     "output_type": "stream",
     "name": "stdout",
     "text": [
      "Fitting 3 folds for each of 120 candidates, totalling 360 fits\n",
      "[Parallel(n_jobs=-1)]: Using backend LokyBackend with 8 concurrent workers.\n",
      "[Parallel(n_jobs=-1)]: Done  34 tasks      | elapsed:    4.9s\n",
      "[Parallel(n_jobs=-1)]: Done 184 tasks      | elapsed:   28.2s\n",
      "[Parallel(n_jobs=-1)]: Done 360 out of 360 | elapsed:   56.1s finished\n",
      "Best Cross-Validation Accuracy: 0.8676250256732528\n",
      "Accuracy on Train Set: 0.918798955613577\n",
      "Accuracy on Test Set: 0.851213782302271\n",
      "{'cvec__max_df': 0.9, 'cvec__max_features': 2500, 'cvec__min_df': 2, 'cvec__ngram_range': (1, 2), 'mnb__alpha': 0.95}\n",
      "\n",
      "                   pred_googlehome  pred_amazonecho\n",
      "actual_googlehome              536               89\n",
      "actual_amazonecho              101              551\n",
      "Sensitivity: 0.8450920245398773\n",
      "Specificity: 0.8576\n",
      "Precision: 0.8609375\n"
     ]
    }
   ],
   "source": [
    "model(pipe_cvec_mnb, params_cvec_mnb, 'cvec_mnb')"
   ]
  },
  {
   "cell_type": "code",
   "execution_count": 191,
   "metadata": {},
   "outputs": [
    {
     "output_type": "stream",
     "name": "stdout",
     "text": [
      "Fitting 3 folds for each of 1728 candidates, totalling 5184 fits\n",
      "[Parallel(n_jobs=-1)]: Using backend LokyBackend with 8 concurrent workers.\n",
      "[Parallel(n_jobs=-1)]: Done  34 tasks      | elapsed:    7.9s\n",
      "[Parallel(n_jobs=-1)]: Done 184 tasks      | elapsed:   50.7s\n",
      "[Parallel(n_jobs=-1)]: Done 434 tasks      | elapsed:  2.9min\n",
      "[Parallel(n_jobs=-1)]: Done 784 tasks      | elapsed:  5.3min\n",
      "[Parallel(n_jobs=-1)]: Done 1234 tasks      | elapsed:  8.5min\n",
      "[Parallel(n_jobs=-1)]: Done 1784 tasks      | elapsed: 12.5min\n",
      "[Parallel(n_jobs=-1)]: Done 2434 tasks      | elapsed: 17.1min\n",
      "[Parallel(n_jobs=-1)]: Done 3184 tasks      | elapsed: 22.5min\n",
      "[Parallel(n_jobs=-1)]: Done 4034 tasks      | elapsed: 28.4min\n",
      "[Parallel(n_jobs=-1)]: Done 4984 tasks      | elapsed: 35.8min\n",
      "[Parallel(n_jobs=-1)]: Done 5184 out of 5184 | elapsed: 37.6min finished\n",
      "Best Cross-Validation Accuracy: 0.8561375235355199\n",
      "Accuracy on Train Set: 0.8827676240208877\n",
      "Accuracy on Test Set: 0.841033672670321\n",
      "{'cvec__max_df': 0.9, 'cvec__max_features': 3000, 'cvec__min_df': 3, 'cvec__ngram_range': (1, 1), 'rf__max_depth': 4, 'rf__max_features': 'auto', 'rf__min_samples_leaf': 2, 'rf__min_samples_split': 2, 'rf__n_estimators': 100}\n",
      "\n",
      "                   pred_googlehome  pred_amazonecho\n",
      "actual_googlehome              475              150\n",
      "actual_amazonecho               53              599\n",
      "Sensitivity: 0.9187116564417178\n",
      "Specificity: 0.76\n",
      "Precision: 0.7997329773030708\n"
     ]
    }
   ],
   "source": [
    "model(pipe_cvec_rf, params_cvec_rf, 'cvec_rf')"
   ]
  },
  {
   "cell_type": "code",
   "execution_count": 193,
   "metadata": {},
   "outputs": [
    {
     "output_type": "stream",
     "name": "stdout",
     "text": [
      "Fitting 3 folds for each of 480 candidates, totalling 1440 fits\n",
      "[Parallel(n_jobs=-1)]: Using backend LokyBackend with 8 concurrent workers.\n",
      "[Parallel(n_jobs=-1)]: Done  34 tasks      | elapsed:   19.5s\n",
      "[Parallel(n_jobs=-1)]: Done 184 tasks      | elapsed:  1.7min\n",
      "[Parallel(n_jobs=-1)]: Done 434 tasks      | elapsed:  4.1min\n",
      "[Parallel(n_jobs=-1)]: Done 784 tasks      | elapsed:  7.6min\n",
      "[Parallel(n_jobs=-1)]: Done 1234 tasks      | elapsed: 12.0min\n",
      "[Parallel(n_jobs=-1)]: Done 1440 out of 1440 | elapsed: 14.2min finished\n",
      "Best Cross-Validation Accuracy: 0.8697148898320827\n",
      "Accuracy on Train Set: 0.9592689295039164\n",
      "Accuracy on Test Set: 0.8433829287392326\n",
      "{'cvec__max_df': 0.9, 'cvec__max_features': 2500, 'cvec__min_df': 2, 'cvec__ngram_range': (1, 2), 'svc__C': 1.0002302850208247, 'svc__kernel': 'rbf'}\n",
      "\n",
      "                   pred_googlehome  pred_amazonecho\n",
      "actual_googlehome              535               90\n",
      "actual_amazonecho              110              542\n",
      "Sensitivity: 0.8312883435582822\n",
      "Specificity: 0.856\n",
      "Precision: 0.8575949367088608\n"
     ]
    }
   ],
   "source": [
    "model(pipe_cvec_svc, params_cvec_svc, 'cvec_svc')"
   ]
  },
  {
   "cell_type": "code",
   "execution_count": 203,
   "metadata": {},
   "outputs": [
    {
     "output_type": "stream",
     "name": "stdout",
     "text": [
      "Fitting 3 folds for each of 72 candidates, totalling 216 fits\n",
      "[Parallel(n_jobs=-1)]: Using backend LokyBackend with 8 concurrent workers.\n",
      "[Parallel(n_jobs=-1)]: Done  34 tasks      | elapsed:    8.8s\n",
      "[Parallel(n_jobs=-1)]: Done 184 tasks      | elapsed:   32.2s\n",
      "[Parallel(n_jobs=-1)]: Done 216 out of 216 | elapsed:   37.3s finished\n",
      "Best Cross-Validation Accuracy: 0.8780688231380857\n",
      "Accuracy on Train Set: 0.9530026109660574\n",
      "Accuracy on Test Set: 0.8684416601409554\n",
      "{'logreg__C': 1, 'tvec__max_df': 0.9, 'tvec__max_features': 2500, 'tvec__min_df': 2, 'tvec__ngram_range': (1, 2)}\n",
      "\n",
      "                   pred_googlehome  pred_amazonecho\n",
      "actual_googlehome              550               75\n",
      "actual_amazonecho               93              559\n",
      "Sensitivity: 0.8573619631901841\n",
      "Specificity: 0.88\n",
      "Precision: 0.8817034700315457\n"
     ]
    }
   ],
   "source": [
    "model(pipe_tvec_logreg, params_tvec_logreg, 'tvec_logreg')"
   ]
  },
  {
   "cell_type": "code",
   "execution_count": 212,
   "metadata": {},
   "outputs": [
    {
     "output_type": "stream",
     "name": "stdout",
     "text": [
      "Fitting 3 folds for each of 120 candidates, totalling 360 fits\n",
      "[Parallel(n_jobs=-1)]: Using backend LokyBackend with 8 concurrent workers.\n",
      "[Parallel(n_jobs=-1)]: Done  34 tasks      | elapsed:    5.0s\n",
      "[Parallel(n_jobs=-1)]: Done 184 tasks      | elapsed:   27.9s\n",
      "[Parallel(n_jobs=-1)]: Done 360 out of 360 | elapsed:   54.6s finished\n",
      "Best Cross-Validation Accuracy: 0.8582249328813205\n",
      "Accuracy on Train Set: 0.9412532637075718\n",
      "Accuracy on Test Set: 0.855912294440094\n",
      "{'mnb__alpha': 1, 'tvec__max_df': 0.9, 'tvec__max_features': 3500, 'tvec__min_df': 2, 'tvec__ngram_range': (1, 2)}\n",
      "\n",
      "                   pred_googlehome  pred_amazonecho\n",
      "actual_googlehome              530               95\n",
      "actual_amazonecho               89              563\n",
      "Sensitivity: 0.8634969325153374\n",
      "Specificity: 0.848\n",
      "Precision: 0.8556231003039514\n"
     ]
    }
   ],
   "source": [
    "model(pipe_tvec_mnb, params_tvec_mnb, 'tvec_mnb')"
   ]
  },
  {
   "cell_type": "code",
   "execution_count": 214,
   "metadata": {},
   "outputs": [
    {
     "output_type": "stream",
     "name": "stdout",
     "text": [
      "Fitting 3 folds for each of 576 candidates, totalling 1728 fits\n",
      "[Parallel(n_jobs=-1)]: Using backend LokyBackend with 8 concurrent workers.\n",
      "[Parallel(n_jobs=-1)]: Done  34 tasks      | elapsed:    8.1s\n",
      "[Parallel(n_jobs=-1)]: Done 184 tasks      | elapsed:   49.9s\n",
      "[Parallel(n_jobs=-1)]: Done 434 tasks      | elapsed:  2.2min\n",
      "[Parallel(n_jobs=-1)]: Done 784 tasks      | elapsed:  4.0min\n",
      "[Parallel(n_jobs=-1)]: Done 1234 tasks      | elapsed:  6.5min\n",
      "[Parallel(n_jobs=-1)]: Done 1728 out of 1728 | elapsed:  9.2min finished\n",
      "Best Cross-Validation Accuracy: 0.8587486263275425\n",
      "Accuracy on Train Set: 0.8428198433420365\n",
      "Accuracy on Test Set: 0.7877838684416602\n",
      "{'rf__max_depth': 4, 'rf__max_features': 'auto', 'rf__min_samples_leaf': 2, 'rf__min_samples_split': 2, 'rf__n_estimators': 150, 'tvec__max_df': 0.9, 'tvec__max_features': 3000, 'tvec__min_df': 2, 'tvec__ngram_range': (1, 1)}\n",
      "\n",
      "                   pred_googlehome  pred_amazonecho\n",
      "actual_googlehome              388              237\n",
      "actual_amazonecho               34              618\n",
      "Sensitivity: 0.9478527607361963\n",
      "Specificity: 0.6208\n",
      "Precision: 0.7228070175438597\n"
     ]
    }
   ],
   "source": [
    "model(pipe_tvec_rf, params_tvec_rf, 'tvec_rf')"
   ]
  },
  {
   "cell_type": "code",
   "execution_count": 241,
   "metadata": {},
   "outputs": [
    {
     "output_type": "stream",
     "name": "stdout",
     "text": [
      "Fitting 3 folds for each of 960 candidates, totalling 2880 fits\n",
      "[Parallel(n_jobs=-1)]: Using backend LokyBackend with 8 concurrent workers.\n",
      "[Parallel(n_jobs=-1)]: Done  34 tasks      | elapsed:   28.6s\n",
      "[Parallel(n_jobs=-1)]: Done 184 tasks      | elapsed:  2.5min\n",
      "[Parallel(n_jobs=-1)]: Done 434 tasks      | elapsed:  5.7min\n",
      "[Parallel(n_jobs=-1)]: Done 784 tasks      | elapsed: 10.2min\n",
      "[Parallel(n_jobs=-1)]: Done 1234 tasks      | elapsed: 16.1min\n",
      "[Parallel(n_jobs=-1)]: Done 1784 tasks      | elapsed: 22.3min\n",
      "[Parallel(n_jobs=-1)]: Done 2434 tasks      | elapsed: 29.2min\n",
      "[Parallel(n_jobs=-1)]: Done 2880 out of 2880 | elapsed: 34.0min finished\n",
      "Best Cross-Validation Accuracy: 0.8785919028810504\n",
      "Accuracy on Train Set: 0.995822454308094\n",
      "Accuracy on Test Set: 0.8629600626468285\n",
      "{'svc__C': 1.0002302850208247, 'svc__degree': 2, 'svc__kernel': 'rbf', 'tvec__max_df': 0.9, 'tvec__max_features': 2500, 'tvec__min_df': 3, 'tvec__ngram_range': (1, 1)}\n",
      "\n",
      "                   pred_googlehome  pred_amazonecho\n",
      "actual_googlehome              550               75\n",
      "actual_amazonecho              100              552\n",
      "Sensitivity: 0.8466257668711656\n",
      "Specificity: 0.88\n",
      "Precision: 0.8803827751196173\n"
     ]
    }
   ],
   "source": [
    "model(pipe_tvec_svc, params_tvec_svc, 'tvec_svc')"
   ]
  },
  {
   "source": [
    "### Determining Best Model"
   ],
   "cell_type": "markdown",
   "metadata": {}
  },
  {
   "cell_type": "code",
   "execution_count": 250,
   "metadata": {},
   "outputs": [],
   "source": [
    "# Turning results dictionary into dataframe\n",
    "df_results = pd.DataFrame(results, index=['train_set_acc', 'test_set_acc', 'sensitivity', 'specificity', 'precision']).T"
   ]
  },
  {
   "cell_type": "code",
   "execution_count": 251,
   "metadata": {},
   "outputs": [
    {
     "output_type": "execute_result",
     "data": {
      "text/plain": [
       "             train_set_acc  test_set_acc  sensitivity  specificity  precision\n",
       "cvec_logreg       0.915144      0.853563     0.837423       0.8704   0.870813\n",
       "cvec_mnb          0.918799      0.851214     0.845092       0.8576   0.860938\n",
       "cvec_rf           0.882768      0.841034     0.918712       0.7600   0.799733\n",
       "cvec_svc          0.959269      0.843383     0.831288       0.8560   0.857595\n",
       "tvec_logreg       0.953003      0.868442     0.857362       0.8800   0.881703\n",
       "tvec_mnb          0.941253      0.855912     0.863497       0.8480   0.855623\n",
       "tvec_rf           0.842820      0.787784     0.947853       0.6208   0.722807\n",
       "tvec_svc          0.995822      0.862960     0.846626       0.8800   0.880383"
      ],
      "text/html": "<div>\n<style scoped>\n    .dataframe tbody tr th:only-of-type {\n        vertical-align: middle;\n    }\n\n    .dataframe tbody tr th {\n        vertical-align: top;\n    }\n\n    .dataframe thead th {\n        text-align: right;\n    }\n</style>\n<table border=\"1\" class=\"dataframe\">\n  <thead>\n    <tr style=\"text-align: right;\">\n      <th></th>\n      <th>train_set_acc</th>\n      <th>test_set_acc</th>\n      <th>sensitivity</th>\n      <th>specificity</th>\n      <th>precision</th>\n    </tr>\n  </thead>\n  <tbody>\n    <tr>\n      <th>cvec_logreg</th>\n      <td>0.915144</td>\n      <td>0.853563</td>\n      <td>0.837423</td>\n      <td>0.8704</td>\n      <td>0.870813</td>\n    </tr>\n    <tr>\n      <th>cvec_mnb</th>\n      <td>0.918799</td>\n      <td>0.851214</td>\n      <td>0.845092</td>\n      <td>0.8576</td>\n      <td>0.860938</td>\n    </tr>\n    <tr>\n      <th>cvec_rf</th>\n      <td>0.882768</td>\n      <td>0.841034</td>\n      <td>0.918712</td>\n      <td>0.7600</td>\n      <td>0.799733</td>\n    </tr>\n    <tr>\n      <th>cvec_svc</th>\n      <td>0.959269</td>\n      <td>0.843383</td>\n      <td>0.831288</td>\n      <td>0.8560</td>\n      <td>0.857595</td>\n    </tr>\n    <tr>\n      <th>tvec_logreg</th>\n      <td>0.953003</td>\n      <td>0.868442</td>\n      <td>0.857362</td>\n      <td>0.8800</td>\n      <td>0.881703</td>\n    </tr>\n    <tr>\n      <th>tvec_mnb</th>\n      <td>0.941253</td>\n      <td>0.855912</td>\n      <td>0.863497</td>\n      <td>0.8480</td>\n      <td>0.855623</td>\n    </tr>\n    <tr>\n      <th>tvec_rf</th>\n      <td>0.842820</td>\n      <td>0.787784</td>\n      <td>0.947853</td>\n      <td>0.6208</td>\n      <td>0.722807</td>\n    </tr>\n    <tr>\n      <th>tvec_svc</th>\n      <td>0.995822</td>\n      <td>0.862960</td>\n      <td>0.846626</td>\n      <td>0.8800</td>\n      <td>0.880383</td>\n    </tr>\n  </tbody>\n</table>\n</div>"
     },
     "metadata": {},
     "execution_count": 251
    }
   ],
   "source": [
    "df_results"
   ]
  },
  {
   "cell_type": "code",
   "execution_count": 444,
   "metadata": {},
   "outputs": [
    {
     "output_type": "display_data",
     "data": {
      "text/plain": "<Figure size 880x400 with 1 Axes>",
      "image/svg+xml": "<?xml version=\"1.0\" encoding=\"utf-8\" standalone=\"no\"?>\n<!DOCTYPE svg PUBLIC \"-//W3C//DTD SVG 1.1//EN\"\n  \"http://www.w3.org/Graphics/SVG/1.1/DTD/svg11.dtd\">\n<!-- Created with matplotlib (https://matplotlib.org/) -->\n<svg height=\"363.898281pt\" version=\"1.1\" viewBox=\"0 0 680.2375 363.898281\" width=\"680.2375pt\" xmlns=\"http://www.w3.org/2000/svg\" xmlns:xlink=\"http://www.w3.org/1999/xlink\">\n <metadata>\n  <rdf:RDF xmlns:cc=\"http://creativecommons.org/ns#\" xmlns:dc=\"http://purl.org/dc/elements/1.1/\" xmlns:rdf=\"http://www.w3.org/1999/02/22-rdf-syntax-ns#\">\n   <cc:Work>\n    <dc:type rdf:resource=\"http://purl.org/dc/dcmitype/StillImage\"/>\n    <dc:date>2021-04-22T23:26:28.667983</dc:date>\n    <dc:format>image/svg+xml</dc:format>\n    <dc:creator>\n     <cc:Agent>\n      <dc:title>Matplotlib v3.3.2, https://matplotlib.org/</dc:title>\n     </cc:Agent>\n    </dc:creator>\n   </cc:Work>\n  </rdf:RDF>\n </metadata>\n <defs>\n  <style type=\"text/css\">*{stroke-linecap:butt;stroke-linejoin:round;}</style>\n </defs>\n <g id=\"figure_1\">\n  <g id=\"patch_1\">\n   <path d=\"M 0 363.898281 \nL 680.2375 363.898281 \nL 680.2375 0 \nL 0 0 \nz\n\" style=\"fill:#ffffff;\"/>\n  </g>\n  <g id=\"axes_1\">\n   <g id=\"patch_2\">\n    <path d=\"M 53.2375 316.8475 \nL 667.0375 316.8475 \nL 667.0375 28.8475 \nL 53.2375 28.8475 \nz\n\" style=\"fill:#ffffff;\"/>\n   </g>\n   <g id=\"matplotlib.axis_1\">\n    <g id=\"xtick_1\">\n     <g id=\"line2d_1\">\n      <path clip-path=\"url(#pe8a3a78b21)\" d=\"M 91.6 316.8475 \nL 91.6 28.8475 \n\" style=\"fill:none;stroke:#cccccc;stroke-linecap:round;\"/>\n     </g>\n     <g id=\"line2d_2\">\n      <defs>\n       <path d=\"M 0 0 \nL 0 6 \n\" id=\"mc4deb697db\" style=\"stroke:#262626;stroke-width:1.25;\"/>\n      </defs>\n      <g>\n       <use style=\"fill:#262626;stroke:#262626;stroke-width:1.25;\" x=\"91.6\" xlink:href=\"#mc4deb697db\" y=\"316.8475\"/>\n      </g>\n     </g>\n     <g id=\"line2d_3\">\n      <defs>\n       <path d=\"M 0 0 \nL 0 -6 \n\" id=\"m38e9653a28\" style=\"stroke:#262626;stroke-width:1.25;\"/>\n      </defs>\n      <g>\n       <use style=\"fill:#262626;stroke:#262626;stroke-width:1.25;\" x=\"91.6\" xlink:href=\"#m38e9653a28\" y=\"28.8475\"/>\n      </g>\n     </g>\n     <g id=\"text_1\">\n      <!-- tvec_rf -->\n      <g style=\"fill:#262626;\" transform=\"translate(72.094922 336.311094)scale(0.13 -0.13)\">\n       <defs>\n        <path d=\"M 25.78125 7.859375 \nL 27.046875 0.09375 \nQ 23.34375 -0.6875 20.40625 -0.6875 \nQ 15.625 -0.6875 12.984375 0.828125 \nQ 10.359375 2.34375 9.28125 4.8125 \nQ 8.203125 7.28125 8.203125 15.1875 \nL 8.203125 45.015625 \nL 1.765625 45.015625 \nL 1.765625 51.859375 \nL 8.203125 51.859375 \nL 8.203125 64.703125 \nL 16.9375 69.96875 \nL 16.9375 51.859375 \nL 25.78125 51.859375 \nL 25.78125 45.015625 \nL 16.9375 45.015625 \nL 16.9375 14.703125 \nQ 16.9375 10.9375 17.40625 9.859375 \nQ 17.875 8.796875 18.921875 8.15625 \nQ 19.96875 7.515625 21.921875 7.515625 \nQ 23.390625 7.515625 25.78125 7.859375 \nz\n\" id=\"ArialMT-116\"/>\n        <path d=\"M 21 0 \nL 1.265625 51.859375 \nL 10.546875 51.859375 \nL 21.6875 20.796875 \nQ 23.484375 15.765625 25 10.359375 \nQ 26.171875 14.453125 28.265625 20.21875 \nL 39.796875 51.859375 \nL 48.828125 51.859375 \nL 29.203125 0 \nz\n\" id=\"ArialMT-118\"/>\n        <path d=\"M 42.09375 16.703125 \nL 51.171875 15.578125 \nQ 49.03125 7.625 43.21875 3.21875 \nQ 37.40625 -1.171875 28.375 -1.171875 \nQ 17 -1.171875 10.328125 5.828125 \nQ 3.65625 12.84375 3.65625 25.484375 \nQ 3.65625 38.578125 10.390625 45.796875 \nQ 17.140625 53.03125 27.875 53.03125 \nQ 38.28125 53.03125 44.875 45.953125 \nQ 51.46875 38.875 51.46875 26.03125 \nQ 51.46875 25.25 51.421875 23.6875 \nL 12.75 23.6875 \nQ 13.234375 15.140625 17.578125 10.59375 \nQ 21.921875 6.0625 28.421875 6.0625 \nQ 33.25 6.0625 36.671875 8.59375 \nQ 40.09375 11.140625 42.09375 16.703125 \nz\nM 13.234375 30.90625 \nL 42.1875 30.90625 \nQ 41.609375 37.453125 38.875 40.71875 \nQ 34.671875 45.796875 27.984375 45.796875 \nQ 21.921875 45.796875 17.796875 41.75 \nQ 13.671875 37.703125 13.234375 30.90625 \nz\n\" id=\"ArialMT-101\"/>\n        <path d=\"M 40.4375 19 \nL 49.078125 17.875 \nQ 47.65625 8.9375 41.8125 3.875 \nQ 35.984375 -1.171875 27.484375 -1.171875 \nQ 16.84375 -1.171875 10.375 5.78125 \nQ 3.90625 12.75 3.90625 25.734375 \nQ 3.90625 34.125 6.6875 40.421875 \nQ 9.46875 46.734375 15.15625 49.875 \nQ 20.84375 53.03125 27.546875 53.03125 \nQ 35.984375 53.03125 41.359375 48.75 \nQ 46.734375 44.484375 48.25 36.625 \nL 39.703125 35.296875 \nQ 38.484375 40.53125 35.375 43.15625 \nQ 32.28125 45.796875 27.875 45.796875 \nQ 21.234375 45.796875 17.078125 41.03125 \nQ 12.9375 36.28125 12.9375 25.984375 \nQ 12.9375 15.53125 16.9375 10.796875 \nQ 20.953125 6.0625 27.390625 6.0625 \nQ 32.5625 6.0625 36.03125 9.234375 \nQ 39.5 12.40625 40.4375 19 \nz\n\" id=\"ArialMT-99\"/>\n        <path d=\"M -1.515625 -19.875 \nL -1.515625 -13.53125 \nL 56.734375 -13.53125 \nL 56.734375 -19.875 \nz\n\" id=\"ArialMT-95\"/>\n        <path d=\"M 6.5 0 \nL 6.5 51.859375 \nL 14.40625 51.859375 \nL 14.40625 44 \nQ 17.4375 49.515625 20 51.265625 \nQ 22.5625 53.03125 25.640625 53.03125 \nQ 30.078125 53.03125 34.671875 50.203125 \nL 31.640625 42.046875 \nQ 28.421875 43.953125 25.203125 43.953125 \nQ 22.3125 43.953125 20.015625 42.21875 \nQ 17.71875 40.484375 16.75 37.40625 \nQ 15.28125 32.71875 15.28125 27.15625 \nL 15.28125 0 \nz\n\" id=\"ArialMT-114\"/>\n        <path d=\"M 8.6875 0 \nL 8.6875 45.015625 \nL 0.921875 45.015625 \nL 0.921875 51.859375 \nL 8.6875 51.859375 \nL 8.6875 57.375 \nQ 8.6875 62.59375 9.625 65.140625 \nQ 10.890625 68.5625 14.078125 70.671875 \nQ 17.28125 72.796875 23.046875 72.796875 \nQ 26.765625 72.796875 31.25 71.921875 \nL 29.9375 64.265625 \nQ 27.203125 64.75 24.75 64.75 \nQ 20.75 64.75 19.09375 63.03125 \nQ 17.4375 61.328125 17.4375 56.640625 \nL 17.4375 51.859375 \nL 27.546875 51.859375 \nL 27.546875 45.015625 \nL 17.4375 45.015625 \nL 17.4375 0 \nz\n\" id=\"ArialMT-102\"/>\n       </defs>\n       <use xlink:href=\"#ArialMT-116\"/>\n       <use x=\"27.783203\" xlink:href=\"#ArialMT-118\"/>\n       <use x=\"77.783203\" xlink:href=\"#ArialMT-101\"/>\n       <use x=\"133.398438\" xlink:href=\"#ArialMT-99\"/>\n       <use x=\"183.398438\" xlink:href=\"#ArialMT-95\"/>\n       <use x=\"239.013672\" xlink:href=\"#ArialMT-114\"/>\n       <use x=\"272.314453\" xlink:href=\"#ArialMT-102\"/>\n      </g>\n     </g>\n    </g>\n    <g id=\"xtick_2\">\n     <g id=\"line2d_4\">\n      <path clip-path=\"url(#pe8a3a78b21)\" d=\"M 168.325 316.8475 \nL 168.325 28.8475 \n\" style=\"fill:none;stroke:#cccccc;stroke-linecap:round;\"/>\n     </g>\n     <g id=\"line2d_5\">\n      <g>\n       <use style=\"fill:#262626;stroke:#262626;stroke-width:1.25;\" x=\"168.325\" xlink:href=\"#mc4deb697db\" y=\"316.8475\"/>\n      </g>\n     </g>\n     <g id=\"line2d_6\">\n      <g>\n       <use style=\"fill:#262626;stroke:#262626;stroke-width:1.25;\" x=\"168.325\" xlink:href=\"#m38e9653a28\" y=\"28.8475\"/>\n      </g>\n     </g>\n     <g id=\"text_2\">\n      <!-- cvec_rf -->\n      <g style=\"fill:#262626;\" transform=\"translate(147.375703 336.311094)scale(0.13 -0.13)\">\n       <use xlink:href=\"#ArialMT-99\"/>\n       <use x=\"50\" xlink:href=\"#ArialMT-118\"/>\n       <use x=\"100\" xlink:href=\"#ArialMT-101\"/>\n       <use x=\"155.615234\" xlink:href=\"#ArialMT-99\"/>\n       <use x=\"205.615234\" xlink:href=\"#ArialMT-95\"/>\n       <use x=\"261.230469\" xlink:href=\"#ArialMT-114\"/>\n       <use x=\"294.53125\" xlink:href=\"#ArialMT-102\"/>\n      </g>\n     </g>\n    </g>\n    <g id=\"xtick_3\">\n     <g id=\"line2d_7\">\n      <path clip-path=\"url(#pe8a3a78b21)\" d=\"M 245.05 316.8475 \nL 245.05 28.8475 \n\" style=\"fill:none;stroke:#cccccc;stroke-linecap:round;\"/>\n     </g>\n     <g id=\"line2d_8\">\n      <g>\n       <use style=\"fill:#262626;stroke:#262626;stroke-width:1.25;\" x=\"245.05\" xlink:href=\"#mc4deb697db\" y=\"316.8475\"/>\n      </g>\n     </g>\n     <g id=\"line2d_9\">\n      <g>\n       <use style=\"fill:#262626;stroke:#262626;stroke-width:1.25;\" x=\"245.05\" xlink:href=\"#m38e9653a28\" y=\"28.8475\"/>\n      </g>\n     </g>\n     <g id=\"text_3\">\n      <!-- cvec_svc -->\n      <g style=\"fill:#262626;\" transform=\"translate(218.320781 336.152656)scale(0.13 -0.13)\">\n       <defs>\n        <path d=\"M 3.078125 15.484375 \nL 11.765625 16.84375 \nQ 12.5 11.625 15.84375 8.84375 \nQ 19.1875 6.0625 25.203125 6.0625 \nQ 31.25 6.0625 34.171875 8.515625 \nQ 37.109375 10.984375 37.109375 14.3125 \nQ 37.109375 17.28125 34.515625 19 \nQ 32.71875 20.171875 25.53125 21.96875 \nQ 15.875 24.421875 12.140625 26.203125 \nQ 8.40625 27.984375 6.46875 31.125 \nQ 4.546875 34.28125 4.546875 38.09375 \nQ 4.546875 41.546875 6.125 44.5 \nQ 7.71875 47.46875 10.453125 49.421875 \nQ 12.5 50.921875 16.03125 51.96875 \nQ 19.578125 53.03125 23.640625 53.03125 \nQ 29.734375 53.03125 34.34375 51.265625 \nQ 38.96875 49.515625 41.15625 46.5 \nQ 43.359375 43.5 44.1875 38.484375 \nL 35.59375 37.3125 \nQ 35.015625 41.3125 32.203125 43.546875 \nQ 29.390625 45.796875 24.265625 45.796875 \nQ 18.21875 45.796875 15.625 43.796875 \nQ 13.03125 41.796875 13.03125 39.109375 \nQ 13.03125 37.40625 14.109375 36.03125 \nQ 15.1875 34.625 17.484375 33.6875 \nQ 18.796875 33.203125 25.25 31.453125 \nQ 34.578125 28.953125 38.25 27.359375 \nQ 41.9375 25.78125 44.03125 22.75 \nQ 46.140625 19.734375 46.140625 15.234375 \nQ 46.140625 10.84375 43.578125 6.953125 \nQ 41.015625 3.078125 36.171875 0.953125 \nQ 31.34375 -1.171875 25.25 -1.171875 \nQ 15.140625 -1.171875 9.84375 3.03125 \nQ 4.546875 7.234375 3.078125 15.484375 \nz\n\" id=\"ArialMT-115\"/>\n       </defs>\n       <use xlink:href=\"#ArialMT-99\"/>\n       <use x=\"50\" xlink:href=\"#ArialMT-118\"/>\n       <use x=\"100\" xlink:href=\"#ArialMT-101\"/>\n       <use x=\"155.615234\" xlink:href=\"#ArialMT-99\"/>\n       <use x=\"205.615234\" xlink:href=\"#ArialMT-95\"/>\n       <use x=\"261.230469\" xlink:href=\"#ArialMT-115\"/>\n       <use x=\"311.230469\" xlink:href=\"#ArialMT-118\"/>\n       <use x=\"361.230469\" xlink:href=\"#ArialMT-99\"/>\n      </g>\n     </g>\n    </g>\n    <g id=\"xtick_4\">\n     <g id=\"line2d_10\">\n      <path clip-path=\"url(#pe8a3a78b21)\" d=\"M 321.775 316.8475 \nL 321.775 28.8475 \n\" style=\"fill:none;stroke:#cccccc;stroke-linecap:round;\"/>\n     </g>\n     <g id=\"line2d_11\">\n      <g>\n       <use style=\"fill:#262626;stroke:#262626;stroke-width:1.25;\" x=\"321.775\" xlink:href=\"#mc4deb697db\" y=\"316.8475\"/>\n      </g>\n     </g>\n     <g id=\"line2d_12\">\n      <g>\n       <use style=\"fill:#262626;stroke:#262626;stroke-width:1.25;\" x=\"321.775\" xlink:href=\"#m38e9653a28\" y=\"28.8475\"/>\n      </g>\n     </g>\n     <g id=\"text_4\">\n      <!-- cvec_mnb -->\n      <g style=\"fill:#262626;\" transform=\"translate(292.152266 336.152656)scale(0.13 -0.13)\">\n       <defs>\n        <path d=\"M 6.59375 0 \nL 6.59375 51.859375 \nL 14.453125 51.859375 \nL 14.453125 44.578125 \nQ 16.890625 48.390625 20.9375 50.703125 \nQ 25 53.03125 30.171875 53.03125 \nQ 35.9375 53.03125 39.625 50.640625 \nQ 43.3125 48.25 44.828125 43.953125 \nQ 50.984375 53.03125 60.84375 53.03125 \nQ 68.5625 53.03125 72.703125 48.75 \nQ 76.859375 44.484375 76.859375 35.59375 \nL 76.859375 0 \nL 68.109375 0 \nL 68.109375 32.671875 \nQ 68.109375 37.9375 67.25 40.25 \nQ 66.40625 42.578125 64.15625 43.984375 \nQ 61.921875 45.40625 58.890625 45.40625 \nQ 53.421875 45.40625 49.796875 41.765625 \nQ 46.1875 38.140625 46.1875 30.125 \nL 46.1875 0 \nL 37.40625 0 \nL 37.40625 33.6875 \nQ 37.40625 39.546875 35.25 42.46875 \nQ 33.109375 45.40625 28.21875 45.40625 \nQ 24.515625 45.40625 21.359375 43.453125 \nQ 18.21875 41.5 16.796875 37.734375 \nQ 15.375 33.984375 15.375 26.90625 \nL 15.375 0 \nz\n\" id=\"ArialMT-109\"/>\n        <path d=\"M 6.59375 0 \nL 6.59375 51.859375 \nL 14.5 51.859375 \nL 14.5 44.484375 \nQ 20.21875 53.03125 31 53.03125 \nQ 35.6875 53.03125 39.625 51.34375 \nQ 43.5625 49.65625 45.515625 46.921875 \nQ 47.46875 44.1875 48.25 40.4375 \nQ 48.734375 37.984375 48.734375 31.890625 \nL 48.734375 0 \nL 39.9375 0 \nL 39.9375 31.546875 \nQ 39.9375 36.921875 38.90625 39.578125 \nQ 37.890625 42.234375 35.28125 43.8125 \nQ 32.671875 45.40625 29.15625 45.40625 \nQ 23.53125 45.40625 19.453125 41.84375 \nQ 15.375 38.28125 15.375 28.328125 \nL 15.375 0 \nz\n\" id=\"ArialMT-110\"/>\n        <path d=\"M 14.703125 0 \nL 6.546875 0 \nL 6.546875 71.578125 \nL 15.328125 71.578125 \nL 15.328125 46.046875 \nQ 20.90625 53.03125 29.546875 53.03125 \nQ 34.328125 53.03125 38.59375 51.09375 \nQ 42.875 49.171875 45.625 45.671875 \nQ 48.390625 42.1875 49.953125 37.25 \nQ 51.515625 32.328125 51.515625 26.703125 \nQ 51.515625 13.375 44.921875 6.09375 \nQ 38.328125 -1.171875 29.109375 -1.171875 \nQ 19.921875 -1.171875 14.703125 6.5 \nz\nM 14.59375 26.3125 \nQ 14.59375 17 17.140625 12.84375 \nQ 21.296875 6.0625 28.375 6.0625 \nQ 34.125 6.0625 38.328125 11.0625 \nQ 42.53125 16.0625 42.53125 25.984375 \nQ 42.53125 36.140625 38.5 40.96875 \nQ 34.46875 45.796875 28.765625 45.796875 \nQ 23 45.796875 18.796875 40.796875 \nQ 14.59375 35.796875 14.59375 26.3125 \nz\n\" id=\"ArialMT-98\"/>\n       </defs>\n       <use xlink:href=\"#ArialMT-99\"/>\n       <use x=\"50\" xlink:href=\"#ArialMT-118\"/>\n       <use x=\"100\" xlink:href=\"#ArialMT-101\"/>\n       <use x=\"155.615234\" xlink:href=\"#ArialMT-99\"/>\n       <use x=\"205.615234\" xlink:href=\"#ArialMT-95\"/>\n       <use x=\"261.230469\" xlink:href=\"#ArialMT-109\"/>\n       <use x=\"344.53125\" xlink:href=\"#ArialMT-110\"/>\n       <use x=\"400.146484\" xlink:href=\"#ArialMT-98\"/>\n      </g>\n     </g>\n    </g>\n    <g id=\"xtick_5\">\n     <g id=\"line2d_13\">\n      <path clip-path=\"url(#pe8a3a78b21)\" d=\"M 398.5 316.8475 \nL 398.5 28.8475 \n\" style=\"fill:none;stroke:#cccccc;stroke-linecap:round;\"/>\n     </g>\n     <g id=\"line2d_14\">\n      <g>\n       <use style=\"fill:#262626;stroke:#262626;stroke-width:1.25;\" x=\"398.5\" xlink:href=\"#mc4deb697db\" y=\"316.8475\"/>\n      </g>\n     </g>\n     <g id=\"line2d_15\">\n      <g>\n       <use style=\"fill:#262626;stroke:#262626;stroke-width:1.25;\" x=\"398.5\" xlink:href=\"#m38e9653a28\" y=\"28.8475\"/>\n      </g>\n     </g>\n     <g id=\"text_5\">\n      <!-- cvec_logreg -->\n      <g style=\"fill:#262626;\" transform=\"translate(363.453828 336.152656)scale(0.13 -0.13)\">\n       <defs>\n        <path d=\"M 6.390625 0 \nL 6.390625 71.578125 \nL 15.1875 71.578125 \nL 15.1875 0 \nz\n\" id=\"ArialMT-108\"/>\n        <path d=\"M 3.328125 25.921875 \nQ 3.328125 40.328125 11.328125 47.265625 \nQ 18.015625 53.03125 27.640625 53.03125 \nQ 38.328125 53.03125 45.109375 46.015625 \nQ 51.90625 39.015625 51.90625 26.65625 \nQ 51.90625 16.65625 48.90625 10.90625 \nQ 45.90625 5.171875 40.15625 2 \nQ 34.421875 -1.171875 27.640625 -1.171875 \nQ 16.75 -1.171875 10.03125 5.8125 \nQ 3.328125 12.796875 3.328125 25.921875 \nz\nM 12.359375 25.921875 \nQ 12.359375 15.96875 16.703125 11.015625 \nQ 21.046875 6.0625 27.640625 6.0625 \nQ 34.1875 6.0625 38.53125 11.03125 \nQ 42.875 16.015625 42.875 26.21875 \nQ 42.875 35.84375 38.5 40.796875 \nQ 34.125 45.75 27.640625 45.75 \nQ 21.046875 45.75 16.703125 40.8125 \nQ 12.359375 35.890625 12.359375 25.921875 \nz\n\" id=\"ArialMT-111\"/>\n        <path d=\"M 4.984375 -4.296875 \nL 13.53125 -5.5625 \nQ 14.0625 -9.515625 16.5 -11.328125 \nQ 19.78125 -13.765625 25.4375 -13.765625 \nQ 31.546875 -13.765625 34.859375 -11.328125 \nQ 38.1875 -8.890625 39.359375 -4.5 \nQ 40.046875 -1.8125 39.984375 6.78125 \nQ 34.234375 0 25.640625 0 \nQ 14.9375 0 9.078125 7.71875 \nQ 3.21875 15.4375 3.21875 26.21875 \nQ 3.21875 33.640625 5.90625 39.90625 \nQ 8.59375 46.1875 13.6875 49.609375 \nQ 18.796875 53.03125 25.6875 53.03125 \nQ 34.859375 53.03125 40.828125 45.609375 \nL 40.828125 51.859375 \nL 48.921875 51.859375 \nL 48.921875 7.03125 \nQ 48.921875 -5.078125 46.453125 -10.125 \nQ 44 -15.1875 38.640625 -18.109375 \nQ 33.296875 -21.046875 25.484375 -21.046875 \nQ 16.21875 -21.046875 10.5 -16.875 \nQ 4.78125 -12.703125 4.984375 -4.296875 \nz\nM 12.25 26.859375 \nQ 12.25 16.65625 16.296875 11.96875 \nQ 20.359375 7.28125 26.46875 7.28125 \nQ 32.515625 7.28125 36.609375 11.9375 \nQ 40.71875 16.609375 40.71875 26.5625 \nQ 40.71875 36.078125 36.5 40.90625 \nQ 32.28125 45.75 26.3125 45.75 \nQ 20.453125 45.75 16.34375 40.984375 \nQ 12.25 36.234375 12.25 26.859375 \nz\n\" id=\"ArialMT-103\"/>\n       </defs>\n       <use xlink:href=\"#ArialMT-99\"/>\n       <use x=\"50\" xlink:href=\"#ArialMT-118\"/>\n       <use x=\"100\" xlink:href=\"#ArialMT-101\"/>\n       <use x=\"155.615234\" xlink:href=\"#ArialMT-99\"/>\n       <use x=\"205.615234\" xlink:href=\"#ArialMT-95\"/>\n       <use x=\"261.230469\" xlink:href=\"#ArialMT-108\"/>\n       <use x=\"283.447266\" xlink:href=\"#ArialMT-111\"/>\n       <use x=\"339.0625\" xlink:href=\"#ArialMT-103\"/>\n       <use x=\"394.677734\" xlink:href=\"#ArialMT-114\"/>\n       <use x=\"427.978516\" xlink:href=\"#ArialMT-101\"/>\n       <use x=\"483.59375\" xlink:href=\"#ArialMT-103\"/>\n      </g>\n     </g>\n    </g>\n    <g id=\"xtick_6\">\n     <g id=\"line2d_16\">\n      <path clip-path=\"url(#pe8a3a78b21)\" d=\"M 475.225 316.8475 \nL 475.225 28.8475 \n\" style=\"fill:none;stroke:#cccccc;stroke-linecap:round;\"/>\n     </g>\n     <g id=\"line2d_17\">\n      <g>\n       <use style=\"fill:#262626;stroke:#262626;stroke-width:1.25;\" x=\"475.225\" xlink:href=\"#mc4deb697db\" y=\"316.8475\"/>\n      </g>\n     </g>\n     <g id=\"line2d_18\">\n      <g>\n       <use style=\"fill:#262626;stroke:#262626;stroke-width:1.25;\" x=\"475.225\" xlink:href=\"#m38e9653a28\" y=\"28.8475\"/>\n      </g>\n     </g>\n     <g id=\"text_6\">\n      <!-- tvec_mnb -->\n      <g style=\"fill:#262626;\" transform=\"translate(447.046484 336.152656)scale(0.13 -0.13)\">\n       <use xlink:href=\"#ArialMT-116\"/>\n       <use x=\"27.783203\" xlink:href=\"#ArialMT-118\"/>\n       <use x=\"77.783203\" xlink:href=\"#ArialMT-101\"/>\n       <use x=\"133.398438\" xlink:href=\"#ArialMT-99\"/>\n       <use x=\"183.398438\" xlink:href=\"#ArialMT-95\"/>\n       <use x=\"239.013672\" xlink:href=\"#ArialMT-109\"/>\n       <use x=\"322.314453\" xlink:href=\"#ArialMT-110\"/>\n       <use x=\"377.929688\" xlink:href=\"#ArialMT-98\"/>\n      </g>\n     </g>\n    </g>\n    <g id=\"xtick_7\">\n     <g id=\"line2d_19\">\n      <path clip-path=\"url(#pe8a3a78b21)\" d=\"M 551.95 316.8475 \nL 551.95 28.8475 \n\" style=\"fill:none;stroke:#cccccc;stroke-linecap:round;\"/>\n     </g>\n     <g id=\"line2d_20\">\n      <g>\n       <use style=\"fill:#262626;stroke:#262626;stroke-width:1.25;\" x=\"551.95\" xlink:href=\"#mc4deb697db\" y=\"316.8475\"/>\n      </g>\n     </g>\n     <g id=\"line2d_21\">\n      <g>\n       <use style=\"fill:#262626;stroke:#262626;stroke-width:1.25;\" x=\"551.95\" xlink:href=\"#m38e9653a28\" y=\"28.8475\"/>\n      </g>\n     </g>\n     <g id=\"text_7\">\n      <!-- tvec_svc -->\n      <g style=\"fill:#262626;\" transform=\"translate(526.665 336.152656)scale(0.13 -0.13)\">\n       <use xlink:href=\"#ArialMT-116\"/>\n       <use x=\"27.783203\" xlink:href=\"#ArialMT-118\"/>\n       <use x=\"77.783203\" xlink:href=\"#ArialMT-101\"/>\n       <use x=\"133.398438\" xlink:href=\"#ArialMT-99\"/>\n       <use x=\"183.398438\" xlink:href=\"#ArialMT-95\"/>\n       <use x=\"239.013672\" xlink:href=\"#ArialMT-115\"/>\n       <use x=\"289.013672\" xlink:href=\"#ArialMT-118\"/>\n       <use x=\"339.013672\" xlink:href=\"#ArialMT-99\"/>\n      </g>\n     </g>\n    </g>\n    <g id=\"xtick_8\">\n     <g id=\"line2d_22\">\n      <path clip-path=\"url(#pe8a3a78b21)\" d=\"M 628.675 316.8475 \nL 628.675 28.8475 \n\" style=\"fill:none;stroke:#cccccc;stroke-linecap:round;\"/>\n     </g>\n     <g id=\"line2d_23\">\n      <g>\n       <use style=\"fill:#262626;stroke:#262626;stroke-width:1.25;\" x=\"628.675\" xlink:href=\"#mc4deb697db\" y=\"316.8475\"/>\n      </g>\n     </g>\n     <g id=\"line2d_24\">\n      <g>\n       <use style=\"fill:#262626;stroke:#262626;stroke-width:1.25;\" x=\"628.675\" xlink:href=\"#m38e9653a28\" y=\"28.8475\"/>\n      </g>\n     </g>\n     <g id=\"text_8\">\n      <!-- tvec_logreg -->\n      <g style=\"fill:#262626;\" transform=\"translate(595.073047 336.152656)scale(0.13 -0.13)\">\n       <use xlink:href=\"#ArialMT-116\"/>\n       <use x=\"27.783203\" xlink:href=\"#ArialMT-118\"/>\n       <use x=\"77.783203\" xlink:href=\"#ArialMT-101\"/>\n       <use x=\"133.398438\" xlink:href=\"#ArialMT-99\"/>\n       <use x=\"183.398438\" xlink:href=\"#ArialMT-95\"/>\n       <use x=\"239.013672\" xlink:href=\"#ArialMT-108\"/>\n       <use x=\"261.230469\" xlink:href=\"#ArialMT-111\"/>\n       <use x=\"316.845703\" xlink:href=\"#ArialMT-103\"/>\n       <use x=\"372.460938\" xlink:href=\"#ArialMT-114\"/>\n       <use x=\"405.761719\" xlink:href=\"#ArialMT-101\"/>\n       <use x=\"461.376953\" xlink:href=\"#ArialMT-103\"/>\n      </g>\n     </g>\n    </g>\n    <g id=\"text_9\">\n     <!-- Model -->\n     <g style=\"fill:#262626;\" transform=\"translate(341.073438 353.915781)scale(0.14 -0.14)\">\n      <defs>\n       <path d=\"M 7.421875 0 \nL 7.421875 71.578125 \nL 21.6875 71.578125 \nL 38.625 20.90625 \nQ 40.96875 13.8125 42.046875 10.296875 \nQ 43.265625 14.203125 45.84375 21.78125 \nL 62.984375 71.578125 \nL 75.734375 71.578125 \nL 75.734375 0 \nL 66.609375 0 \nL 66.609375 59.90625 \nL 45.796875 0 \nL 37.25 0 \nL 16.546875 60.9375 \nL 16.546875 0 \nz\n\" id=\"ArialMT-77\"/>\n       <path d=\"M 40.234375 0 \nL 40.234375 6.546875 \nQ 35.296875 -1.171875 25.734375 -1.171875 \nQ 19.53125 -1.171875 14.328125 2.25 \nQ 9.125 5.671875 6.265625 11.796875 \nQ 3.421875 17.921875 3.421875 25.875 \nQ 3.421875 33.640625 6 39.96875 \nQ 8.59375 46.296875 13.765625 49.65625 \nQ 18.953125 53.03125 25.34375 53.03125 \nQ 30.03125 53.03125 33.6875 51.046875 \nQ 37.359375 49.078125 39.65625 45.90625 \nL 39.65625 71.578125 \nL 48.390625 71.578125 \nL 48.390625 0 \nz\nM 12.453125 25.875 \nQ 12.453125 15.921875 16.640625 10.984375 \nQ 20.84375 6.0625 26.5625 6.0625 \nQ 32.328125 6.0625 36.34375 10.765625 \nQ 40.375 15.484375 40.375 25.140625 \nQ 40.375 35.796875 36.265625 40.765625 \nQ 32.171875 45.75 26.171875 45.75 \nQ 20.3125 45.75 16.375 40.96875 \nQ 12.453125 36.1875 12.453125 25.875 \nz\n\" id=\"ArialMT-100\"/>\n      </defs>\n      <use xlink:href=\"#ArialMT-77\"/>\n      <use x=\"83.300781\" xlink:href=\"#ArialMT-111\"/>\n      <use x=\"138.916016\" xlink:href=\"#ArialMT-100\"/>\n      <use x=\"194.53125\" xlink:href=\"#ArialMT-101\"/>\n      <use x=\"250.146484\" xlink:href=\"#ArialMT-108\"/>\n     </g>\n    </g>\n   </g>\n   <g id=\"matplotlib.axis_2\">\n    <g id=\"ytick_1\">\n     <g id=\"line2d_25\">\n      <path clip-path=\"url(#pe8a3a78b21)\" d=\"M 53.2375 316.8475 \nL 667.0375 316.8475 \n\" style=\"fill:none;stroke:#cccccc;stroke-linecap:round;\"/>\n     </g>\n     <g id=\"line2d_26\">\n      <defs>\n       <path d=\"M 0 0 \nL -6 0 \n\" id=\"ma42297b9d4\" style=\"stroke:#262626;stroke-width:1.25;\"/>\n      </defs>\n      <g>\n       <use style=\"fill:#262626;stroke:#262626;stroke-width:1.25;\" x=\"53.2375\" xlink:href=\"#ma42297b9d4\" y=\"316.8475\"/>\n      </g>\n     </g>\n     <g id=\"line2d_27\">\n      <defs>\n       <path d=\"M 0 0 \nL 6 0 \n\" id=\"mb9e3a0d533\" style=\"stroke:#262626;stroke-width:1.25;\"/>\n      </defs>\n      <g>\n       <use style=\"fill:#262626;stroke:#262626;stroke-width:1.25;\" x=\"667.0375\" xlink:href=\"#mb9e3a0d533\" y=\"316.8475\"/>\n      </g>\n     </g>\n     <g id=\"text_10\">\n      <!-- 0.5 -->\n      <g style=\"fill:#262626;\" transform=\"translate(25.1675 320.208203)scale(0.13 -0.13)\">\n       <defs>\n        <path d=\"M 4.15625 35.296875 \nQ 4.15625 48 6.765625 55.734375 \nQ 9.375 63.484375 14.515625 67.671875 \nQ 19.671875 71.875 27.484375 71.875 \nQ 33.25 71.875 37.59375 69.546875 \nQ 41.9375 67.234375 44.765625 62.859375 \nQ 47.609375 58.5 49.21875 52.21875 \nQ 50.828125 45.953125 50.828125 35.296875 \nQ 50.828125 22.703125 48.234375 14.96875 \nQ 45.65625 7.234375 40.5 3 \nQ 35.359375 -1.21875 27.484375 -1.21875 \nQ 17.140625 -1.21875 11.234375 6.203125 \nQ 4.15625 15.140625 4.15625 35.296875 \nz\nM 13.1875 35.296875 \nQ 13.1875 17.671875 17.3125 11.828125 \nQ 21.4375 6 27.484375 6 \nQ 33.546875 6 37.671875 11.859375 \nQ 41.796875 17.71875 41.796875 35.296875 \nQ 41.796875 52.984375 37.671875 58.78125 \nQ 33.546875 64.59375 27.390625 64.59375 \nQ 21.34375 64.59375 17.71875 59.46875 \nQ 13.1875 52.9375 13.1875 35.296875 \nz\n\" id=\"ArialMT-48\"/>\n        <path d=\"M 9.078125 0 \nL 9.078125 10.015625 \nL 19.09375 10.015625 \nL 19.09375 0 \nz\n\" id=\"ArialMT-46\"/>\n        <path d=\"M 4.15625 18.75 \nL 13.375 19.53125 \nQ 14.40625 12.796875 18.140625 9.390625 \nQ 21.875 6 27.15625 6 \nQ 33.5 6 37.890625 10.78125 \nQ 42.28125 15.578125 42.28125 23.484375 \nQ 42.28125 31 38.0625 35.34375 \nQ 33.84375 39.703125 27 39.703125 \nQ 22.75 39.703125 19.328125 37.765625 \nQ 15.921875 35.84375 13.96875 32.765625 \nL 5.71875 33.84375 \nL 12.640625 70.609375 \nL 48.25 70.609375 \nL 48.25 62.203125 \nL 19.671875 62.203125 \nL 15.828125 42.96875 \nQ 22.265625 47.46875 29.34375 47.46875 \nQ 38.71875 47.46875 45.15625 40.96875 \nQ 51.609375 34.46875 51.609375 24.265625 \nQ 51.609375 14.546875 45.953125 7.46875 \nQ 39.0625 -1.21875 27.15625 -1.21875 \nQ 17.390625 -1.21875 11.203125 4.25 \nQ 5.03125 9.71875 4.15625 18.75 \nz\n\" id=\"ArialMT-53\"/>\n       </defs>\n       <use xlink:href=\"#ArialMT-48\"/>\n       <use x=\"55.615234\" xlink:href=\"#ArialMT-46\"/>\n       <use x=\"83.398438\" xlink:href=\"#ArialMT-53\"/>\n      </g>\n     </g>\n    </g>\n    <g id=\"ytick_2\">\n     <g id=\"line2d_28\">\n      <path clip-path=\"url(#pe8a3a78b21)\" d=\"M 53.2375 259.2475 \nL 667.0375 259.2475 \n\" style=\"fill:none;stroke:#cccccc;stroke-linecap:round;\"/>\n     </g>\n     <g id=\"line2d_29\">\n      <g>\n       <use style=\"fill:#262626;stroke:#262626;stroke-width:1.25;\" x=\"53.2375\" xlink:href=\"#ma42297b9d4\" y=\"259.2475\"/>\n      </g>\n     </g>\n     <g id=\"line2d_30\">\n      <g>\n       <use style=\"fill:#262626;stroke:#262626;stroke-width:1.25;\" x=\"667.0375\" xlink:href=\"#mb9e3a0d533\" y=\"259.2475\"/>\n      </g>\n     </g>\n     <g id=\"text_11\">\n      <!-- 0.6 -->\n      <g style=\"fill:#262626;\" transform=\"translate(25.1675 262.608203)scale(0.13 -0.13)\">\n       <defs>\n        <path d=\"M 49.75 54.046875 \nL 41.015625 53.375 \nQ 39.84375 58.546875 37.703125 60.890625 \nQ 34.125 64.65625 28.90625 64.65625 \nQ 24.703125 64.65625 21.53125 62.3125 \nQ 17.390625 59.28125 14.984375 53.46875 \nQ 12.59375 47.65625 12.5 36.921875 \nQ 15.671875 41.75 20.265625 44.09375 \nQ 24.859375 46.4375 29.890625 46.4375 \nQ 38.671875 46.4375 44.84375 39.96875 \nQ 51.03125 33.5 51.03125 23.25 \nQ 51.03125 16.5 48.125 10.71875 \nQ 45.21875 4.9375 40.140625 1.859375 \nQ 35.0625 -1.21875 28.609375 -1.21875 \nQ 17.625 -1.21875 10.6875 6.859375 \nQ 3.765625 14.9375 3.765625 33.5 \nQ 3.765625 54.25 11.421875 63.671875 \nQ 18.109375 71.875 29.4375 71.875 \nQ 37.890625 71.875 43.28125 67.140625 \nQ 48.6875 62.40625 49.75 54.046875 \nz\nM 13.875 23.1875 \nQ 13.875 18.65625 15.796875 14.5 \nQ 17.71875 10.359375 21.1875 8.171875 \nQ 24.65625 6 28.46875 6 \nQ 34.03125 6 38.03125 10.484375 \nQ 42.046875 14.984375 42.046875 22.703125 \nQ 42.046875 30.125 38.078125 34.390625 \nQ 34.125 38.671875 28.125 38.671875 \nQ 22.171875 38.671875 18.015625 34.390625 \nQ 13.875 30.125 13.875 23.1875 \nz\n\" id=\"ArialMT-54\"/>\n       </defs>\n       <use xlink:href=\"#ArialMT-48\"/>\n       <use x=\"55.615234\" xlink:href=\"#ArialMT-46\"/>\n       <use x=\"83.398438\" xlink:href=\"#ArialMT-54\"/>\n      </g>\n     </g>\n    </g>\n    <g id=\"ytick_3\">\n     <g id=\"line2d_31\">\n      <path clip-path=\"url(#pe8a3a78b21)\" d=\"M 53.2375 201.6475 \nL 667.0375 201.6475 \n\" style=\"fill:none;stroke:#cccccc;stroke-linecap:round;\"/>\n     </g>\n     <g id=\"line2d_32\">\n      <g>\n       <use style=\"fill:#262626;stroke:#262626;stroke-width:1.25;\" x=\"53.2375\" xlink:href=\"#ma42297b9d4\" y=\"201.6475\"/>\n      </g>\n     </g>\n     <g id=\"line2d_33\">\n      <g>\n       <use style=\"fill:#262626;stroke:#262626;stroke-width:1.25;\" x=\"667.0375\" xlink:href=\"#mb9e3a0d533\" y=\"201.6475\"/>\n      </g>\n     </g>\n     <g id=\"text_12\">\n      <!-- 0.7 -->\n      <g style=\"fill:#262626;\" transform=\"translate(25.1675 205.008203)scale(0.13 -0.13)\">\n       <defs>\n        <path d=\"M 4.734375 62.203125 \nL 4.734375 70.65625 \nL 51.078125 70.65625 \nL 51.078125 63.8125 \nQ 44.234375 56.546875 37.515625 44.484375 \nQ 30.8125 32.421875 27.15625 19.671875 \nQ 24.515625 10.6875 23.78125 0 \nL 14.75 0 \nQ 14.890625 8.453125 18.0625 20.40625 \nQ 21.234375 32.375 27.171875 43.484375 \nQ 33.109375 54.59375 39.796875 62.203125 \nz\n\" id=\"ArialMT-55\"/>\n       </defs>\n       <use xlink:href=\"#ArialMT-48\"/>\n       <use x=\"55.615234\" xlink:href=\"#ArialMT-46\"/>\n       <use x=\"83.398438\" xlink:href=\"#ArialMT-55\"/>\n      </g>\n     </g>\n    </g>\n    <g id=\"ytick_4\">\n     <g id=\"line2d_34\">\n      <path clip-path=\"url(#pe8a3a78b21)\" d=\"M 53.2375 144.0475 \nL 667.0375 144.0475 \n\" style=\"fill:none;stroke:#cccccc;stroke-linecap:round;\"/>\n     </g>\n     <g id=\"line2d_35\">\n      <g>\n       <use style=\"fill:#262626;stroke:#262626;stroke-width:1.25;\" x=\"53.2375\" xlink:href=\"#ma42297b9d4\" y=\"144.0475\"/>\n      </g>\n     </g>\n     <g id=\"line2d_36\">\n      <g>\n       <use style=\"fill:#262626;stroke:#262626;stroke-width:1.25;\" x=\"667.0375\" xlink:href=\"#mb9e3a0d533\" y=\"144.0475\"/>\n      </g>\n     </g>\n     <g id=\"text_13\">\n      <!-- 0.8 -->\n      <g style=\"fill:#262626;\" transform=\"translate(25.1675 147.408203)scale(0.13 -0.13)\">\n       <defs>\n        <path d=\"M 17.671875 38.8125 \nQ 12.203125 40.828125 9.5625 44.53125 \nQ 6.9375 48.25 6.9375 53.421875 \nQ 6.9375 61.234375 12.546875 66.546875 \nQ 18.171875 71.875 27.484375 71.875 \nQ 36.859375 71.875 42.578125 66.421875 \nQ 48.296875 60.984375 48.296875 53.171875 \nQ 48.296875 48.1875 45.671875 44.5 \nQ 43.0625 40.828125 37.75 38.8125 \nQ 44.34375 36.671875 47.78125 31.875 \nQ 51.21875 27.09375 51.21875 20.453125 \nQ 51.21875 11.28125 44.71875 5.03125 \nQ 38.234375 -1.21875 27.640625 -1.21875 \nQ 17.046875 -1.21875 10.546875 5.046875 \nQ 4.046875 11.328125 4.046875 20.703125 \nQ 4.046875 27.6875 7.59375 32.390625 \nQ 11.140625 37.109375 17.671875 38.8125 \nz\nM 15.921875 53.71875 \nQ 15.921875 48.640625 19.1875 45.40625 \nQ 22.46875 42.1875 27.6875 42.1875 \nQ 32.765625 42.1875 36.015625 45.375 \nQ 39.265625 48.578125 39.265625 53.21875 \nQ 39.265625 58.0625 35.90625 61.359375 \nQ 32.5625 64.65625 27.59375 64.65625 \nQ 22.5625 64.65625 19.234375 61.421875 \nQ 15.921875 58.203125 15.921875 53.71875 \nz\nM 13.09375 20.65625 \nQ 13.09375 16.890625 14.875 13.375 \nQ 16.65625 9.859375 20.171875 7.921875 \nQ 23.6875 6 27.734375 6 \nQ 34.03125 6 38.125 10.046875 \nQ 42.234375 14.109375 42.234375 20.359375 \nQ 42.234375 26.703125 38.015625 30.859375 \nQ 33.796875 35.015625 27.4375 35.015625 \nQ 21.234375 35.015625 17.15625 30.90625 \nQ 13.09375 26.8125 13.09375 20.65625 \nz\n\" id=\"ArialMT-56\"/>\n       </defs>\n       <use xlink:href=\"#ArialMT-48\"/>\n       <use x=\"55.615234\" xlink:href=\"#ArialMT-46\"/>\n       <use x=\"83.398438\" xlink:href=\"#ArialMT-56\"/>\n      </g>\n     </g>\n    </g>\n    <g id=\"ytick_5\">\n     <g id=\"line2d_37\">\n      <path clip-path=\"url(#pe8a3a78b21)\" d=\"M 53.2375 86.4475 \nL 667.0375 86.4475 \n\" style=\"fill:none;stroke:#cccccc;stroke-linecap:round;\"/>\n     </g>\n     <g id=\"line2d_38\">\n      <g>\n       <use style=\"fill:#262626;stroke:#262626;stroke-width:1.25;\" x=\"53.2375\" xlink:href=\"#ma42297b9d4\" y=\"86.4475\"/>\n      </g>\n     </g>\n     <g id=\"line2d_39\">\n      <g>\n       <use style=\"fill:#262626;stroke:#262626;stroke-width:1.25;\" x=\"667.0375\" xlink:href=\"#mb9e3a0d533\" y=\"86.4475\"/>\n      </g>\n     </g>\n     <g id=\"text_14\">\n      <!-- 0.9 -->\n      <g style=\"fill:#262626;\" transform=\"translate(25.1675 89.808203)scale(0.13 -0.13)\">\n       <defs>\n        <path d=\"M 5.46875 16.546875 \nL 13.921875 17.328125 \nQ 14.984375 11.375 18.015625 8.6875 \nQ 21.046875 6 25.78125 6 \nQ 29.828125 6 32.875 7.859375 \nQ 35.9375 9.71875 37.890625 12.8125 \nQ 39.84375 15.921875 41.15625 21.1875 \nQ 42.484375 26.46875 42.484375 31.9375 \nQ 42.484375 32.515625 42.4375 33.6875 \nQ 39.796875 29.5 35.234375 26.875 \nQ 30.671875 24.265625 25.34375 24.265625 \nQ 16.453125 24.265625 10.296875 30.703125 \nQ 4.15625 37.15625 4.15625 47.703125 \nQ 4.15625 58.59375 10.578125 65.234375 \nQ 17 71.875 26.65625 71.875 \nQ 33.640625 71.875 39.421875 68.109375 \nQ 45.21875 64.359375 48.21875 57.390625 \nQ 51.21875 50.4375 51.21875 37.25 \nQ 51.21875 23.53125 48.234375 15.40625 \nQ 45.265625 7.28125 39.375 3.03125 \nQ 33.5 -1.21875 25.59375 -1.21875 \nQ 17.1875 -1.21875 11.859375 3.4375 \nQ 6.546875 8.109375 5.46875 16.546875 \nz\nM 41.453125 48.140625 \nQ 41.453125 55.71875 37.421875 60.15625 \nQ 33.40625 64.59375 27.734375 64.59375 \nQ 21.875 64.59375 17.53125 59.8125 \nQ 13.1875 55.03125 13.1875 47.40625 \nQ 13.1875 40.578125 17.3125 36.296875 \nQ 21.4375 32.03125 27.484375 32.03125 \nQ 33.59375 32.03125 37.515625 36.296875 \nQ 41.453125 40.578125 41.453125 48.140625 \nz\n\" id=\"ArialMT-57\"/>\n       </defs>\n       <use xlink:href=\"#ArialMT-48\"/>\n       <use x=\"55.615234\" xlink:href=\"#ArialMT-46\"/>\n       <use x=\"83.398438\" xlink:href=\"#ArialMT-57\"/>\n      </g>\n     </g>\n    </g>\n    <g id=\"ytick_6\">\n     <g id=\"line2d_40\">\n      <path clip-path=\"url(#pe8a3a78b21)\" d=\"M 53.2375 28.8475 \nL 667.0375 28.8475 \n\" style=\"fill:none;stroke:#cccccc;stroke-linecap:round;\"/>\n     </g>\n     <g id=\"line2d_41\">\n      <g>\n       <use style=\"fill:#262626;stroke:#262626;stroke-width:1.25;\" x=\"53.2375\" xlink:href=\"#ma42297b9d4\" y=\"28.8475\"/>\n      </g>\n     </g>\n     <g id=\"line2d_42\">\n      <g>\n       <use style=\"fill:#262626;stroke:#262626;stroke-width:1.25;\" x=\"667.0375\" xlink:href=\"#mb9e3a0d533\" y=\"28.8475\"/>\n      </g>\n     </g>\n     <g id=\"text_15\">\n      <!-- 1.0 -->\n      <g style=\"fill:#262626;\" transform=\"translate(25.1675 32.208203)scale(0.13 -0.13)\">\n       <defs>\n        <path d=\"M 37.25 0 \nL 28.46875 0 \nL 28.46875 56 \nQ 25.296875 52.984375 20.140625 49.953125 \nQ 14.984375 46.921875 10.890625 45.40625 \nL 10.890625 53.90625 \nQ 18.265625 57.375 23.78125 62.296875 \nQ 29.296875 67.234375 31.59375 71.875 \nL 37.25 71.875 \nz\n\" id=\"ArialMT-49\"/>\n       </defs>\n       <use xlink:href=\"#ArialMT-49\"/>\n       <use x=\"55.615234\" xlink:href=\"#ArialMT-46\"/>\n       <use x=\"83.398438\" xlink:href=\"#ArialMT-48\"/>\n      </g>\n     </g>\n    </g>\n    <g id=\"text_16\">\n     <!-- Accuracy -->\n     <g style=\"fill:#262626;\" transform=\"translate(17.220937 201.632812)rotate(-90)scale(0.14 -0.14)\">\n      <defs>\n       <path d=\"M -0.140625 0 \nL 27.34375 71.578125 \nL 37.546875 71.578125 \nL 66.84375 0 \nL 56.0625 0 \nL 47.703125 21.6875 \nL 17.78125 21.6875 \nL 9.90625 0 \nz\nM 20.515625 29.390625 \nL 44.78125 29.390625 \nL 37.3125 49.21875 \nQ 33.890625 58.25 32.234375 64.0625 \nQ 30.859375 57.171875 28.375 50.390625 \nz\n\" id=\"ArialMT-65\"/>\n       <path d=\"M 40.578125 0 \nL 40.578125 7.625 \nQ 34.515625 -1.171875 24.125 -1.171875 \nQ 19.53125 -1.171875 15.546875 0.578125 \nQ 11.578125 2.34375 9.640625 5 \nQ 7.71875 7.671875 6.9375 11.53125 \nQ 6.390625 14.109375 6.390625 19.734375 \nL 6.390625 51.859375 \nL 15.1875 51.859375 \nL 15.1875 23.09375 \nQ 15.1875 16.21875 15.71875 13.8125 \nQ 16.546875 10.359375 19.234375 8.375 \nQ 21.921875 6.390625 25.875 6.390625 \nQ 29.828125 6.390625 33.296875 8.421875 \nQ 36.765625 10.453125 38.203125 13.9375 \nQ 39.65625 17.4375 39.65625 24.078125 \nL 39.65625 51.859375 \nL 48.4375 51.859375 \nL 48.4375 0 \nz\n\" id=\"ArialMT-117\"/>\n       <path d=\"M 40.4375 6.390625 \nQ 35.546875 2.25 31.03125 0.53125 \nQ 26.515625 -1.171875 21.34375 -1.171875 \nQ 12.796875 -1.171875 8.203125 3 \nQ 3.609375 7.171875 3.609375 13.671875 \nQ 3.609375 17.484375 5.34375 20.625 \nQ 7.078125 23.78125 9.890625 25.6875 \nQ 12.703125 27.59375 16.21875 28.5625 \nQ 18.796875 29.25 24.03125 29.890625 \nQ 34.671875 31.15625 39.703125 32.90625 \nQ 39.75 34.71875 39.75 35.203125 \nQ 39.75 40.578125 37.25 42.78125 \nQ 33.890625 45.75 27.25 45.75 \nQ 21.046875 45.75 18.09375 43.578125 \nQ 15.140625 41.40625 13.71875 35.890625 \nL 5.125 37.0625 \nQ 6.296875 42.578125 8.984375 45.96875 \nQ 11.671875 49.359375 16.75 51.1875 \nQ 21.828125 53.03125 28.515625 53.03125 \nQ 35.15625 53.03125 39.296875 51.46875 \nQ 43.453125 49.90625 45.40625 47.53125 \nQ 47.359375 45.171875 48.140625 41.546875 \nQ 48.578125 39.3125 48.578125 33.453125 \nL 48.578125 21.734375 \nQ 48.578125 9.46875 49.140625 6.21875 \nQ 49.703125 2.984375 51.375 0 \nL 42.1875 0 \nQ 40.828125 2.734375 40.4375 6.390625 \nz\nM 39.703125 26.03125 \nQ 34.90625 24.078125 25.34375 22.703125 \nQ 19.921875 21.921875 17.671875 20.9375 \nQ 15.4375 19.96875 14.203125 18.09375 \nQ 12.984375 16.21875 12.984375 13.921875 \nQ 12.984375 10.40625 15.640625 8.0625 \nQ 18.3125 5.71875 23.4375 5.71875 \nQ 28.515625 5.71875 32.46875 7.9375 \nQ 36.421875 10.15625 38.28125 14.015625 \nQ 39.703125 17 39.703125 22.796875 \nz\n\" id=\"ArialMT-97\"/>\n       <path d=\"M 6.203125 -19.96875 \nL 5.21875 -11.71875 \nQ 8.109375 -12.5 10.25 -12.5 \nQ 13.1875 -12.5 14.9375 -11.515625 \nQ 16.703125 -10.546875 17.828125 -8.796875 \nQ 18.65625 -7.46875 20.515625 -2.25 \nQ 20.75 -1.515625 21.296875 -0.09375 \nL 1.609375 51.859375 \nL 11.078125 51.859375 \nL 21.875 21.828125 \nQ 23.96875 16.109375 25.640625 9.8125 \nQ 27.15625 15.875 29.25 21.625 \nL 40.328125 51.859375 \nL 49.125 51.859375 \nL 29.390625 -0.875 \nQ 26.21875 -9.421875 24.46875 -12.640625 \nQ 22.125 -17 19.09375 -19.015625 \nQ 16.0625 -21.046875 11.859375 -21.046875 \nQ 9.328125 -21.046875 6.203125 -19.96875 \nz\n\" id=\"ArialMT-121\"/>\n      </defs>\n      <use xlink:href=\"#ArialMT-65\"/>\n      <use x=\"66.699219\" xlink:href=\"#ArialMT-99\"/>\n      <use x=\"116.699219\" xlink:href=\"#ArialMT-99\"/>\n      <use x=\"166.699219\" xlink:href=\"#ArialMT-117\"/>\n      <use x=\"222.314453\" xlink:href=\"#ArialMT-114\"/>\n      <use x=\"255.615234\" xlink:href=\"#ArialMT-97\"/>\n      <use x=\"311.230469\" xlink:href=\"#ArialMT-99\"/>\n      <use x=\"361.230469\" xlink:href=\"#ArialMT-121\"/>\n     </g>\n    </g>\n   </g>\n   <g id=\"patch_3\">\n    <path clip-path=\"url(#pe8a3a78b21)\" d=\"M 72.41875 604.8475 \nL 110.78125 604.8475 \nL 110.78125 151.083992 \nL 72.41875 151.083992 \nz\n\" style=\"fill:#0000ff;stroke:#000000;stroke-linejoin:miter;\"/>\n   </g>\n   <g id=\"patch_4\">\n    <path clip-path=\"url(#pe8a3a78b21)\" d=\"M 149.14375 604.8475 \nL 187.50625 604.8475 \nL 187.50625 120.412105 \nL 149.14375 120.412105 \nz\n\" style=\"fill:#0000ff;stroke:#000000;stroke-linejoin:miter;\"/>\n   </g>\n   <g id=\"patch_5\">\n    <path clip-path=\"url(#pe8a3a78b21)\" d=\"M 225.86875 604.8475 \nL 264.23125 604.8475 \nL 264.23125 119.058933 \nL 225.86875 119.058933 \nz\n\" style=\"fill:#0000ff;stroke:#000000;stroke-linejoin:miter;\"/>\n   </g>\n   <g id=\"patch_6\">\n    <path clip-path=\"url(#pe8a3a78b21)\" d=\"M 302.59375 604.8475 \nL 340.95625 604.8475 \nL 340.95625 114.548361 \nL 302.59375 114.548361 \nz\n\" style=\"fill:#0000ff;stroke:#000000;stroke-linejoin:miter;\"/>\n   </g>\n   <g id=\"patch_7\">\n    <path clip-path=\"url(#pe8a3a78b21)\" d=\"M 379.31875 604.8475 \nL 417.68125 604.8475 \nL 417.68125 113.19519 \nL 379.31875 113.19519 \nz\n\" style=\"fill:#0000ff;stroke:#000000;stroke-linejoin:miter;\"/>\n   </g>\n   <g id=\"patch_8\">\n    <path clip-path=\"url(#pe8a3a78b21)\" d=\"M 456.04375 604.8475 \nL 494.40625 604.8475 \nL 494.40625 111.842018 \nL 456.04375 111.842018 \nz\n\" style=\"fill:#0000ff;stroke:#000000;stroke-linejoin:miter;\"/>\n   </g>\n   <g id=\"patch_9\">\n    <path clip-path=\"url(#pe8a3a78b21)\" d=\"M 532.76875 604.8475 \nL 571.13125 604.8475 \nL 571.13125 107.782504 \nL 532.76875 107.782504 \nz\n\" style=\"fill:#0000ff;stroke:#000000;stroke-linejoin:miter;\"/>\n   </g>\n   <g id=\"patch_10\">\n    <path clip-path=\"url(#pe8a3a78b21)\" d=\"M 609.49375 604.8475 \nL 647.85625 604.8475 \nL 647.85625 104.625104 \nL 609.49375 104.625104 \nz\n\" style=\"fill:#0000ff;stroke:#000000;stroke-linejoin:miter;\"/>\n   </g>\n   <g id=\"line2d_43\">\n    <path clip-path=\"url(#pe8a3a78b21)\" d=\"M 53.2375 310.6267 \nL 667.0375 310.6267 \n\" style=\"fill:none;stroke:#ff0000;stroke-linecap:round;stroke-width:1.5;\"/>\n   </g>\n   <g id=\"patch_11\">\n    <path d=\"M 53.2375 316.8475 \nL 53.2375 28.8475 \n\" style=\"fill:none;stroke:#cccccc;stroke-linecap:square;stroke-linejoin:miter;stroke-width:1.25;\"/>\n   </g>\n   <g id=\"patch_12\">\n    <path d=\"M 667.0375 316.8475 \nL 667.0375 28.8475 \n\" style=\"fill:none;stroke:#cccccc;stroke-linecap:square;stroke-linejoin:miter;stroke-width:1.25;\"/>\n   </g>\n   <g id=\"patch_13\">\n    <path d=\"M 53.2375 316.8475 \nL 667.0375 316.8475 \n\" style=\"fill:none;stroke:#cccccc;stroke-linecap:square;stroke-linejoin:miter;stroke-width:1.25;\"/>\n   </g>\n   <g id=\"patch_14\">\n    <path d=\"M 53.2375 28.8475 \nL 667.0375 28.8475 \n\" style=\"fill:none;stroke:#cccccc;stroke-linecap:square;stroke-linejoin:miter;stroke-width:1.25;\"/>\n   </g>\n   <g id=\"text_17\">\n    <!-- baseline -->\n    <g style=\"fill:#262626;\" transform=\"translate(14.875 292.63525)scale(0.12 -0.12)\">\n     <defs>\n      <path d=\"M 6.640625 61.46875 \nL 6.640625 71.578125 \nL 15.4375 71.578125 \nL 15.4375 61.46875 \nz\nM 6.640625 0 \nL 6.640625 51.859375 \nL 15.4375 51.859375 \nL 15.4375 0 \nz\n\" id=\"ArialMT-105\"/>\n     </defs>\n     <use xlink:href=\"#ArialMT-98\"/>\n     <use x=\"55.615234\" xlink:href=\"#ArialMT-97\"/>\n     <use x=\"111.230469\" xlink:href=\"#ArialMT-115\"/>\n     <use x=\"161.230469\" xlink:href=\"#ArialMT-101\"/>\n     <use x=\"216.845703\" xlink:href=\"#ArialMT-108\"/>\n     <use x=\"239.0625\" xlink:href=\"#ArialMT-105\"/>\n     <use x=\"261.279297\" xlink:href=\"#ArialMT-110\"/>\n     <use x=\"316.894531\" xlink:href=\"#ArialMT-101\"/>\n    </g>\n    <!--    0.51 -->\n    <g style=\"fill:#262626;\" transform=\"translate(14.875 305.3275)scale(0.12 -0.12)\">\n     <defs>\n      <path id=\"ArialMT-32\"/>\n     </defs>\n     <use xlink:href=\"#ArialMT-32\"/>\n     <use x=\"27.783203\" xlink:href=\"#ArialMT-32\"/>\n     <use x=\"55.566406\" xlink:href=\"#ArialMT-32\"/>\n     <use x=\"83.349609\" xlink:href=\"#ArialMT-48\"/>\n     <use x=\"138.964844\" xlink:href=\"#ArialMT-46\"/>\n     <use x=\"166.748047\" xlink:href=\"#ArialMT-53\"/>\n     <use x=\"222.363281\" xlink:href=\"#ArialMT-49\"/>\n    </g>\n   </g>\n   <g id=\"text_18\">\n    <!-- 0.87 -->\n    <g style=\"fill:#262626;\" transform=\"translate(621.0025 97.9675)scale(0.12 -0.12)\">\n     <use xlink:href=\"#ArialMT-48\"/>\n     <use x=\"55.615234\" xlink:href=\"#ArialMT-46\"/>\n     <use x=\"83.398438\" xlink:href=\"#ArialMT-56\"/>\n     <use x=\"139.013672\" xlink:href=\"#ArialMT-55\"/>\n    </g>\n   </g>\n   <g id=\"text_19\">\n    <!-- Accuracy on Test Set -->\n    <g style=\"fill:#262626;\" transform=\"translate(285.14 18.8475)scale(0.16 -0.16)\">\n     <defs>\n      <path d=\"M 25.921875 0 \nL 25.921875 63.140625 \nL 2.34375 63.140625 \nL 2.34375 71.578125 \nL 59.078125 71.578125 \nL 59.078125 63.140625 \nL 35.40625 63.140625 \nL 35.40625 0 \nz\n\" id=\"ArialMT-84\"/>\n      <path d=\"M 4.5 23 \nL 13.421875 23.78125 \nQ 14.0625 18.40625 16.375 14.96875 \nQ 18.703125 11.53125 23.578125 9.40625 \nQ 28.46875 7.28125 34.578125 7.28125 \nQ 39.984375 7.28125 44.140625 8.890625 \nQ 48.296875 10.5 50.3125 13.296875 \nQ 52.34375 16.109375 52.34375 19.4375 \nQ 52.34375 22.796875 50.390625 25.3125 \nQ 48.4375 27.828125 43.953125 29.546875 \nQ 41.0625 30.671875 31.203125 33.03125 \nQ 21.34375 35.40625 17.390625 37.5 \nQ 12.25 40.1875 9.734375 44.15625 \nQ 7.234375 48.140625 7.234375 53.078125 \nQ 7.234375 58.5 10.296875 63.203125 \nQ 13.375 67.921875 19.28125 70.359375 \nQ 25.203125 72.796875 32.421875 72.796875 \nQ 40.375 72.796875 46.453125 70.234375 \nQ 52.546875 67.671875 55.8125 62.6875 \nQ 59.078125 57.71875 59.328125 51.421875 \nL 50.25 50.734375 \nQ 49.515625 57.515625 45.28125 60.984375 \nQ 41.0625 64.453125 32.8125 64.453125 \nQ 24.21875 64.453125 20.28125 61.296875 \nQ 16.359375 58.15625 16.359375 53.71875 \nQ 16.359375 49.859375 19.140625 47.359375 \nQ 21.875 44.875 33.421875 42.265625 \nQ 44.96875 39.65625 49.265625 37.703125 \nQ 55.515625 34.8125 58.484375 30.390625 \nQ 61.46875 25.984375 61.46875 20.21875 \nQ 61.46875 14.5 58.203125 9.4375 \nQ 54.9375 4.390625 48.796875 1.578125 \nQ 42.671875 -1.21875 35.015625 -1.21875 \nQ 25.296875 -1.21875 18.71875 1.609375 \nQ 12.15625 4.4375 8.421875 10.125 \nQ 4.6875 15.828125 4.5 23 \nz\n\" id=\"ArialMT-83\"/>\n     </defs>\n     <use xlink:href=\"#ArialMT-65\"/>\n     <use x=\"66.699219\" xlink:href=\"#ArialMT-99\"/>\n     <use x=\"116.699219\" xlink:href=\"#ArialMT-99\"/>\n     <use x=\"166.699219\" xlink:href=\"#ArialMT-117\"/>\n     <use x=\"222.314453\" xlink:href=\"#ArialMT-114\"/>\n     <use x=\"255.615234\" xlink:href=\"#ArialMT-97\"/>\n     <use x=\"311.230469\" xlink:href=\"#ArialMT-99\"/>\n     <use x=\"361.230469\" xlink:href=\"#ArialMT-121\"/>\n     <use x=\"411.230469\" xlink:href=\"#ArialMT-32\"/>\n     <use x=\"439.013672\" xlink:href=\"#ArialMT-111\"/>\n     <use x=\"494.628906\" xlink:href=\"#ArialMT-110\"/>\n     <use x=\"550.244141\" xlink:href=\"#ArialMT-32\"/>\n     <use x=\"576.277344\" xlink:href=\"#ArialMT-84\"/>\n     <use x=\"626.236328\" xlink:href=\"#ArialMT-101\"/>\n     <use x=\"681.851562\" xlink:href=\"#ArialMT-115\"/>\n     <use x=\"731.851562\" xlink:href=\"#ArialMT-116\"/>\n     <use x=\"759.634766\" xlink:href=\"#ArialMT-32\"/>\n     <use x=\"787.417969\" xlink:href=\"#ArialMT-83\"/>\n     <use x=\"854.117188\" xlink:href=\"#ArialMT-101\"/>\n     <use x=\"909.732422\" xlink:href=\"#ArialMT-116\"/>\n    </g>\n   </g>\n  </g>\n </g>\n <defs>\n  <clipPath id=\"pe8a3a78b21\">\n   <rect height=\"288\" width=\"613.8\" x=\"53.2375\" y=\"28.8475\"/>\n  </clipPath>\n </defs>\n</svg>\n",
      "image/png": "[encoded data removed]"
     },
     "metadata": {}
    }
   ],
   "source": [
    "df_results.sort_values('test_set_acc')['test_set_acc'].plot(kind='bar', figsize=(11,5))\n",
    "\n",
    "plt.title('Accuracy on Test Set', size=16, pad=10)\n",
    "plt.axhline(y=0.5108, color='r')\n",
    "plt.text(s='baseline\\n   0.51', x=-1, y=0.52, size=12)\n",
    "plt.text(s='0.87', x=6.9, y=0.88, size=12)\n",
    "plt.xlabel('Model', fontsize=14)\n",
    "plt.ylabel('Accuracy', fontsize=14)\n",
    "plt.ylim(0.5, 1)\n",
    "plt.xticks(size=13, rotation=0)\n",
    "plt.yticks(size=13)\n",
    "plt.savefig('../images/model_scores.png', bbox_inches='tight', facecolor='w')\n",
    "plt.show()"
   ]
  },
  {
   "source": [
    "While all models did much better than the baseline, the TFIDFVectorizer-Logistic Regression model has the best accuracy score on the test set indicating low variance and low bias, and we will use this model to infer our findings. \n",
    "\n",
    "Logistic Regression allows us to model a binary variable using linear boundaries by mapping each predicted value to a probability between 0 and 1 using a Sigmoid function. Probabilities are then classified to 1 and 0 based on whether they are closer to 1 or 0.\n",
    "\n",
    "Support Vector Machine Classification may have done worse due to significant overfitting. The difference between the train score and test score for SVC is far bigger compared to that of Logistic Regression. We may need to try different values of Gamma.\n",
    "\n",
    "Multinomial Bayes may have done worse as it assumes independence amongst predictors, which is not likely to be a valid assumption for text classification.\n",
    "\n",
    "Random Forests may have done worse as it may be constrained in its hyperparameters, e.g. max_depth may need to be increased as many features matter in order for an accurate classification, and n_estimators may need to be increased to allow for the model to try greater combinations of different features.\n",
    "\n",
    "TFIDFVectorizer also does better overall than CountVectorizer, showing how TFIDFVectorizer helps the model to pick out more unique words with more information. "
   ],
   "cell_type": "markdown",
   "metadata": {}
  },
  {
   "source": [
    "### Inspecting Predictions of Best Model"
   ],
   "cell_type": "markdown",
   "metadata": {}
  },
  {
   "cell_type": "code",
   "execution_count": 272,
   "metadata": {},
   "outputs": [],
   "source": [
    "tvec_logreg_best_params = {'logreg__C': [1], 'tvec__max_df': [0.9], 'tvec__max_features': [2500], 'tvec__min_df': [2], 'tvec__ngram_range': [(1, 2)]} # Extracting best params of best model\n",
    "gs = GridSearchCV(pipe_tvec_logreg,tvec_logreg_best_params,cv=3) # Refitting using best params\n",
    "gs.fit(X_train, y_train)\n",
    "coef_tvec = pd.DataFrame(gs.best_estimator_.named_steps['logreg'].coef_.T,index=gs.best_estimator_.named_steps['tvec'].get_feature_names(), columns=['coef']) # Extracting coefficients"
   ]
  },
  {
   "source": [
    "#### ROC-AUC Score\n",
    "Looking at the ROC curve, the model is able to distinguish between the two subreddits well, as the curve is near the top left corner of the graph."
   ],
   "cell_type": "markdown",
   "metadata": {}
  },
  {
   "cell_type": "code",
   "execution_count": 368,
   "metadata": {},
   "outputs": [
    {
     "output_type": "execute_result",
     "data": {
      "text/plain": [
       "0.944358282208589"
      ]
     },
     "metadata": {},
     "execution_count": 368
    }
   ],
   "source": [
    "preds = gs.predict(X_test) # Getting preds\n",
    "preds_prob = gs.predict_proba(X_test) # Getting predicted probabilities\n",
    "preds_prob = preds_prob[:,1]\n",
    "roc_auc_score(y_test, preds_prob) # Computing ROC-AUC score"
   ]
  },
  {
   "cell_type": "code",
   "execution_count": 382,
   "metadata": {},
   "outputs": [
    {
     "output_type": "display_data",
     "data": {
      "text/plain": "<Figure size 640x480 with 1 Axes>",
      "image/svg+xml": "<?xml version=\"1.0\" encoding=\"utf-8\" standalone=\"no\"?>\n<!DOCTYPE svg PUBLIC \"-//W3C//DTD SVG 1.1//EN\"\n  \"http://www.w3.org/Graphics/SVG/1.1/DTD/svg11.dtd\">\n<!-- Created with matplotlib (https://matplotlib.org/) -->\n<svg height=\"419.556687pt\" version=\"1.1\" viewBox=\"0 0 516.49125 419.556687\" width=\"516.49125pt\" xmlns=\"http://www.w3.org/2000/svg\" xmlns:xlink=\"http://www.w3.org/1999/xlink\">\n <metadata>\n  <rdf:RDF xmlns:cc=\"http://creativecommons.org/ns#\" xmlns:dc=\"http://purl.org/dc/elements/1.1/\" xmlns:rdf=\"http://www.w3.org/1999/02/22-rdf-syntax-ns#\">\n   <cc:Work>\n    <dc:type rdf:resource=\"http://purl.org/dc/dcmitype/StillImage\"/>\n    <dc:date>2021-04-22T11:11:51.622216</dc:date>\n    <dc:format>image/svg+xml</dc:format>\n    <dc:creator>\n     <cc:Agent>\n      <dc:title>Matplotlib v3.3.2, https://matplotlib.org/</dc:title>\n     </cc:Agent>\n    </dc:creator>\n   </cc:Work>\n  </rdf:RDF>\n </metadata>\n <defs>\n  <style type=\"text/css\">*{stroke-linecap:butt;stroke-linejoin:round;}</style>\n </defs>\n <g id=\"figure_1\">\n  <g id=\"patch_1\">\n   <path d=\"M 0 419.556687 \nL 516.49125 419.556687 \nL 516.49125 0 \nL 0 0 \nz\n\" style=\"fill:#ffffff;\"/>\n  </g>\n  <g id=\"axes_1\">\n   <g id=\"patch_2\">\n    <path d=\"M 53.71725 372.115625 \nL 500.11725 372.115625 \nL 500.11725 26.515625 \nL 53.71725 26.515625 \nz\n\" style=\"fill:#ffffff;\"/>\n   </g>\n   <g id=\"matplotlib.axis_1\">\n    <g id=\"xtick_1\">\n     <g id=\"line2d_1\">\n      <path clip-path=\"url(#p5f1c129267)\" d=\"M 53.71725 372.115625 \nL 53.71725 26.515625 \n\" style=\"fill:none;stroke:#cccccc;stroke-linecap:round;\"/>\n     </g>\n     <g id=\"line2d_2\">\n      <defs>\n       <path d=\"M 0 0 \nL 0 6 \n\" id=\"mfe82ec0954\" style=\"stroke:#262626;stroke-width:1.25;\"/>\n      </defs>\n      <g>\n       <use style=\"fill:#262626;stroke:#262626;stroke-width:1.25;\" x=\"53.71725\" xlink:href=\"#mfe82ec0954\" y=\"372.115625\"/>\n      </g>\n     </g>\n     <g id=\"line2d_3\">\n      <defs>\n       <path d=\"M 0 0 \nL 0 -6 \n\" id=\"mc4f8b22c3c\" style=\"stroke:#262626;stroke-width:1.25;\"/>\n      </defs>\n      <g>\n       <use style=\"fill:#262626;stroke:#262626;stroke-width:1.25;\" x=\"53.71725\" xlink:href=\"#mc4f8b22c3c\" y=\"26.515625\"/>\n      </g>\n     </g>\n     <g id=\"text_1\">\n      <!-- 0.0 -->\n      <g style=\"fill:#262626;\" transform=\"translate(44.54325 391.563937)scale(0.132 -0.132)\">\n       <defs>\n        <path d=\"M 4.15625 35.296875 \nQ 4.15625 48 6.765625 55.734375 \nQ 9.375 63.484375 14.515625 67.671875 \nQ 19.671875 71.875 27.484375 71.875 \nQ 33.25 71.875 37.59375 69.546875 \nQ 41.9375 67.234375 44.765625 62.859375 \nQ 47.609375 58.5 49.21875 52.21875 \nQ 50.828125 45.953125 50.828125 35.296875 \nQ 50.828125 22.703125 48.234375 14.96875 \nQ 45.65625 7.234375 40.5 3 \nQ 35.359375 -1.21875 27.484375 -1.21875 \nQ 17.140625 -1.21875 11.234375 6.203125 \nQ 4.15625 15.140625 4.15625 35.296875 \nz\nM 13.1875 35.296875 \nQ 13.1875 17.671875 17.3125 11.828125 \nQ 21.4375 6 27.484375 6 \nQ 33.546875 6 37.671875 11.859375 \nQ 41.796875 17.71875 41.796875 35.296875 \nQ 41.796875 52.984375 37.671875 58.78125 \nQ 33.546875 64.59375 27.390625 64.59375 \nQ 21.34375 64.59375 17.71875 59.46875 \nQ 13.1875 52.9375 13.1875 35.296875 \nz\n\" id=\"ArialMT-48\"/>\n        <path d=\"M 9.078125 0 \nL 9.078125 10.015625 \nL 19.09375 10.015625 \nL 19.09375 0 \nz\n\" id=\"ArialMT-46\"/>\n       </defs>\n       <use xlink:href=\"#ArialMT-48\"/>\n       <use x=\"55.615234\" xlink:href=\"#ArialMT-46\"/>\n       <use x=\"83.398438\" xlink:href=\"#ArialMT-48\"/>\n      </g>\n     </g>\n    </g>\n    <g id=\"xtick_2\">\n     <g id=\"line2d_4\">\n      <path clip-path=\"url(#p5f1c129267)\" d=\"M 142.99725 372.115625 \nL 142.99725 26.515625 \n\" style=\"fill:none;stroke:#cccccc;stroke-linecap:round;\"/>\n     </g>\n     <g id=\"line2d_5\">\n      <g>\n       <use style=\"fill:#262626;stroke:#262626;stroke-width:1.25;\" x=\"142.99725\" xlink:href=\"#mfe82ec0954\" y=\"372.115625\"/>\n      </g>\n     </g>\n     <g id=\"line2d_6\">\n      <g>\n       <use style=\"fill:#262626;stroke:#262626;stroke-width:1.25;\" x=\"142.99725\" xlink:href=\"#mc4f8b22c3c\" y=\"26.515625\"/>\n      </g>\n     </g>\n     <g id=\"text_2\">\n      <!-- 0.2 -->\n      <g style=\"fill:#262626;\" transform=\"translate(133.82325 391.563937)scale(0.132 -0.132)\">\n       <defs>\n        <path d=\"M 50.34375 8.453125 \nL 50.34375 0 \nL 3.03125 0 \nQ 2.9375 3.171875 4.046875 6.109375 \nQ 5.859375 10.9375 9.828125 15.625 \nQ 13.8125 20.3125 21.34375 26.46875 \nQ 33.015625 36.03125 37.109375 41.625 \nQ 41.21875 47.21875 41.21875 52.203125 \nQ 41.21875 57.421875 37.46875 61 \nQ 33.734375 64.59375 27.734375 64.59375 \nQ 21.390625 64.59375 17.578125 60.78125 \nQ 13.765625 56.984375 13.71875 50.25 \nL 4.6875 51.171875 \nQ 5.609375 61.28125 11.65625 66.578125 \nQ 17.71875 71.875 27.9375 71.875 \nQ 38.234375 71.875 44.234375 66.15625 \nQ 50.25 60.453125 50.25 52 \nQ 50.25 47.703125 48.484375 43.546875 \nQ 46.734375 39.40625 42.65625 34.8125 \nQ 38.578125 30.21875 29.109375 22.21875 \nQ 21.1875 15.578125 18.9375 13.203125 \nQ 16.703125 10.84375 15.234375 8.453125 \nz\n\" id=\"ArialMT-50\"/>\n       </defs>\n       <use xlink:href=\"#ArialMT-48\"/>\n       <use x=\"55.615234\" xlink:href=\"#ArialMT-46\"/>\n       <use x=\"83.398438\" xlink:href=\"#ArialMT-50\"/>\n      </g>\n     </g>\n    </g>\n    <g id=\"xtick_3\">\n     <g id=\"line2d_7\">\n      <path clip-path=\"url(#p5f1c129267)\" d=\"M 232.27725 372.115625 \nL 232.27725 26.515625 \n\" style=\"fill:none;stroke:#cccccc;stroke-linecap:round;\"/>\n     </g>\n     <g id=\"line2d_8\">\n      <g>\n       <use style=\"fill:#262626;stroke:#262626;stroke-width:1.25;\" x=\"232.27725\" xlink:href=\"#mfe82ec0954\" y=\"372.115625\"/>\n      </g>\n     </g>\n     <g id=\"line2d_9\">\n      <g>\n       <use style=\"fill:#262626;stroke:#262626;stroke-width:1.25;\" x=\"232.27725\" xlink:href=\"#mc4f8b22c3c\" y=\"26.515625\"/>\n      </g>\n     </g>\n     <g id=\"text_3\">\n      <!-- 0.4 -->\n      <g style=\"fill:#262626;\" transform=\"translate(223.10325 391.563937)scale(0.132 -0.132)\">\n       <defs>\n        <path d=\"M 32.328125 0 \nL 32.328125 17.140625 \nL 1.265625 17.140625 \nL 1.265625 25.203125 \nL 33.9375 71.578125 \nL 41.109375 71.578125 \nL 41.109375 25.203125 \nL 50.78125 25.203125 \nL 50.78125 17.140625 \nL 41.109375 17.140625 \nL 41.109375 0 \nz\nM 32.328125 25.203125 \nL 32.328125 57.46875 \nL 9.90625 25.203125 \nz\n\" id=\"ArialMT-52\"/>\n       </defs>\n       <use xlink:href=\"#ArialMT-48\"/>\n       <use x=\"55.615234\" xlink:href=\"#ArialMT-46\"/>\n       <use x=\"83.398438\" xlink:href=\"#ArialMT-52\"/>\n      </g>\n     </g>\n    </g>\n    <g id=\"xtick_4\">\n     <g id=\"line2d_10\">\n      <path clip-path=\"url(#p5f1c129267)\" d=\"M 321.55725 372.115625 \nL 321.55725 26.515625 \n\" style=\"fill:none;stroke:#cccccc;stroke-linecap:round;\"/>\n     </g>\n     <g id=\"line2d_11\">\n      <g>\n       <use style=\"fill:#262626;stroke:#262626;stroke-width:1.25;\" x=\"321.55725\" xlink:href=\"#mfe82ec0954\" y=\"372.115625\"/>\n      </g>\n     </g>\n     <g id=\"line2d_12\">\n      <g>\n       <use style=\"fill:#262626;stroke:#262626;stroke-width:1.25;\" x=\"321.55725\" xlink:href=\"#mc4f8b22c3c\" y=\"26.515625\"/>\n      </g>\n     </g>\n     <g id=\"text_4\">\n      <!-- 0.6 -->\n      <g style=\"fill:#262626;\" transform=\"translate(312.38325 391.563937)scale(0.132 -0.132)\">\n       <defs>\n        <path d=\"M 49.75 54.046875 \nL 41.015625 53.375 \nQ 39.84375 58.546875 37.703125 60.890625 \nQ 34.125 64.65625 28.90625 64.65625 \nQ 24.703125 64.65625 21.53125 62.3125 \nQ 17.390625 59.28125 14.984375 53.46875 \nQ 12.59375 47.65625 12.5 36.921875 \nQ 15.671875 41.75 20.265625 44.09375 \nQ 24.859375 46.4375 29.890625 46.4375 \nQ 38.671875 46.4375 44.84375 39.96875 \nQ 51.03125 33.5 51.03125 23.25 \nQ 51.03125 16.5 48.125 10.71875 \nQ 45.21875 4.9375 40.140625 1.859375 \nQ 35.0625 -1.21875 28.609375 -1.21875 \nQ 17.625 -1.21875 10.6875 6.859375 \nQ 3.765625 14.9375 3.765625 33.5 \nQ 3.765625 54.25 11.421875 63.671875 \nQ 18.109375 71.875 29.4375 71.875 \nQ 37.890625 71.875 43.28125 67.140625 \nQ 48.6875 62.40625 49.75 54.046875 \nz\nM 13.875 23.1875 \nQ 13.875 18.65625 15.796875 14.5 \nQ 17.71875 10.359375 21.1875 8.171875 \nQ 24.65625 6 28.46875 6 \nQ 34.03125 6 38.03125 10.484375 \nQ 42.046875 14.984375 42.046875 22.703125 \nQ 42.046875 30.125 38.078125 34.390625 \nQ 34.125 38.671875 28.125 38.671875 \nQ 22.171875 38.671875 18.015625 34.390625 \nQ 13.875 30.125 13.875 23.1875 \nz\n\" id=\"ArialMT-54\"/>\n       </defs>\n       <use xlink:href=\"#ArialMT-48\"/>\n       <use x=\"55.615234\" xlink:href=\"#ArialMT-46\"/>\n       <use x=\"83.398438\" xlink:href=\"#ArialMT-54\"/>\n      </g>\n     </g>\n    </g>\n    <g id=\"xtick_5\">\n     <g id=\"line2d_13\">\n      <path clip-path=\"url(#p5f1c129267)\" d=\"M 410.83725 372.115625 \nL 410.83725 26.515625 \n\" style=\"fill:none;stroke:#cccccc;stroke-linecap:round;\"/>\n     </g>\n     <g id=\"line2d_14\">\n      <g>\n       <use style=\"fill:#262626;stroke:#262626;stroke-width:1.25;\" x=\"410.83725\" xlink:href=\"#mfe82ec0954\" y=\"372.115625\"/>\n      </g>\n     </g>\n     <g id=\"line2d_15\">\n      <g>\n       <use style=\"fill:#262626;stroke:#262626;stroke-width:1.25;\" x=\"410.83725\" xlink:href=\"#mc4f8b22c3c\" y=\"26.515625\"/>\n      </g>\n     </g>\n     <g id=\"text_5\">\n      <!-- 0.8 -->\n      <g style=\"fill:#262626;\" transform=\"translate(401.66325 391.563937)scale(0.132 -0.132)\">\n       <defs>\n        <path d=\"M 17.671875 38.8125 \nQ 12.203125 40.828125 9.5625 44.53125 \nQ 6.9375 48.25 6.9375 53.421875 \nQ 6.9375 61.234375 12.546875 66.546875 \nQ 18.171875 71.875 27.484375 71.875 \nQ 36.859375 71.875 42.578125 66.421875 \nQ 48.296875 60.984375 48.296875 53.171875 \nQ 48.296875 48.1875 45.671875 44.5 \nQ 43.0625 40.828125 37.75 38.8125 \nQ 44.34375 36.671875 47.78125 31.875 \nQ 51.21875 27.09375 51.21875 20.453125 \nQ 51.21875 11.28125 44.71875 5.03125 \nQ 38.234375 -1.21875 27.640625 -1.21875 \nQ 17.046875 -1.21875 10.546875 5.046875 \nQ 4.046875 11.328125 4.046875 20.703125 \nQ 4.046875 27.6875 7.59375 32.390625 \nQ 11.140625 37.109375 17.671875 38.8125 \nz\nM 15.921875 53.71875 \nQ 15.921875 48.640625 19.1875 45.40625 \nQ 22.46875 42.1875 27.6875 42.1875 \nQ 32.765625 42.1875 36.015625 45.375 \nQ 39.265625 48.578125 39.265625 53.21875 \nQ 39.265625 58.0625 35.90625 61.359375 \nQ 32.5625 64.65625 27.59375 64.65625 \nQ 22.5625 64.65625 19.234375 61.421875 \nQ 15.921875 58.203125 15.921875 53.71875 \nz\nM 13.09375 20.65625 \nQ 13.09375 16.890625 14.875 13.375 \nQ 16.65625 9.859375 20.171875 7.921875 \nQ 23.6875 6 27.734375 6 \nQ 34.03125 6 38.125 10.046875 \nQ 42.234375 14.109375 42.234375 20.359375 \nQ 42.234375 26.703125 38.015625 30.859375 \nQ 33.796875 35.015625 27.4375 35.015625 \nQ 21.234375 35.015625 17.15625 30.90625 \nQ 13.09375 26.8125 13.09375 20.65625 \nz\n\" id=\"ArialMT-56\"/>\n       </defs>\n       <use xlink:href=\"#ArialMT-48\"/>\n       <use x=\"55.615234\" xlink:href=\"#ArialMT-46\"/>\n       <use x=\"83.398438\" xlink:href=\"#ArialMT-56\"/>\n      </g>\n     </g>\n    </g>\n    <g id=\"xtick_6\">\n     <g id=\"line2d_16\">\n      <path clip-path=\"url(#p5f1c129267)\" d=\"M 500.11725 372.115625 \nL 500.11725 26.515625 \n\" style=\"fill:none;stroke:#cccccc;stroke-linecap:round;\"/>\n     </g>\n     <g id=\"line2d_17\">\n      <g>\n       <use style=\"fill:#262626;stroke:#262626;stroke-width:1.25;\" x=\"500.11725\" xlink:href=\"#mfe82ec0954\" y=\"372.115625\"/>\n      </g>\n     </g>\n     <g id=\"line2d_18\">\n      <g>\n       <use style=\"fill:#262626;stroke:#262626;stroke-width:1.25;\" x=\"500.11725\" xlink:href=\"#mc4f8b22c3c\" y=\"26.515625\"/>\n      </g>\n     </g>\n     <g id=\"text_6\">\n      <!-- 1.0 -->\n      <g style=\"fill:#262626;\" transform=\"translate(490.94325 391.563937)scale(0.132 -0.132)\">\n       <defs>\n        <path d=\"M 37.25 0 \nL 28.46875 0 \nL 28.46875 56 \nQ 25.296875 52.984375 20.140625 49.953125 \nQ 14.984375 46.921875 10.890625 45.40625 \nL 10.890625 53.90625 \nQ 18.265625 57.375 23.78125 62.296875 \nQ 29.296875 67.234375 31.59375 71.875 \nL 37.25 71.875 \nz\n\" id=\"ArialMT-49\"/>\n       </defs>\n       <use xlink:href=\"#ArialMT-49\"/>\n       <use x=\"55.615234\" xlink:href=\"#ArialMT-46\"/>\n       <use x=\"83.398438\" xlink:href=\"#ArialMT-48\"/>\n      </g>\n     </g>\n    </g>\n    <g id=\"text_7\">\n     <!-- False Positive Rate -->\n     <g style=\"fill:#262626;\" transform=\"translate(214.89375 409.494687)scale(0.144 -0.144)\">\n      <defs>\n       <path d=\"M 8.203125 0 \nL 8.203125 71.578125 \nL 56.5 71.578125 \nL 56.5 63.140625 \nL 17.671875 63.140625 \nL 17.671875 40.96875 \nL 51.265625 40.96875 \nL 51.265625 32.515625 \nL 17.671875 32.515625 \nL 17.671875 0 \nz\n\" id=\"ArialMT-70\"/>\n       <path d=\"M 40.4375 6.390625 \nQ 35.546875 2.25 31.03125 0.53125 \nQ 26.515625 -1.171875 21.34375 -1.171875 \nQ 12.796875 -1.171875 8.203125 3 \nQ 3.609375 7.171875 3.609375 13.671875 \nQ 3.609375 17.484375 5.34375 20.625 \nQ 7.078125 23.78125 9.890625 25.6875 \nQ 12.703125 27.59375 16.21875 28.5625 \nQ 18.796875 29.25 24.03125 29.890625 \nQ 34.671875 31.15625 39.703125 32.90625 \nQ 39.75 34.71875 39.75 35.203125 \nQ 39.75 40.578125 37.25 42.78125 \nQ 33.890625 45.75 27.25 45.75 \nQ 21.046875 45.75 18.09375 43.578125 \nQ 15.140625 41.40625 13.71875 35.890625 \nL 5.125 37.0625 \nQ 6.296875 42.578125 8.984375 45.96875 \nQ 11.671875 49.359375 16.75 51.1875 \nQ 21.828125 53.03125 28.515625 53.03125 \nQ 35.15625 53.03125 39.296875 51.46875 \nQ 43.453125 49.90625 45.40625 47.53125 \nQ 47.359375 45.171875 48.140625 41.546875 \nQ 48.578125 39.3125 48.578125 33.453125 \nL 48.578125 21.734375 \nQ 48.578125 9.46875 49.140625 6.21875 \nQ 49.703125 2.984375 51.375 0 \nL 42.1875 0 \nQ 40.828125 2.734375 40.4375 6.390625 \nz\nM 39.703125 26.03125 \nQ 34.90625 24.078125 25.34375 22.703125 \nQ 19.921875 21.921875 17.671875 20.9375 \nQ 15.4375 19.96875 14.203125 18.09375 \nQ 12.984375 16.21875 12.984375 13.921875 \nQ 12.984375 10.40625 15.640625 8.0625 \nQ 18.3125 5.71875 23.4375 5.71875 \nQ 28.515625 5.71875 32.46875 7.9375 \nQ 36.421875 10.15625 38.28125 14.015625 \nQ 39.703125 17 39.703125 22.796875 \nz\n\" id=\"ArialMT-97\"/>\n       <path d=\"M 6.390625 0 \nL 6.390625 71.578125 \nL 15.1875 71.578125 \nL 15.1875 0 \nz\n\" id=\"ArialMT-108\"/>\n       <path d=\"M 3.078125 15.484375 \nL 11.765625 16.84375 \nQ 12.5 11.625 15.84375 8.84375 \nQ 19.1875 6.0625 25.203125 6.0625 \nQ 31.25 6.0625 34.171875 8.515625 \nQ 37.109375 10.984375 37.109375 14.3125 \nQ 37.109375 17.28125 34.515625 19 \nQ 32.71875 20.171875 25.53125 21.96875 \nQ 15.875 24.421875 12.140625 26.203125 \nQ 8.40625 27.984375 6.46875 31.125 \nQ 4.546875 34.28125 4.546875 38.09375 \nQ 4.546875 41.546875 6.125 44.5 \nQ 7.71875 47.46875 10.453125 49.421875 \nQ 12.5 50.921875 16.03125 51.96875 \nQ 19.578125 53.03125 23.640625 53.03125 \nQ 29.734375 53.03125 34.34375 51.265625 \nQ 38.96875 49.515625 41.15625 46.5 \nQ 43.359375 43.5 44.1875 38.484375 \nL 35.59375 37.3125 \nQ 35.015625 41.3125 32.203125 43.546875 \nQ 29.390625 45.796875 24.265625 45.796875 \nQ 18.21875 45.796875 15.625 43.796875 \nQ 13.03125 41.796875 13.03125 39.109375 \nQ 13.03125 37.40625 14.109375 36.03125 \nQ 15.1875 34.625 17.484375 33.6875 \nQ 18.796875 33.203125 25.25 31.453125 \nQ 34.578125 28.953125 38.25 27.359375 \nQ 41.9375 25.78125 44.03125 22.75 \nQ 46.140625 19.734375 46.140625 15.234375 \nQ 46.140625 10.84375 43.578125 6.953125 \nQ 41.015625 3.078125 36.171875 0.953125 \nQ 31.34375 -1.171875 25.25 -1.171875 \nQ 15.140625 -1.171875 9.84375 3.03125 \nQ 4.546875 7.234375 3.078125 15.484375 \nz\n\" id=\"ArialMT-115\"/>\n       <path d=\"M 42.09375 16.703125 \nL 51.171875 15.578125 \nQ 49.03125 7.625 43.21875 3.21875 \nQ 37.40625 -1.171875 28.375 -1.171875 \nQ 17 -1.171875 10.328125 5.828125 \nQ 3.65625 12.84375 3.65625 25.484375 \nQ 3.65625 38.578125 10.390625 45.796875 \nQ 17.140625 53.03125 27.875 53.03125 \nQ 38.28125 53.03125 44.875 45.953125 \nQ 51.46875 38.875 51.46875 26.03125 \nQ 51.46875 25.25 51.421875 23.6875 \nL 12.75 23.6875 \nQ 13.234375 15.140625 17.578125 10.59375 \nQ 21.921875 6.0625 28.421875 6.0625 \nQ 33.25 6.0625 36.671875 8.59375 \nQ 40.09375 11.140625 42.09375 16.703125 \nz\nM 13.234375 30.90625 \nL 42.1875 30.90625 \nQ 41.609375 37.453125 38.875 40.71875 \nQ 34.671875 45.796875 27.984375 45.796875 \nQ 21.921875 45.796875 17.796875 41.75 \nQ 13.671875 37.703125 13.234375 30.90625 \nz\n\" id=\"ArialMT-101\"/>\n       <path id=\"ArialMT-32\"/>\n       <path d=\"M 7.71875 0 \nL 7.71875 71.578125 \nL 34.71875 71.578125 \nQ 41.84375 71.578125 45.609375 70.90625 \nQ 50.875 70.015625 54.4375 67.546875 \nQ 58.015625 65.09375 60.1875 60.640625 \nQ 62.359375 56.203125 62.359375 50.875 \nQ 62.359375 41.75 56.546875 35.421875 \nQ 50.734375 29.109375 35.546875 29.109375 \nL 17.1875 29.109375 \nL 17.1875 0 \nz\nM 17.1875 37.546875 \nL 35.6875 37.546875 \nQ 44.875 37.546875 48.734375 40.96875 \nQ 52.59375 44.390625 52.59375 50.59375 \nQ 52.59375 55.078125 50.3125 58.265625 \nQ 48.046875 61.46875 44.34375 62.5 \nQ 41.9375 63.140625 35.5 63.140625 \nL 17.1875 63.140625 \nz\n\" id=\"ArialMT-80\"/>\n       <path d=\"M 3.328125 25.921875 \nQ 3.328125 40.328125 11.328125 47.265625 \nQ 18.015625 53.03125 27.640625 53.03125 \nQ 38.328125 53.03125 45.109375 46.015625 \nQ 51.90625 39.015625 51.90625 26.65625 \nQ 51.90625 16.65625 48.90625 10.90625 \nQ 45.90625 5.171875 40.15625 2 \nQ 34.421875 -1.171875 27.640625 -1.171875 \nQ 16.75 -1.171875 10.03125 5.8125 \nQ 3.328125 12.796875 3.328125 25.921875 \nz\nM 12.359375 25.921875 \nQ 12.359375 15.96875 16.703125 11.015625 \nQ 21.046875 6.0625 27.640625 6.0625 \nQ 34.1875 6.0625 38.53125 11.03125 \nQ 42.875 16.015625 42.875 26.21875 \nQ 42.875 35.84375 38.5 40.796875 \nQ 34.125 45.75 27.640625 45.75 \nQ 21.046875 45.75 16.703125 40.8125 \nQ 12.359375 35.890625 12.359375 25.921875 \nz\n\" id=\"ArialMT-111\"/>\n       <path d=\"M 6.640625 61.46875 \nL 6.640625 71.578125 \nL 15.4375 71.578125 \nL 15.4375 61.46875 \nz\nM 6.640625 0 \nL 6.640625 51.859375 \nL 15.4375 51.859375 \nL 15.4375 0 \nz\n\" id=\"ArialMT-105\"/>\n       <path d=\"M 25.78125 7.859375 \nL 27.046875 0.09375 \nQ 23.34375 -0.6875 20.40625 -0.6875 \nQ 15.625 -0.6875 12.984375 0.828125 \nQ 10.359375 2.34375 9.28125 4.8125 \nQ 8.203125 7.28125 8.203125 15.1875 \nL 8.203125 45.015625 \nL 1.765625 45.015625 \nL 1.765625 51.859375 \nL 8.203125 51.859375 \nL 8.203125 64.703125 \nL 16.9375 69.96875 \nL 16.9375 51.859375 \nL 25.78125 51.859375 \nL 25.78125 45.015625 \nL 16.9375 45.015625 \nL 16.9375 14.703125 \nQ 16.9375 10.9375 17.40625 9.859375 \nQ 17.875 8.796875 18.921875 8.15625 \nQ 19.96875 7.515625 21.921875 7.515625 \nQ 23.390625 7.515625 25.78125 7.859375 \nz\n\" id=\"ArialMT-116\"/>\n       <path d=\"M 21 0 \nL 1.265625 51.859375 \nL 10.546875 51.859375 \nL 21.6875 20.796875 \nQ 23.484375 15.765625 25 10.359375 \nQ 26.171875 14.453125 28.265625 20.21875 \nL 39.796875 51.859375 \nL 48.828125 51.859375 \nL 29.203125 0 \nz\n\" id=\"ArialMT-118\"/>\n       <path d=\"M 7.859375 0 \nL 7.859375 71.578125 \nL 39.59375 71.578125 \nQ 49.171875 71.578125 54.140625 69.640625 \nQ 59.125 67.71875 62.109375 62.828125 \nQ 65.09375 57.953125 65.09375 52.046875 \nQ 65.09375 44.4375 60.15625 39.203125 \nQ 55.21875 33.984375 44.921875 32.5625 \nQ 48.6875 30.765625 50.640625 29 \nQ 54.78125 25.203125 58.5 19.484375 \nL 70.953125 0 \nL 59.03125 0 \nL 49.5625 14.890625 \nQ 45.40625 21.34375 42.71875 24.75 \nQ 40.046875 28.171875 37.921875 29.53125 \nQ 35.796875 30.90625 33.59375 31.453125 \nQ 31.984375 31.78125 28.328125 31.78125 \nL 17.328125 31.78125 \nL 17.328125 0 \nz\nM 17.328125 39.984375 \nL 37.703125 39.984375 \nQ 44.1875 39.984375 47.84375 41.328125 \nQ 51.515625 42.671875 53.421875 45.625 \nQ 55.328125 48.578125 55.328125 52.046875 \nQ 55.328125 57.125 51.640625 60.390625 \nQ 47.953125 63.671875 39.984375 63.671875 \nL 17.328125 63.671875 \nz\n\" id=\"ArialMT-82\"/>\n      </defs>\n      <use xlink:href=\"#ArialMT-70\"/>\n      <use x=\"61.083984\" xlink:href=\"#ArialMT-97\"/>\n      <use x=\"116.699219\" xlink:href=\"#ArialMT-108\"/>\n      <use x=\"138.916016\" xlink:href=\"#ArialMT-115\"/>\n      <use x=\"188.916016\" xlink:href=\"#ArialMT-101\"/>\n      <use x=\"244.53125\" xlink:href=\"#ArialMT-32\"/>\n      <use x=\"272.314453\" xlink:href=\"#ArialMT-80\"/>\n      <use x=\"339.013672\" xlink:href=\"#ArialMT-111\"/>\n      <use x=\"394.628906\" xlink:href=\"#ArialMT-115\"/>\n      <use x=\"444.628906\" xlink:href=\"#ArialMT-105\"/>\n      <use x=\"466.845703\" xlink:href=\"#ArialMT-116\"/>\n      <use x=\"494.628906\" xlink:href=\"#ArialMT-105\"/>\n      <use x=\"516.845703\" xlink:href=\"#ArialMT-118\"/>\n      <use x=\"566.845703\" xlink:href=\"#ArialMT-101\"/>\n      <use x=\"622.460938\" xlink:href=\"#ArialMT-32\"/>\n      <use x=\"650.244141\" xlink:href=\"#ArialMT-82\"/>\n      <use x=\"722.460938\" xlink:href=\"#ArialMT-97\"/>\n      <use x=\"778.076172\" xlink:href=\"#ArialMT-116\"/>\n      <use x=\"805.859375\" xlink:href=\"#ArialMT-101\"/>\n     </g>\n    </g>\n   </g>\n   <g id=\"matplotlib.axis_2\">\n    <g id=\"ytick_1\">\n     <g id=\"line2d_19\">\n      <path clip-path=\"url(#p5f1c129267)\" d=\"M 53.71725 372.115625 \nL 500.11725 372.115625 \n\" style=\"fill:none;stroke:#cccccc;stroke-linecap:round;\"/>\n     </g>\n     <g id=\"line2d_20\">\n      <defs>\n       <path d=\"M 0 0 \nL -6 0 \n\" id=\"m96477a03e1\" style=\"stroke:#262626;stroke-width:1.25;\"/>\n      </defs>\n      <g>\n       <use style=\"fill:#262626;stroke:#262626;stroke-width:1.25;\" x=\"53.71725\" xlink:href=\"#m96477a03e1\" y=\"372.115625\"/>\n      </g>\n     </g>\n     <g id=\"line2d_21\">\n      <defs>\n       <path d=\"M 0 0 \nL 6 0 \n\" id=\"m65f1bde1c2\" style=\"stroke:#262626;stroke-width:1.25;\"/>\n      </defs>\n      <g>\n       <use style=\"fill:#262626;stroke:#262626;stroke-width:1.25;\" x=\"500.11725\" xlink:href=\"#m65f1bde1c2\" y=\"372.115625\"/>\n      </g>\n     </g>\n     <g id=\"text_8\">\n      <!-- 0.0 -->\n      <g style=\"fill:#262626;\" transform=\"translate(25.36925 375.528031)scale(0.132 -0.132)\">\n       <use xlink:href=\"#ArialMT-48\"/>\n       <use x=\"55.615234\" xlink:href=\"#ArialMT-46\"/>\n       <use x=\"83.398438\" xlink:href=\"#ArialMT-48\"/>\n      </g>\n     </g>\n    </g>\n    <g id=\"ytick_2\">\n     <g id=\"line2d_22\">\n      <path clip-path=\"url(#p5f1c129267)\" d=\"M 53.71725 302.995625 \nL 500.11725 302.995625 \n\" style=\"fill:none;stroke:#cccccc;stroke-linecap:round;\"/>\n     </g>\n     <g id=\"line2d_23\">\n      <g>\n       <use style=\"fill:#262626;stroke:#262626;stroke-width:1.25;\" x=\"53.71725\" xlink:href=\"#m96477a03e1\" y=\"302.995625\"/>\n      </g>\n     </g>\n     <g id=\"line2d_24\">\n      <g>\n       <use style=\"fill:#262626;stroke:#262626;stroke-width:1.25;\" x=\"500.11725\" xlink:href=\"#m65f1bde1c2\" y=\"302.995625\"/>\n      </g>\n     </g>\n     <g id=\"text_9\">\n      <!-- 0.2 -->\n      <g style=\"fill:#262626;\" transform=\"translate(25.36925 306.408031)scale(0.132 -0.132)\">\n       <use xlink:href=\"#ArialMT-48\"/>\n       <use x=\"55.615234\" xlink:href=\"#ArialMT-46\"/>\n       <use x=\"83.398438\" xlink:href=\"#ArialMT-50\"/>\n      </g>\n     </g>\n    </g>\n    <g id=\"ytick_3\">\n     <g id=\"line2d_25\">\n      <path clip-path=\"url(#p5f1c129267)\" d=\"M 53.71725 233.875625 \nL 500.11725 233.875625 \n\" style=\"fill:none;stroke:#cccccc;stroke-linecap:round;\"/>\n     </g>\n     <g id=\"line2d_26\">\n      <g>\n       <use style=\"fill:#262626;stroke:#262626;stroke-width:1.25;\" x=\"53.71725\" xlink:href=\"#m96477a03e1\" y=\"233.875625\"/>\n      </g>\n     </g>\n     <g id=\"line2d_27\">\n      <g>\n       <use style=\"fill:#262626;stroke:#262626;stroke-width:1.25;\" x=\"500.11725\" xlink:href=\"#m65f1bde1c2\" y=\"233.875625\"/>\n      </g>\n     </g>\n     <g id=\"text_10\">\n      <!-- 0.4 -->\n      <g style=\"fill:#262626;\" transform=\"translate(25.36925 237.288031)scale(0.132 -0.132)\">\n       <use xlink:href=\"#ArialMT-48\"/>\n       <use x=\"55.615234\" xlink:href=\"#ArialMT-46\"/>\n       <use x=\"83.398438\" xlink:href=\"#ArialMT-52\"/>\n      </g>\n     </g>\n    </g>\n    <g id=\"ytick_4\">\n     <g id=\"line2d_28\">\n      <path clip-path=\"url(#p5f1c129267)\" d=\"M 53.71725 164.755625 \nL 500.11725 164.755625 \n\" style=\"fill:none;stroke:#cccccc;stroke-linecap:round;\"/>\n     </g>\n     <g id=\"line2d_29\">\n      <g>\n       <use style=\"fill:#262626;stroke:#262626;stroke-width:1.25;\" x=\"53.71725\" xlink:href=\"#m96477a03e1\" y=\"164.755625\"/>\n      </g>\n     </g>\n     <g id=\"line2d_30\">\n      <g>\n       <use style=\"fill:#262626;stroke:#262626;stroke-width:1.25;\" x=\"500.11725\" xlink:href=\"#m65f1bde1c2\" y=\"164.755625\"/>\n      </g>\n     </g>\n     <g id=\"text_11\">\n      <!-- 0.6 -->\n      <g style=\"fill:#262626;\" transform=\"translate(25.36925 168.168031)scale(0.132 -0.132)\">\n       <use xlink:href=\"#ArialMT-48\"/>\n       <use x=\"55.615234\" xlink:href=\"#ArialMT-46\"/>\n       <use x=\"83.398438\" xlink:href=\"#ArialMT-54\"/>\n      </g>\n     </g>\n    </g>\n    <g id=\"ytick_5\">\n     <g id=\"line2d_31\">\n      <path clip-path=\"url(#p5f1c129267)\" d=\"M 53.71725 95.635625 \nL 500.11725 95.635625 \n\" style=\"fill:none;stroke:#cccccc;stroke-linecap:round;\"/>\n     </g>\n     <g id=\"line2d_32\">\n      <g>\n       <use style=\"fill:#262626;stroke:#262626;stroke-width:1.25;\" x=\"53.71725\" xlink:href=\"#m96477a03e1\" y=\"95.635625\"/>\n      </g>\n     </g>\n     <g id=\"line2d_33\">\n      <g>\n       <use style=\"fill:#262626;stroke:#262626;stroke-width:1.25;\" x=\"500.11725\" xlink:href=\"#m65f1bde1c2\" y=\"95.635625\"/>\n      </g>\n     </g>\n     <g id=\"text_12\">\n      <!-- 0.8 -->\n      <g style=\"fill:#262626;\" transform=\"translate(25.36925 99.048031)scale(0.132 -0.132)\">\n       <use xlink:href=\"#ArialMT-48\"/>\n       <use x=\"55.615234\" xlink:href=\"#ArialMT-46\"/>\n       <use x=\"83.398438\" xlink:href=\"#ArialMT-56\"/>\n      </g>\n     </g>\n    </g>\n    <g id=\"ytick_6\">\n     <g id=\"line2d_34\">\n      <path clip-path=\"url(#p5f1c129267)\" d=\"M 53.71725 26.515625 \nL 500.11725 26.515625 \n\" style=\"fill:none;stroke:#cccccc;stroke-linecap:round;\"/>\n     </g>\n     <g id=\"line2d_35\">\n      <g>\n       <use style=\"fill:#262626;stroke:#262626;stroke-width:1.25;\" x=\"53.71725\" xlink:href=\"#m96477a03e1\" y=\"26.515625\"/>\n      </g>\n     </g>\n     <g id=\"line2d_36\">\n      <g>\n       <use style=\"fill:#262626;stroke:#262626;stroke-width:1.25;\" x=\"500.11725\" xlink:href=\"#m65f1bde1c2\" y=\"26.515625\"/>\n      </g>\n     </g>\n     <g id=\"text_13\">\n      <!-- 1.0 -->\n      <g style=\"fill:#262626;\" transform=\"translate(25.36925 29.928031)scale(0.132 -0.132)\">\n       <use xlink:href=\"#ArialMT-49\"/>\n       <use x=\"55.615234\" xlink:href=\"#ArialMT-46\"/>\n       <use x=\"83.398438\" xlink:href=\"#ArialMT-48\"/>\n      </g>\n     </g>\n    </g>\n    <g id=\"text_14\">\n     <!-- True Positive Rate -->\n     <g style=\"fill:#262626;\" transform=\"translate(17.50725 258.26675)rotate(-90)scale(0.144 -0.144)\">\n      <defs>\n       <path d=\"M 25.921875 0 \nL 25.921875 63.140625 \nL 2.34375 63.140625 \nL 2.34375 71.578125 \nL 59.078125 71.578125 \nL 59.078125 63.140625 \nL 35.40625 63.140625 \nL 35.40625 0 \nz\n\" id=\"ArialMT-84\"/>\n       <path d=\"M 6.5 0 \nL 6.5 51.859375 \nL 14.40625 51.859375 \nL 14.40625 44 \nQ 17.4375 49.515625 20 51.265625 \nQ 22.5625 53.03125 25.640625 53.03125 \nQ 30.078125 53.03125 34.671875 50.203125 \nL 31.640625 42.046875 \nQ 28.421875 43.953125 25.203125 43.953125 \nQ 22.3125 43.953125 20.015625 42.21875 \nQ 17.71875 40.484375 16.75 37.40625 \nQ 15.28125 32.71875 15.28125 27.15625 \nL 15.28125 0 \nz\n\" id=\"ArialMT-114\"/>\n       <path d=\"M 40.578125 0 \nL 40.578125 7.625 \nQ 34.515625 -1.171875 24.125 -1.171875 \nQ 19.53125 -1.171875 15.546875 0.578125 \nQ 11.578125 2.34375 9.640625 5 \nQ 7.71875 7.671875 6.9375 11.53125 \nQ 6.390625 14.109375 6.390625 19.734375 \nL 6.390625 51.859375 \nL 15.1875 51.859375 \nL 15.1875 23.09375 \nQ 15.1875 16.21875 15.71875 13.8125 \nQ 16.546875 10.359375 19.234375 8.375 \nQ 21.921875 6.390625 25.875 6.390625 \nQ 29.828125 6.390625 33.296875 8.421875 \nQ 36.765625 10.453125 38.203125 13.9375 \nQ 39.65625 17.4375 39.65625 24.078125 \nL 39.65625 51.859375 \nL 48.4375 51.859375 \nL 48.4375 0 \nz\n\" id=\"ArialMT-117\"/>\n      </defs>\n      <use xlink:href=\"#ArialMT-84\"/>\n      <use x=\"57.333984\" xlink:href=\"#ArialMT-114\"/>\n      <use x=\"90.634766\" xlink:href=\"#ArialMT-117\"/>\n      <use x=\"146.25\" xlink:href=\"#ArialMT-101\"/>\n      <use x=\"201.865234\" xlink:href=\"#ArialMT-32\"/>\n      <use x=\"229.648438\" xlink:href=\"#ArialMT-80\"/>\n      <use x=\"296.347656\" xlink:href=\"#ArialMT-111\"/>\n      <use x=\"351.962891\" xlink:href=\"#ArialMT-115\"/>\n      <use x=\"401.962891\" xlink:href=\"#ArialMT-105\"/>\n      <use x=\"424.179688\" xlink:href=\"#ArialMT-116\"/>\n      <use x=\"451.962891\" xlink:href=\"#ArialMT-105\"/>\n      <use x=\"474.179688\" xlink:href=\"#ArialMT-118\"/>\n      <use x=\"524.179688\" xlink:href=\"#ArialMT-101\"/>\n      <use x=\"579.794922\" xlink:href=\"#ArialMT-32\"/>\n      <use x=\"607.578125\" xlink:href=\"#ArialMT-82\"/>\n      <use x=\"679.794922\" xlink:href=\"#ArialMT-97\"/>\n      <use x=\"735.410156\" xlink:href=\"#ArialMT-116\"/>\n      <use x=\"763.193359\" xlink:href=\"#ArialMT-101\"/>\n     </g>\n    </g>\n   </g>\n   <g id=\"line2d_37\">\n    <path clip-path=\"url(#p5f1c129267)\" d=\"M 53.71725 372.115625 \nL 53.71725 279.354889 \nL 54.43149 279.354889 \nL 54.43149 227.408877 \nL 55.14573 227.408877 \nL 55.14573 215.217465 \nL 55.85997 215.217465 \nL 55.85997 192.424827 \nL 57.28845 192.424827 \nL 57.28845 191.894766 \nL 58.71693 191.894766 \nL 58.71693 189.244459 \nL 59.43117 189.244459 \nL 59.43117 185.53403 \nL 60.14541 185.53403 \nL 60.14541 183.413785 \nL 60.85965 183.413785 \nL 60.85965 181.293539 \nL 61.57389 181.293539 \nL 61.57389 177.58311 \nL 63.00237 177.58311 \nL 63.00237 175.992926 \nL 63.71661 175.992926 \nL 63.71661 172.282496 \nL 64.43085 172.282496 \nL 64.43085 161.151208 \nL 65.14509 161.151208 \nL 65.14509 158.500901 \nL 66.57357 158.500901 \nL 66.57357 156.910717 \nL 68.00205 156.910717 \nL 68.00205 151.610104 \nL 68.71629 151.610104 \nL 68.71629 147.369613 \nL 69.43053 147.369613 \nL 69.43053 142.599061 \nL 71.57325 142.599061 \nL 71.57325 142.068999 \nL 73.00173 142.068999 \nL 73.00173 137.828508 \nL 73.71597 137.828508 \nL 73.71597 136.768386 \nL 74.43021 136.768386 \nL 74.43021 131.467772 \nL 75.85869 131.467772 \nL 75.85869 125.637097 \nL 76.57293 125.637097 \nL 76.57293 123.516852 \nL 77.28717 123.516852 \nL 77.28717 120.336484 \nL 78.00141 120.336484 \nL 78.00141 117.686177 \nL 78.71565 117.686177 \nL 78.71565 116.095993 \nL 79.42989 116.095993 \nL 79.42989 114.505809 \nL 80.14413 114.505809 \nL 80.14413 113.975748 \nL 81.57261 113.975748 \nL 81.57261 113.445686 \nL 82.28685 113.445686 \nL 82.28685 112.385564 \nL 83.00109 112.385564 \nL 83.00109 110.79538 \nL 84.42957 110.79538 \nL 84.42957 109.735257 \nL 85.85805 109.735257 \nL 85.85805 109.205196 \nL 87.28653 109.205196 \nL 87.28653 108.145073 \nL 88.00077 108.145073 \nL 88.00077 106.554889 \nL 89.42925 106.554889 \nL 89.42925 106.024827 \nL 90.14349 106.024827 \nL 90.14349 105.494766 \nL 92.28621 105.494766 \nL 92.28621 102.314398 \nL 93.71469 102.314398 \nL 93.71469 99.13403 \nL 94.42893 99.13403 \nL 94.42893 97.543846 \nL 95.14317 97.543846 \nL 95.14317 97.013785 \nL 95.85741 97.013785 \nL 95.85741 96.483723 \nL 97.28589 96.483723 \nL 97.28589 95.953662 \nL 98.00013 95.953662 \nL 98.00013 94.363478 \nL 98.71437 94.363478 \nL 98.71437 91.18311 \nL 99.42861 91.18311 \nL 99.42861 90.122987 \nL 100.14285 90.122987 \nL 100.14285 87.47268 \nL 100.85709 87.47268 \nL 100.85709 85.352435 \nL 102.28557 85.352435 \nL 102.28557 84.822373 \nL 102.99981 84.822373 \nL 102.99981 83.762251 \nL 103.71405 83.762251 \nL 104.42829 82.702128 \nL 104.42829 82.172067 \nL 105.85677 82.172067 \nL 105.85677 77.931576 \nL 107.28525 77.931576 \nL 107.28525 75.811331 \nL 107.99949 75.811331 \nL 107.99949 75.281269 \nL 108.71373 75.281269 \nL 108.71373 74.751208 \nL 110.14221 74.751208 \nL 110.14221 73.691085 \nL 110.85645 73.691085 \nL 110.85645 72.630962 \nL 112.99917 72.630962 \nL 112.99917 71.57084 \nL 114.42765 71.57084 \nL 114.42765 71.040778 \nL 117.28461 71.040778 \nL 117.28461 70.510717 \nL 118.71309 70.510717 \nL 118.71309 69.980656 \nL 119.42733 69.980656 \nL 119.42733 69.450594 \nL 121.57005 69.450594 \nL 121.57005 67.86041 \nL 122.99853 67.86041 \nL 122.99853 66.800288 \nL 123.71277 66.800288 \nL 123.71277 66.270226 \nL 124.42701 66.270226 \nL 124.42701 65.740165 \nL 127.28397 65.740165 \nL 127.28397 65.210104 \nL 127.99821 65.210104 \nL 127.99821 63.619919 \nL 130.85517 63.619919 \nL 130.85517 62.029735 \nL 132.99789 62.029735 \nL 132.99789 61.499674 \nL 133.71213 61.499674 \nL 133.71213 60.969613 \nL 135.14061 60.969613 \nL 135.14061 59.90949 \nL 135.85485 59.90949 \nL 135.85485 59.379429 \nL 137.28333 59.379429 \nL 137.28333 58.319306 \nL 140.14029 58.319306 \nL 140.14029 56.729122 \nL 141.56877 56.729122 \nL 141.56877 56.199061 \nL 142.28301 56.199061 \nL 142.28301 55.668999 \nL 142.99725 55.668999 \nL 142.99725 55.138938 \nL 144.42573 55.138938 \nL 144.42573 54.608877 \nL 146.56845 54.608877 \nL 146.56845 54.078815 \nL 147.28269 54.078815 \nL 147.28269 51.95857 \nL 148.71117 51.95857 \nL 148.71117 51.428508 \nL 150.13965 51.428508 \nL 150.13965 50.368386 \nL 150.85389 50.368386 \nL 150.85389 48.778202 \nL 153.71085 48.778202 \nL 153.71085 47.718079 \nL 154.42509 47.718079 \nL 154.42509 46.657956 \nL 155.13933 46.657956 \nL 155.13933 45.597834 \nL 155.85357 45.597834 \nL 155.85357 45.067772 \nL 159.42477 45.067772 \nL 159.42477 44.00765 \nL 162.28173 44.00765 \nL 162.28173 43.477588 \nL 164.42445 43.477588 \nL 164.42445 42.417465 \nL 165.13869 42.417465 \nL 165.13869 41.887404 \nL 167.28141 41.887404 \nL 167.28141 40.827281 \nL 167.99565 40.827281 \nL 167.99565 40.29722 \nL 169.42413 40.29722 \nL 169.42413 39.767159 \nL 170.85261 39.767159 \nL 170.85261 39.237097 \nL 172.28109 39.237097 \nL 172.28109 38.707036 \nL 179.42349 38.707036 \nL 179.42349 38.176975 \nL 182.28045 38.176975 \nL 182.28045 37.646913 \nL 183.70893 37.646913 \nL 183.70893 37.116852 \nL 187.28013 37.116852 \nL 187.28013 36.586791 \nL 193.70829 36.586791 \nL 193.70829 36.056729 \nL 200.13645 36.056729 \nL 200.13645 35.526668 \nL 207.99309 35.526668 \nL 207.99309 34.996607 \nL 210.85005 34.996607 \nL 210.85005 34.466545 \nL 220.84941 34.466545 \nL 220.84941 33.936484 \nL 222.27789 33.936484 \nL 222.27789 33.406423 \nL 230.13453 33.406423 \nL 230.13453 32.876361 \nL 232.99149 32.876361 \nL 232.99149 32.3463 \nL 235.84845 32.3463 \nL 235.84845 31.816238 \nL 238.70541 31.816238 \nL 238.70541 31.286177 \nL 239.41965 31.286177 \nL 239.41965 30.756116 \nL 277.27437 30.756116 \nL 277.27437 30.226054 \nL 282.98829 30.226054 \nL 282.98829 29.695993 \nL 295.84461 29.695993 \nL 295.84461 29.165932 \nL 313.70061 29.165932 \nL 313.70061 28.63587 \nL 355.84077 28.63587 \nL 355.84077 28.105809 \nL 381.55341 28.105809 \nL 381.55341 27.575748 \nL 420.12237 27.575748 \nL 420.12237 27.045686 \nL 465.83373 27.045686 \nL 465.83373 26.515625 \nL 500.11725 26.515625 \nL 500.11725 26.515625 \n\" style=\"fill:none;stroke:#0000ff;stroke-linecap:round;stroke-width:1.5;\"/>\n   </g>\n   <g id=\"line2d_38\">\n    <path clip-path=\"url(#p5f1c129267)\" d=\"M 53.71725 372.115625 \nL 500.11725 26.515625 \n\" style=\"fill:none;stroke:#008000;stroke-dasharray:6,6;stroke-dashoffset:0;stroke-width:1.5;\"/>\n   </g>\n   <g id=\"patch_3\">\n    <path d=\"M 53.71725 372.115625 \nL 53.71725 26.515625 \n\" style=\"fill:none;stroke:#cccccc;stroke-linecap:square;stroke-linejoin:miter;stroke-width:1.25;\"/>\n   </g>\n   <g id=\"patch_4\">\n    <path d=\"M 500.11725 372.115625 \nL 500.11725 26.515625 \n\" style=\"fill:none;stroke:#cccccc;stroke-linecap:square;stroke-linejoin:miter;stroke-width:1.25;\"/>\n   </g>\n   <g id=\"patch_5\">\n    <path d=\"M 53.71725 372.115625 \nL 500.11725 372.115625 \n\" style=\"fill:none;stroke:#cccccc;stroke-linecap:square;stroke-linejoin:miter;stroke-width:1.25;\"/>\n   </g>\n   <g id=\"patch_6\">\n    <path d=\"M 53.71725 26.515625 \nL 500.11725 26.515625 \n\" style=\"fill:none;stroke:#cccccc;stroke-linecap:square;stroke-linejoin:miter;stroke-width:1.25;\"/>\n   </g>\n   <g id=\"text_15\">\n    <!-- ROC Curve -->\n    <g style=\"fill:#262626;\" transform=\"translate(225.243812 21.515625)scale(0.2 -0.2)\">\n     <defs>\n      <path d=\"M 4.828125 34.859375 \nQ 4.828125 52.6875 14.390625 62.765625 \nQ 23.96875 72.859375 39.109375 72.859375 \nQ 49.03125 72.859375 56.984375 68.109375 \nQ 64.9375 63.375 69.109375 54.90625 \nQ 73.296875 46.4375 73.296875 35.6875 \nQ 73.296875 24.8125 68.890625 16.21875 \nQ 64.5 7.625 56.4375 3.203125 \nQ 48.390625 -1.21875 39.0625 -1.21875 \nQ 28.953125 -1.21875 20.984375 3.65625 \nQ 13.03125 8.546875 8.921875 16.984375 \nQ 4.828125 25.4375 4.828125 34.859375 \nz\nM 14.59375 34.71875 \nQ 14.59375 21.78125 21.546875 14.328125 \nQ 28.515625 6.890625 39.015625 6.890625 \nQ 49.703125 6.890625 56.609375 14.40625 \nQ 63.53125 21.921875 63.53125 35.75 \nQ 63.53125 44.484375 60.578125 51 \nQ 57.625 57.515625 51.921875 61.109375 \nQ 46.234375 64.703125 39.15625 64.703125 \nQ 29.109375 64.703125 21.84375 57.78125 \nQ 14.59375 50.875 14.59375 34.71875 \nz\n\" id=\"ArialMT-79\"/>\n      <path d=\"M 58.796875 25.09375 \nL 68.265625 22.703125 \nQ 65.28125 11.03125 57.546875 4.90625 \nQ 49.8125 -1.21875 38.625 -1.21875 \nQ 27.046875 -1.21875 19.796875 3.484375 \nQ 12.546875 8.203125 8.765625 17.140625 \nQ 4.984375 26.078125 4.984375 36.328125 \nQ 4.984375 47.515625 9.25 55.828125 \nQ 13.53125 64.15625 21.40625 68.46875 \nQ 29.296875 72.796875 38.765625 72.796875 \nQ 49.515625 72.796875 56.828125 67.328125 \nQ 64.15625 61.859375 67.046875 51.953125 \nL 57.71875 49.75 \nQ 55.21875 57.5625 50.484375 61.125 \nQ 45.75 64.703125 38.578125 64.703125 \nQ 30.328125 64.703125 24.78125 60.734375 \nQ 19.234375 56.78125 16.984375 50.109375 \nQ 14.75 43.453125 14.75 36.375 \nQ 14.75 27.25 17.40625 20.4375 \nQ 20.0625 13.625 25.671875 10.25 \nQ 31.296875 6.890625 37.84375 6.890625 \nQ 45.796875 6.890625 51.3125 11.46875 \nQ 56.84375 16.0625 58.796875 25.09375 \nz\n\" id=\"ArialMT-67\"/>\n     </defs>\n     <use xlink:href=\"#ArialMT-82\"/>\n     <use x=\"72.216797\" xlink:href=\"#ArialMT-79\"/>\n     <use x=\"150\" xlink:href=\"#ArialMT-67\"/>\n     <use x=\"222.216797\" xlink:href=\"#ArialMT-32\"/>\n     <use x=\"250\" xlink:href=\"#ArialMT-67\"/>\n     <use x=\"322.216797\" xlink:href=\"#ArialMT-117\"/>\n     <use x=\"377.832031\" xlink:href=\"#ArialMT-114\"/>\n     <use x=\"411.132812\" xlink:href=\"#ArialMT-118\"/>\n     <use x=\"461.132812\" xlink:href=\"#ArialMT-101\"/>\n    </g>\n   </g>\n   <g id=\"legend_1\">\n    <g id=\"line2d_39\">\n     <path d=\"M 285.12225 43.384812 \nL 311.52225 43.384812 \n\" style=\"fill:none;stroke:#0000ff;stroke-linecap:round;stroke-width:1.5;\"/>\n    </g>\n    <g id=\"line2d_40\"/>\n    <g id=\"text_16\">\n     <!-- GridSearchCV (AUC = 0.94) -->\n     <g style=\"fill:#262626;\" transform=\"translate(322.08225 48.004812)scale(0.132 -0.132)\">\n      <defs>\n       <path d=\"M 41.21875 28.078125 \nL 41.21875 36.46875 \nL 71.53125 36.53125 \nL 71.53125 9.96875 \nQ 64.546875 4.390625 57.125 1.578125 \nQ 49.703125 -1.21875 41.890625 -1.21875 \nQ 31.34375 -1.21875 22.71875 3.296875 \nQ 14.109375 7.8125 9.71875 16.359375 \nQ 5.328125 24.90625 5.328125 35.453125 \nQ 5.328125 45.90625 9.6875 54.953125 \nQ 14.0625 64.015625 22.265625 68.40625 \nQ 30.46875 72.796875 41.15625 72.796875 \nQ 48.921875 72.796875 55.1875 70.28125 \nQ 61.46875 67.78125 65.03125 63.28125 \nQ 68.609375 58.796875 70.453125 51.5625 \nL 61.921875 49.21875 \nQ 60.296875 54.6875 57.90625 57.8125 \nQ 55.515625 60.9375 51.0625 62.8125 \nQ 46.625 64.703125 41.21875 64.703125 \nQ 34.71875 64.703125 29.984375 62.71875 \nQ 25.25 60.75 22.34375 57.515625 \nQ 19.4375 54.296875 17.828125 50.4375 \nQ 15.09375 43.796875 15.09375 36.03125 \nQ 15.09375 26.46875 18.390625 20.015625 \nQ 21.6875 13.578125 27.984375 10.453125 \nQ 34.28125 7.328125 41.359375 7.328125 \nQ 47.515625 7.328125 53.375 9.6875 \nQ 59.234375 12.0625 62.25 14.75 \nL 62.25 28.078125 \nz\n\" id=\"ArialMT-71\"/>\n       <path d=\"M 40.234375 0 \nL 40.234375 6.546875 \nQ 35.296875 -1.171875 25.734375 -1.171875 \nQ 19.53125 -1.171875 14.328125 2.25 \nQ 9.125 5.671875 6.265625 11.796875 \nQ 3.421875 17.921875 3.421875 25.875 \nQ 3.421875 33.640625 6 39.96875 \nQ 8.59375 46.296875 13.765625 49.65625 \nQ 18.953125 53.03125 25.34375 53.03125 \nQ 30.03125 53.03125 33.6875 51.046875 \nQ 37.359375 49.078125 39.65625 45.90625 \nL 39.65625 71.578125 \nL 48.390625 71.578125 \nL 48.390625 0 \nz\nM 12.453125 25.875 \nQ 12.453125 15.921875 16.640625 10.984375 \nQ 20.84375 6.0625 26.5625 6.0625 \nQ 32.328125 6.0625 36.34375 10.765625 \nQ 40.375 15.484375 40.375 25.140625 \nQ 40.375 35.796875 36.265625 40.765625 \nQ 32.171875 45.75 26.171875 45.75 \nQ 20.3125 45.75 16.375 40.96875 \nQ 12.453125 36.1875 12.453125 25.875 \nz\n\" id=\"ArialMT-100\"/>\n       <path d=\"M 4.5 23 \nL 13.421875 23.78125 \nQ 14.0625 18.40625 16.375 14.96875 \nQ 18.703125 11.53125 23.578125 9.40625 \nQ 28.46875 7.28125 34.578125 7.28125 \nQ 39.984375 7.28125 44.140625 8.890625 \nQ 48.296875 10.5 50.3125 13.296875 \nQ 52.34375 16.109375 52.34375 19.4375 \nQ 52.34375 22.796875 50.390625 25.3125 \nQ 48.4375 27.828125 43.953125 29.546875 \nQ 41.0625 30.671875 31.203125 33.03125 \nQ 21.34375 35.40625 17.390625 37.5 \nQ 12.25 40.1875 9.734375 44.15625 \nQ 7.234375 48.140625 7.234375 53.078125 \nQ 7.234375 58.5 10.296875 63.203125 \nQ 13.375 67.921875 19.28125 70.359375 \nQ 25.203125 72.796875 32.421875 72.796875 \nQ 40.375 72.796875 46.453125 70.234375 \nQ 52.546875 67.671875 55.8125 62.6875 \nQ 59.078125 57.71875 59.328125 51.421875 \nL 50.25 50.734375 \nQ 49.515625 57.515625 45.28125 60.984375 \nQ 41.0625 64.453125 32.8125 64.453125 \nQ 24.21875 64.453125 20.28125 61.296875 \nQ 16.359375 58.15625 16.359375 53.71875 \nQ 16.359375 49.859375 19.140625 47.359375 \nQ 21.875 44.875 33.421875 42.265625 \nQ 44.96875 39.65625 49.265625 37.703125 \nQ 55.515625 34.8125 58.484375 30.390625 \nQ 61.46875 25.984375 61.46875 20.21875 \nQ 61.46875 14.5 58.203125 9.4375 \nQ 54.9375 4.390625 48.796875 1.578125 \nQ 42.671875 -1.21875 35.015625 -1.21875 \nQ 25.296875 -1.21875 18.71875 1.609375 \nQ 12.15625 4.4375 8.421875 10.125 \nQ 4.6875 15.828125 4.5 23 \nz\n\" id=\"ArialMT-83\"/>\n       <path d=\"M 40.4375 19 \nL 49.078125 17.875 \nQ 47.65625 8.9375 41.8125 3.875 \nQ 35.984375 -1.171875 27.484375 -1.171875 \nQ 16.84375 -1.171875 10.375 5.78125 \nQ 3.90625 12.75 3.90625 25.734375 \nQ 3.90625 34.125 6.6875 40.421875 \nQ 9.46875 46.734375 15.15625 49.875 \nQ 20.84375 53.03125 27.546875 53.03125 \nQ 35.984375 53.03125 41.359375 48.75 \nQ 46.734375 44.484375 48.25 36.625 \nL 39.703125 35.296875 \nQ 38.484375 40.53125 35.375 43.15625 \nQ 32.28125 45.796875 27.875 45.796875 \nQ 21.234375 45.796875 17.078125 41.03125 \nQ 12.9375 36.28125 12.9375 25.984375 \nQ 12.9375 15.53125 16.9375 10.796875 \nQ 20.953125 6.0625 27.390625 6.0625 \nQ 32.5625 6.0625 36.03125 9.234375 \nQ 39.5 12.40625 40.4375 19 \nz\n\" id=\"ArialMT-99\"/>\n       <path d=\"M 6.59375 0 \nL 6.59375 71.578125 \nL 15.375 71.578125 \nL 15.375 45.90625 \nQ 21.53125 53.03125 30.90625 53.03125 \nQ 36.671875 53.03125 40.921875 50.75 \nQ 45.171875 48.484375 47 44.484375 \nQ 48.828125 40.484375 48.828125 32.859375 \nL 48.828125 0 \nL 40.046875 0 \nL 40.046875 32.859375 \nQ 40.046875 39.453125 37.1875 42.453125 \nQ 34.328125 45.453125 29.109375 45.453125 \nQ 25.203125 45.453125 21.75 43.421875 \nQ 18.3125 41.40625 16.84375 37.9375 \nQ 15.375 34.46875 15.375 28.375 \nL 15.375 0 \nz\n\" id=\"ArialMT-104\"/>\n       <path d=\"M 28.171875 0 \nL 0.4375 71.578125 \nL 10.6875 71.578125 \nL 29.296875 19.578125 \nQ 31.546875 13.328125 33.0625 7.859375 \nQ 34.71875 13.71875 36.921875 19.578125 \nL 56.25 71.578125 \nL 65.921875 71.578125 \nL 37.890625 0 \nz\n\" id=\"ArialMT-86\"/>\n       <path d=\"M 23.390625 -21.046875 \nQ 16.109375 -11.859375 11.078125 0.4375 \nQ 6.0625 12.75 6.0625 25.921875 \nQ 6.0625 37.546875 9.8125 48.1875 \nQ 14.203125 60.546875 23.390625 72.796875 \nL 29.6875 72.796875 \nQ 23.78125 62.640625 21.875 58.296875 \nQ 18.890625 51.5625 17.1875 44.234375 \nQ 15.09375 35.109375 15.09375 25.875 \nQ 15.09375 2.390625 29.6875 -21.046875 \nz\n\" id=\"ArialMT-40\"/>\n       <path d=\"M -0.140625 0 \nL 27.34375 71.578125 \nL 37.546875 71.578125 \nL 66.84375 0 \nL 56.0625 0 \nL 47.703125 21.6875 \nL 17.78125 21.6875 \nL 9.90625 0 \nz\nM 20.515625 29.390625 \nL 44.78125 29.390625 \nL 37.3125 49.21875 \nQ 33.890625 58.25 32.234375 64.0625 \nQ 30.859375 57.171875 28.375 50.390625 \nz\n\" id=\"ArialMT-65\"/>\n       <path d=\"M 54.6875 71.578125 \nL 64.15625 71.578125 \nL 64.15625 30.21875 \nQ 64.15625 19.4375 61.71875 13.078125 \nQ 59.28125 6.734375 52.90625 2.75 \nQ 46.53125 -1.21875 36.1875 -1.21875 \nQ 26.125 -1.21875 19.71875 2.25 \nQ 13.328125 5.71875 10.59375 12.28125 \nQ 7.859375 18.84375 7.859375 30.21875 \nL 7.859375 71.578125 \nL 17.328125 71.578125 \nL 17.328125 30.28125 \nQ 17.328125 20.953125 19.0625 16.53125 \nQ 20.796875 12.109375 25.015625 9.71875 \nQ 29.25 7.328125 35.359375 7.328125 \nQ 45.796875 7.328125 50.234375 12.0625 \nQ 54.6875 16.796875 54.6875 30.28125 \nz\n\" id=\"ArialMT-85\"/>\n       <path d=\"M 52.828125 42.09375 \nL 5.5625 42.09375 \nL 5.5625 50.296875 \nL 52.828125 50.296875 \nz\nM 52.828125 20.359375 \nL 5.5625 20.359375 \nL 5.5625 28.5625 \nL 52.828125 28.5625 \nz\n\" id=\"ArialMT-61\"/>\n       <path d=\"M 5.46875 16.546875 \nL 13.921875 17.328125 \nQ 14.984375 11.375 18.015625 8.6875 \nQ 21.046875 6 25.78125 6 \nQ 29.828125 6 32.875 7.859375 \nQ 35.9375 9.71875 37.890625 12.8125 \nQ 39.84375 15.921875 41.15625 21.1875 \nQ 42.484375 26.46875 42.484375 31.9375 \nQ 42.484375 32.515625 42.4375 33.6875 \nQ 39.796875 29.5 35.234375 26.875 \nQ 30.671875 24.265625 25.34375 24.265625 \nQ 16.453125 24.265625 10.296875 30.703125 \nQ 4.15625 37.15625 4.15625 47.703125 \nQ 4.15625 58.59375 10.578125 65.234375 \nQ 17 71.875 26.65625 71.875 \nQ 33.640625 71.875 39.421875 68.109375 \nQ 45.21875 64.359375 48.21875 57.390625 \nQ 51.21875 50.4375 51.21875 37.25 \nQ 51.21875 23.53125 48.234375 15.40625 \nQ 45.265625 7.28125 39.375 3.03125 \nQ 33.5 -1.21875 25.59375 -1.21875 \nQ 17.1875 -1.21875 11.859375 3.4375 \nQ 6.546875 8.109375 5.46875 16.546875 \nz\nM 41.453125 48.140625 \nQ 41.453125 55.71875 37.421875 60.15625 \nQ 33.40625 64.59375 27.734375 64.59375 \nQ 21.875 64.59375 17.53125 59.8125 \nQ 13.1875 55.03125 13.1875 47.40625 \nQ 13.1875 40.578125 17.3125 36.296875 \nQ 21.4375 32.03125 27.484375 32.03125 \nQ 33.59375 32.03125 37.515625 36.296875 \nQ 41.453125 40.578125 41.453125 48.140625 \nz\n\" id=\"ArialMT-57\"/>\n       <path d=\"M 12.359375 -21.046875 \nL 6.0625 -21.046875 \nQ 20.65625 2.390625 20.65625 25.875 \nQ 20.65625 35.0625 18.5625 44.09375 \nQ 16.890625 51.421875 13.921875 58.15625 \nQ 12.015625 62.546875 6.0625 72.796875 \nL 12.359375 72.796875 \nQ 21.53125 60.546875 25.921875 48.1875 \nQ 29.6875 37.546875 29.6875 25.921875 \nQ 29.6875 12.75 24.625 0.4375 \nQ 19.578125 -11.859375 12.359375 -21.046875 \nz\n\" id=\"ArialMT-41\"/>\n      </defs>\n      <use xlink:href=\"#ArialMT-71\"/>\n      <use x=\"77.783203\" xlink:href=\"#ArialMT-114\"/>\n      <use x=\"111.083984\" xlink:href=\"#ArialMT-105\"/>\n      <use x=\"133.300781\" xlink:href=\"#ArialMT-100\"/>\n      <use x=\"188.916016\" xlink:href=\"#ArialMT-83\"/>\n      <use x=\"255.615234\" xlink:href=\"#ArialMT-101\"/>\n      <use x=\"311.230469\" xlink:href=\"#ArialMT-97\"/>\n      <use x=\"366.845703\" xlink:href=\"#ArialMT-114\"/>\n      <use x=\"400.146484\" xlink:href=\"#ArialMT-99\"/>\n      <use x=\"450.146484\" xlink:href=\"#ArialMT-104\"/>\n      <use x=\"505.761719\" xlink:href=\"#ArialMT-67\"/>\n      <use x=\"577.978516\" xlink:href=\"#ArialMT-86\"/>\n      <use x=\"644.677734\" xlink:href=\"#ArialMT-32\"/>\n      <use x=\"672.460938\" xlink:href=\"#ArialMT-40\"/>\n      <use x=\"705.761719\" xlink:href=\"#ArialMT-65\"/>\n      <use x=\"772.460938\" xlink:href=\"#ArialMT-85\"/>\n      <use x=\"844.677734\" xlink:href=\"#ArialMT-67\"/>\n      <use x=\"916.894531\" xlink:href=\"#ArialMT-32\"/>\n      <use x=\"944.677734\" xlink:href=\"#ArialMT-61\"/>\n      <use x=\"1003.076172\" xlink:href=\"#ArialMT-32\"/>\n      <use x=\"1030.859375\" xlink:href=\"#ArialMT-48\"/>\n      <use x=\"1086.474609\" xlink:href=\"#ArialMT-46\"/>\n      <use x=\"1114.257812\" xlink:href=\"#ArialMT-57\"/>\n      <use x=\"1169.873047\" xlink:href=\"#ArialMT-52\"/>\n      <use x=\"1225.488281\" xlink:href=\"#ArialMT-41\"/>\n     </g>\n    </g>\n    <g id=\"line2d_41\">\n     <path d=\"M 285.12225 62.211312 \nL 311.52225 62.211312 \n\" style=\"fill:none;stroke:#008000;stroke-dasharray:6,6;stroke-dashoffset:0;stroke-width:1.5;\"/>\n    </g>\n    <g id=\"line2d_42\"/>\n    <g id=\"text_17\">\n     <!-- baseline -->\n     <g style=\"fill:#262626;\" transform=\"translate(322.08225 66.831312)scale(0.132 -0.132)\">\n      <defs>\n       <path d=\"M 14.703125 0 \nL 6.546875 0 \nL 6.546875 71.578125 \nL 15.328125 71.578125 \nL 15.328125 46.046875 \nQ 20.90625 53.03125 29.546875 53.03125 \nQ 34.328125 53.03125 38.59375 51.09375 \nQ 42.875 49.171875 45.625 45.671875 \nQ 48.390625 42.1875 49.953125 37.25 \nQ 51.515625 32.328125 51.515625 26.703125 \nQ 51.515625 13.375 44.921875 6.09375 \nQ 38.328125 -1.171875 29.109375 -1.171875 \nQ 19.921875 -1.171875 14.703125 6.5 \nz\nM 14.59375 26.3125 \nQ 14.59375 17 17.140625 12.84375 \nQ 21.296875 6.0625 28.375 6.0625 \nQ 34.125 6.0625 38.328125 11.0625 \nQ 42.53125 16.0625 42.53125 25.984375 \nQ 42.53125 36.140625 38.5 40.96875 \nQ 34.46875 45.796875 28.765625 45.796875 \nQ 23 45.796875 18.796875 40.796875 \nQ 14.59375 35.796875 14.59375 26.3125 \nz\n\" id=\"ArialMT-98\"/>\n       <path d=\"M 6.59375 0 \nL 6.59375 51.859375 \nL 14.5 51.859375 \nL 14.5 44.484375 \nQ 20.21875 53.03125 31 53.03125 \nQ 35.6875 53.03125 39.625 51.34375 \nQ 43.5625 49.65625 45.515625 46.921875 \nQ 47.46875 44.1875 48.25 40.4375 \nQ 48.734375 37.984375 48.734375 31.890625 \nL 48.734375 0 \nL 39.9375 0 \nL 39.9375 31.546875 \nQ 39.9375 36.921875 38.90625 39.578125 \nQ 37.890625 42.234375 35.28125 43.8125 \nQ 32.671875 45.40625 29.15625 45.40625 \nQ 23.53125 45.40625 19.453125 41.84375 \nQ 15.375 38.28125 15.375 28.328125 \nL 15.375 0 \nz\n\" id=\"ArialMT-110\"/>\n      </defs>\n      <use xlink:href=\"#ArialMT-98\"/>\n      <use x=\"55.615234\" xlink:href=\"#ArialMT-97\"/>\n      <use x=\"111.230469\" xlink:href=\"#ArialMT-115\"/>\n      <use x=\"161.230469\" xlink:href=\"#ArialMT-101\"/>\n      <use x=\"216.845703\" xlink:href=\"#ArialMT-108\"/>\n      <use x=\"239.0625\" xlink:href=\"#ArialMT-105\"/>\n      <use x=\"261.279297\" xlink:href=\"#ArialMT-110\"/>\n      <use x=\"316.894531\" xlink:href=\"#ArialMT-101\"/>\n     </g>\n    </g>\n   </g>\n  </g>\n </g>\n <defs>\n  <clipPath id=\"p5f1c129267\">\n   <rect height=\"345.6\" width=\"446.4\" x=\"53.71725\" y=\"26.515625\"/>\n  </clipPath>\n </defs>\n</svg>\n",
      "image/png": "[encoded data removed]"
     },
     "metadata": {}
    }
   ],
   "source": [
    "plot_roc_curve(gs, X_test, y_test)\n",
    "plt.plot([0, 1], [0, 1],\n",
    "         label='baseline', linestyle='--')\n",
    "plt.title('ROC Curve', size=20)\n",
    "plt.legend()\n",
    "plt.show()"
   ]
  },
  {
   "source": [
    "#### Top words for prediction\n",
    "The most useful words for prediction to the model are mainly brand related words. "
   ],
   "cell_type": "markdown",
   "metadata": {}
  },
  {
   "cell_type": "code",
   "execution_count": 404,
   "metadata": {},
   "outputs": [
    {
     "output_type": "execute_result",
     "data": {
      "text/plain": [
       "                   coef\n",
       "nest          -6.544811\n",
       "mini          -6.092967\n",
       "assistant     -4.294799\n",
       "hub           -3.599369\n",
       "chromecast    -3.220855\n",
       "speaker       -2.715176\n",
       "hey           -2.525673\n",
       "gh            -2.374119\n",
       "nest hub      -2.172065\n",
       "max           -2.023757\n",
       "youtube music -1.881740\n",
       "lenovo        -1.852987\n",
       "cast          -1.804694\n",
       "app           -1.796699\n",
       "ge            -1.679399\n",
       "nest mini     -1.632600\n",
       "ok            -1.522185\n",
       "nest audio    -1.439015\n",
       "smart         -1.366795\n",
       "youtube       -1.317705"
      ],
      "text/html": "<div>\n<style scoped>\n    .dataframe tbody tr th:only-of-type {\n        vertical-align: middle;\n    }\n\n    .dataframe tbody tr th {\n        vertical-align: top;\n    }\n\n    .dataframe thead th {\n        text-align: right;\n    }\n</style>\n<table border=\"1\" class=\"dataframe\">\n  <thead>\n    <tr style=\"text-align: right;\">\n      <th></th>\n      <th>coef</th>\n    </tr>\n  </thead>\n  <tbody>\n    <tr>\n      <th>nest</th>\n      <td>-6.544811</td>\n    </tr>\n    <tr>\n      <th>mini</th>\n      <td>-6.092967</td>\n    </tr>\n    <tr>\n      <th>assistant</th>\n      <td>-4.294799</td>\n    </tr>\n    <tr>\n      <th>hub</th>\n      <td>-3.599369</td>\n    </tr>\n    <tr>\n      <th>chromecast</th>\n      <td>-3.220855</td>\n    </tr>\n    <tr>\n      <th>speaker</th>\n      <td>-2.715176</td>\n    </tr>\n    <tr>\n      <th>hey</th>\n      <td>-2.525673</td>\n    </tr>\n    <tr>\n      <th>gh</th>\n      <td>-2.374119</td>\n    </tr>\n    <tr>\n      <th>nest hub</th>\n      <td>-2.172065</td>\n    </tr>\n    <tr>\n      <th>max</th>\n      <td>-2.023757</td>\n    </tr>\n    <tr>\n      <th>youtube music</th>\n      <td>-1.881740</td>\n    </tr>\n    <tr>\n      <th>lenovo</th>\n      <td>-1.852987</td>\n    </tr>\n    <tr>\n      <th>cast</th>\n      <td>-1.804694</td>\n    </tr>\n    <tr>\n      <th>app</th>\n      <td>-1.796699</td>\n    </tr>\n    <tr>\n      <th>ge</th>\n      <td>-1.679399</td>\n    </tr>\n    <tr>\n      <th>nest mini</th>\n      <td>-1.632600</td>\n    </tr>\n    <tr>\n      <th>ok</th>\n      <td>-1.522185</td>\n    </tr>\n    <tr>\n      <th>nest audio</th>\n      <td>-1.439015</td>\n    </tr>\n    <tr>\n      <th>smart</th>\n      <td>-1.366795</td>\n    </tr>\n    <tr>\n      <th>youtube</th>\n      <td>-1.317705</td>\n    </tr>\n  </tbody>\n</table>\n</div>"
     },
     "metadata": {},
     "execution_count": 404
    }
   ],
   "source": [
    "coef_tvec.sort_values('coef', ascending=True).head(20)"
   ]
  },
  {
   "cell_type": "code",
   "execution_count": 307,
   "metadata": {},
   "outputs": [],
   "source": [
    "df_test = pd.DataFrame(y_test)\n",
    "df_preds = pd.DataFrame(preds, index=y_test.index)\n",
    "df_best_model = pd.concat([df_test, df_preds], axis=1)\n",
    "df_best_model.rename(columns={'subreddit': 'actual', 0: 'preds'}, inplace=True)"
   ]
  },
  {
   "cell_type": "code",
   "execution_count": 405,
   "metadata": {},
   "outputs": [
    {
     "output_type": "execute_result",
     "data": {
      "text/plain": [
       "                 coef\n",
       "alexa       11.539101\n",
       "dot          7.519150\n",
       "skill        3.208561\n",
       "gen          3.113916\n",
       "studio       2.933709\n",
       "alexa app    2.663119\n",
       "prime        1.855174\n",
       "4th          1.835845\n",
       "bud          1.573177\n",
       "ring         1.526353\n",
       "zigbee       1.507047\n",
       "4th gen      1.503479\n",
       "ask alexa    1.490101\n",
       "screen       1.461304\n",
       "cube         1.448377\n",
       "alexa play   1.407310\n",
       "auto         1.399702\n",
       "flex         1.379938\n",
       "say alexa    1.367021\n",
       "want         1.316330"
      ],
      "text/html": "<div>\n<style scoped>\n    .dataframe tbody tr th:only-of-type {\n        vertical-align: middle;\n    }\n\n    .dataframe tbody tr th {\n        vertical-align: top;\n    }\n\n    .dataframe thead th {\n        text-align: right;\n    }\n</style>\n<table border=\"1\" class=\"dataframe\">\n  <thead>\n    <tr style=\"text-align: right;\">\n      <th></th>\n      <th>coef</th>\n    </tr>\n  </thead>\n  <tbody>\n    <tr>\n      <th>alexa</th>\n      <td>11.539101</td>\n    </tr>\n    <tr>\n      <th>dot</th>\n      <td>7.519150</td>\n    </tr>\n    <tr>\n      <th>skill</th>\n      <td>3.208561</td>\n    </tr>\n    <tr>\n      <th>gen</th>\n      <td>3.113916</td>\n    </tr>\n    <tr>\n      <th>studio</th>\n      <td>2.933709</td>\n    </tr>\n    <tr>\n      <th>alexa app</th>\n      <td>2.663119</td>\n    </tr>\n    <tr>\n      <th>prime</th>\n      <td>1.855174</td>\n    </tr>\n    <tr>\n      <th>4th</th>\n      <td>1.835845</td>\n    </tr>\n    <tr>\n      <th>bud</th>\n      <td>1.573177</td>\n    </tr>\n    <tr>\n      <th>ring</th>\n      <td>1.526353</td>\n    </tr>\n    <tr>\n      <th>zigbee</th>\n      <td>1.507047</td>\n    </tr>\n    <tr>\n      <th>4th gen</th>\n      <td>1.503479</td>\n    </tr>\n    <tr>\n      <th>ask alexa</th>\n      <td>1.490101</td>\n    </tr>\n    <tr>\n      <th>screen</th>\n      <td>1.461304</td>\n    </tr>\n    <tr>\n      <th>cube</th>\n      <td>1.448377</td>\n    </tr>\n    <tr>\n      <th>alexa play</th>\n      <td>1.407310</td>\n    </tr>\n    <tr>\n      <th>auto</th>\n      <td>1.399702</td>\n    </tr>\n    <tr>\n      <th>flex</th>\n      <td>1.379938</td>\n    </tr>\n    <tr>\n      <th>say alexa</th>\n      <td>1.367021</td>\n    </tr>\n    <tr>\n      <th>want</th>\n      <td>1.316330</td>\n    </tr>\n  </tbody>\n</table>\n</div>"
     },
     "metadata": {},
     "execution_count": 405
    }
   ],
   "source": [
    "coef_tvec.sort_values('coef', ascending=False).head(20)"
   ]
  },
  {
   "source": [
    "#### Examining misclassified posts"
   ],
   "cell_type": "markdown",
   "metadata": {}
  },
  {
   "cell_type": "code",
   "execution_count": 316,
   "metadata": {},
   "outputs": [
    {
     "output_type": "execute_result",
     "data": {
      "text/plain": [
       "      actual  preds  wrong\n",
       "3625       1      0      1\n",
       "4669       1      0      1\n",
       "4326       1      0      1\n",
       "3224       1      0      1\n",
       "1408       0      1      1\n",
       "50         0      1      1\n",
       "5070       1      0      1\n",
       "2328       0      1      1\n",
       "475        0      1      1\n",
       "784        0      1      1\n",
       "2629       1      0      1\n",
       "2659       1      0      1\n",
       "3371       1      0      1\n",
       "2122       0      1      1\n",
       "1051       0      1      1\n",
       "2141       0      1      1\n",
       "1168       0      1      1\n",
       "4027       1      0      1\n",
       "959        0      1      1\n",
       "264        0      1      1"
      ],
      "text/html": "<div>\n<style scoped>\n    .dataframe tbody tr th:only-of-type {\n        vertical-align: middle;\n    }\n\n    .dataframe tbody tr th {\n        vertical-align: top;\n    }\n\n    .dataframe thead th {\n        text-align: right;\n    }\n</style>\n<table border=\"1\" class=\"dataframe\">\n  <thead>\n    <tr style=\"text-align: right;\">\n      <th></th>\n      <th>actual</th>\n      <th>preds</th>\n      <th>wrong</th>\n    </tr>\n  </thead>\n  <tbody>\n    <tr>\n      <th>3625</th>\n      <td>1</td>\n      <td>0</td>\n      <td>1</td>\n    </tr>\n    <tr>\n      <th>4669</th>\n      <td>1</td>\n      <td>0</td>\n      <td>1</td>\n    </tr>\n    <tr>\n      <th>4326</th>\n      <td>1</td>\n      <td>0</td>\n      <td>1</td>\n    </tr>\n    <tr>\n      <th>3224</th>\n      <td>1</td>\n      <td>0</td>\n      <td>1</td>\n    </tr>\n    <tr>\n      <th>1408</th>\n      <td>0</td>\n      <td>1</td>\n      <td>1</td>\n    </tr>\n    <tr>\n      <th>50</th>\n      <td>0</td>\n      <td>1</td>\n      <td>1</td>\n    </tr>\n    <tr>\n      <th>5070</th>\n      <td>1</td>\n      <td>0</td>\n      <td>1</td>\n    </tr>\n    <tr>\n      <th>2328</th>\n      <td>0</td>\n      <td>1</td>\n      <td>1</td>\n    </tr>\n    <tr>\n      <th>475</th>\n      <td>0</td>\n      <td>1</td>\n      <td>1</td>\n    </tr>\n    <tr>\n      <th>784</th>\n      <td>0</td>\n      <td>1</td>\n      <td>1</td>\n    </tr>\n    <tr>\n      <th>2629</th>\n      <td>1</td>\n      <td>0</td>\n      <td>1</td>\n    </tr>\n    <tr>\n      <th>2659</th>\n      <td>1</td>\n      <td>0</td>\n      <td>1</td>\n    </tr>\n    <tr>\n      <th>3371</th>\n      <td>1</td>\n      <td>0</td>\n      <td>1</td>\n    </tr>\n    <tr>\n      <th>2122</th>\n      <td>0</td>\n      <td>1</td>\n      <td>1</td>\n    </tr>\n    <tr>\n      <th>1051</th>\n      <td>0</td>\n      <td>1</td>\n      <td>1</td>\n    </tr>\n    <tr>\n      <th>2141</th>\n      <td>0</td>\n      <td>1</td>\n      <td>1</td>\n    </tr>\n    <tr>\n      <th>1168</th>\n      <td>0</td>\n      <td>1</td>\n      <td>1</td>\n    </tr>\n    <tr>\n      <th>4027</th>\n      <td>1</td>\n      <td>0</td>\n      <td>1</td>\n    </tr>\n    <tr>\n      <th>959</th>\n      <td>0</td>\n      <td>1</td>\n      <td>1</td>\n    </tr>\n    <tr>\n      <th>264</th>\n      <td>0</td>\n      <td>1</td>\n      <td>1</td>\n    </tr>\n  </tbody>\n</table>\n</div>"
     },
     "metadata": {},
     "execution_count": 316
    }
   ],
   "source": [
    "df_best_model['wrong'] = abs(df_best_model['actual'] - df_best_model['preds']) # Creating wrong indices column\n",
    "df_best_model[df_best_model['wrong']==1].head(20)"
   ]
  },
  {
   "cell_type": "code",
   "execution_count": 337,
   "metadata": {},
   "outputs": [
    {
     "output_type": "execute_result",
     "data": {
      "text/plain": [
       "168"
      ]
     },
     "metadata": {},
     "execution_count": 337
    }
   ],
   "source": [
    "df_best_model['wrong'].sum()"
   ]
  },
  {
   "cell_type": "code",
   "execution_count": 437,
   "metadata": {},
   "outputs": [
    {
     "output_type": "execute_result",
     "data": {
      "text/plain": [
       "      subreddit                                         clean_post\n",
       "3625          1  can you connect firecube to both tv speaker an...\n",
       "4669          1  connecting to pc | okay so essentially i have ...\n",
       "4326          1  i just got a google hub it show nice picture m...\n",
       "3224          1  echo not on same wifi but they are | strange i...\n",
       "1408          0  anybody have any experience with using crypto ...\n",
       "50            0  google store problem placing an order | so i h...\n",
       "5070          1  new smart home interface on fire tablet hope t...\n",
       "2328          0  question about room device naming | new to goo...\n",
       "475           0  quiter than normal | so ive thought i might ha...\n",
       "784           0  ok google 96 divided by 2 google home streamin..."
      ],
      "text/html": "<div>\n<style scoped>\n    .dataframe tbody tr th:only-of-type {\n        vertical-align: middle;\n    }\n\n    .dataframe tbody tr th {\n        vertical-align: top;\n    }\n\n    .dataframe thead th {\n        text-align: right;\n    }\n</style>\n<table border=\"1\" class=\"dataframe\">\n  <thead>\n    <tr style=\"text-align: right;\">\n      <th></th>\n      <th>subreddit</th>\n      <th>clean_post</th>\n    </tr>\n  </thead>\n  <tbody>\n    <tr>\n      <th>3625</th>\n      <td>1</td>\n      <td>can you connect firecube to both tv speaker an...</td>\n    </tr>\n    <tr>\n      <th>4669</th>\n      <td>1</td>\n      <td>connecting to pc | okay so essentially i have ...</td>\n    </tr>\n    <tr>\n      <th>4326</th>\n      <td>1</td>\n      <td>i just got a google hub it show nice picture m...</td>\n    </tr>\n    <tr>\n      <th>3224</th>\n      <td>1</td>\n      <td>echo not on same wifi but they are | strange i...</td>\n    </tr>\n    <tr>\n      <th>1408</th>\n      <td>0</td>\n      <td>anybody have any experience with using crypto ...</td>\n    </tr>\n    <tr>\n      <th>50</th>\n      <td>0</td>\n      <td>google store problem placing an order | so i h...</td>\n    </tr>\n    <tr>\n      <th>5070</th>\n      <td>1</td>\n      <td>new smart home interface on fire tablet hope t...</td>\n    </tr>\n    <tr>\n      <th>2328</th>\n      <td>0</td>\n      <td>question about room device naming | new to goo...</td>\n    </tr>\n    <tr>\n      <th>475</th>\n      <td>0</td>\n      <td>quiter than normal | so ive thought i might ha...</td>\n    </tr>\n    <tr>\n      <th>784</th>\n      <td>0</td>\n      <td>ok google 96 divided by 2 google home streamin...</td>\n    </tr>\n  </tbody>\n</table>\n</div>"
     },
     "metadata": {},
     "execution_count": 437
    }
   ],
   "source": [
    "df.loc[df_best_model[df_best_model['wrong']==1].index,['subreddit', 'clean_post']].head(10)"
   ]
  },
  {
   "source": [
    "Looking at the misclassified posts, some are misclassified due to short word count or posts unrelated to the subreddit which result in a lack of information for the model, while others involve comparisons between google and amazon that may belong in either subreddit."
   ],
   "cell_type": "markdown",
   "metadata": {}
  },
  {
   "cell_type": "code",
   "execution_count": 327,
   "metadata": {},
   "outputs": [
    {
     "output_type": "execute_result",
     "data": {
      "text/plain": [
       "'connecting to pc | okay so essentially i have a strand of light plugged into a smart plug is it possible to have the light turn on off when my pc turn on off'"
      ]
     },
     "metadata": {},
     "execution_count": 327
    }
   ],
   "source": [
    "df.loc[4669,'clean_post']"
   ]
  },
  {
   "cell_type": "code",
   "execution_count": 328,
   "metadata": {},
   "outputs": [
    {
     "output_type": "execute_result",
     "data": {
      "text/plain": [
       "'i just got a google hub it show nice picture my echo show mostly show ad and annoying sh t can i turn that off and only show picture | my echo show show idiotic stuff like the last song i played on a different device why tf would i care about that and commercial for movie i dont want to watch i just want it to show me the time and my photo unless i ask for something can i turn off this spam ive looked at the setting and found nothing on my own'"
      ]
     },
     "metadata": {},
     "execution_count": 328
    }
   ],
   "source": [
    "df.loc[4326,'clean_post']"
   ]
  },
  {
   "cell_type": "code",
   "execution_count": 330,
   "metadata": {},
   "outputs": [
    {
     "output_type": "execute_result",
     "data": {
      "text/plain": [
       "'anybody have any experience with using crypto signaling and who would you recommend |'"
      ]
     },
     "metadata": {},
     "execution_count": 330
    }
   ],
   "source": [
    "df.loc[1408,'clean_post']"
   ]
  },
  {
   "cell_type": "code",
   "execution_count": 331,
   "metadata": {},
   "outputs": [
    {
     "output_type": "execute_result",
     "data": {
      "text/plain": [
       "'google store problem placing an order | so i have a few item in my cart i go to check out and it just brings me to a black screen ive tried different internet browser ive tried on my phone it wont let me complete the checkout ha anyone else struggled with placing an order through the google store the past few day'"
      ]
     },
     "metadata": {},
     "execution_count": 331
    }
   ],
   "source": [
    "df.loc[50,'clean_post']"
   ]
  },
  {
   "cell_type": "code",
   "execution_count": 332,
   "metadata": {},
   "outputs": [
    {
     "output_type": "execute_result",
     "data": {
      "text/plain": [
       "'new smart home interface on fire tablet hope this come to the new show |'"
      ]
     },
     "metadata": {},
     "execution_count": 332
    }
   ],
   "source": [
    "df.loc[5070,'clean_post']"
   ]
  },
  {
   "source": [
    "#### Sentiment Analysis"
   ],
   "cell_type": "markdown",
   "metadata": {}
  },
  {
   "source": [
    "In order to analyse sentiment, positive valence words and negative valence words were chosen and their coefficients examined. Under logistic regression, posts with words with higher coefficients would generally result in a predicted probability close to 1, resulting in the post being classified as under r/amazonecho. Conversely, posts with words with lower coefficients would result in a predicted probability close to 0, resulting in the post being classified as under r/googlehome. Hence, words with higher coefficients indicate that they are more unique to the r/amazonecho subreddit, while the words with lower coefficients indicate that they are more unique to the r/googlehome subreddit.\n",
    "\n",
    "The coefficients for positive words seem to be higher than the coefficient for negative words. We infer that r/amazonecho seems to have more positive sentiment compared to r/googlehome."
   ],
   "cell_type": "markdown",
   "metadata": {}
  },
  {
   "cell_type": "code",
   "execution_count": 381,
   "metadata": {},
   "outputs": [
    {
     "output_type": "stream",
     "name": "stdout",
     "text": [
      "Coefficient for 'good': 0.2442363745939605\nCoefficient for 'great': 0.5523323473100897\nCoefficient for 'best': 0.1608618383975604\nCoefficient for 'happy': 0.10638560832739494\nCoefficient for 'love': 0.5097944532449921\n \nCoefficient for 'bad': -0.38764733613472535\nCoefficient for 'terrible': 0.09901169793414415\nCoefficient for 'horrible': 0.08491289344867509\nCoefficient for 'issue': -0.10671726451620198\nCoefficient for 'problem': 0.10929821574220881\n"
     ]
    }
   ],
   "source": [
    "print(f'Coefficient for \\'good\\': {coef_tvec.loc[\"good\", :][0]}')\n",
    "print(f'Coefficient for \\'great\\': {coef_tvec.loc[\"great\", :][0]}')\n",
    "print(f'Coefficient for \\'best\\': {coef_tvec.loc[\"best\", :][0]}')\n",
    "print(f'Coefficient for \\'happy\\': {coef_tvec.loc[\"happy\", :][0]}')\n",
    "print(f'Coefficient for \\'love\\': {coef_tvec.loc[\"love\", :][0]}')\n",
    "\n",
    "print(' ')\n",
    "print(f'Coefficient for \\'bad\\': {coef_tvec.loc[\"bad\", :][0]}')\n",
    "print(f'Coefficient for \\'terrible\\': {coef_tvec.loc[\"terrible\", :][0]}')\n",
    "print(f'Coefficient for \\'horrible\\': {coef_tvec.loc[\"horrible\", :][0]}')\n",
    "print(f'Coefficient for \\'issue\\': {coef_tvec.loc[\"issue\", :][0]}')\n",
    "print(f'Coefficient for \\'problem\\': {coef_tvec.loc[\"problem\", :][0]}')"
   ]
  }
 ]
}